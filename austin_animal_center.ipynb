{
 "cells": [
  {
   "cell_type": "markdown",
   "metadata": {},
   "source": [
    "# Austin Animal Center Intakes and Outcomes\n",
    "\n",
    "##### Alona Varshal\n",
    "\n",
    "Data Analysis Project\n",
    "\n",
    "July 2016"
   ]
  },
  {
   "cell_type": "markdown",
   "metadata": {},
   "source": [
    "##### This is my first data analysis project. I obtained the data from the Austin Open Data Portal (https://data.austintexas.gov/).\n",
    "\n",
    "#### Questions:\n",
    "\n",
    "A. Intakes\n",
    "- What is the distribution of animal types among the intakes? \n",
    "- What is the intake type that is most predominant?\n",
    "- Predominant dog breed among strays? among surrendered?\n",
    "\n",
    "\n",
    "B. Outcomes\n",
    "- Among dogs, what is breed is the most adopted?\n",
    "- \n"
   ]
  },
  {
   "cell_type": "markdown",
   "metadata": {},
   "source": [
    "# Animal Intakes"
   ]
  },
  {
   "cell_type": "markdown",
   "metadata": {},
   "source": [
    "Desciption\n",
    "\n",
    "(obtained from https://data.austintexas.gov/Health/Austin-Animal-Center-Intakes/wter-evkm)\n",
    "\n",
    "Animal Center Intakes from Oct, 1st 2013 to present. Intakes represent animals brought to the center by citizens or Animal Services staff. Animals may be brought to the center as lost, injured or for the purpose of adoption. Animals may also be brought to the center as Public Assist. The found location is often only an estimation of where the animal was found. All animals receive a unique Animal ID during intake.\n",
    "\n",
    "This data set replaces all previous Animal Center Intakes data sets.\n",
    "\n",
    "THIS DATA SET IS STILL IN BETA."
   ]
  },
  {
   "cell_type": "code",
   "execution_count": 1,
   "metadata": {
    "collapsed": true
   },
   "outputs": [],
   "source": [
    "import pandas as pd\n",
    "import numpy as np\n",
    "import matplotlib.pyplot as plt\n",
    "import seaborn as sns"
   ]
  },
  {
   "cell_type": "code",
   "execution_count": 2,
   "metadata": {
    "collapsed": true
   },
   "outputs": [],
   "source": [
    "%matplotlib inline"
   ]
  },
  {
   "cell_type": "code",
   "execution_count": 3,
   "metadata": {
    "collapsed": false
   },
   "outputs": [],
   "source": [
    "animalintake_df = pd.DataFrame.from_csv('../austin_animal_center/austin_animal_center_intakes.csv', index_col=None, encoding='utf=8')"
   ]
  },
  {
   "cell_type": "code",
   "execution_count": 4,
   "metadata": {
    "collapsed": false
   },
   "outputs": [
    {
     "data": {
      "text/html": [
       "<div>\n",
       "<table border=\"1\" class=\"dataframe\">\n",
       "  <thead>\n",
       "    <tr style=\"text-align: right;\">\n",
       "      <th></th>\n",
       "      <th>Animal ID</th>\n",
       "      <th>Name</th>\n",
       "      <th>DateTime</th>\n",
       "      <th>MonthYear</th>\n",
       "      <th>Found Location</th>\n",
       "      <th>Intake Type</th>\n",
       "      <th>Intake Condition</th>\n",
       "      <th>Animal Type</th>\n",
       "      <th>Sex upon Intake</th>\n",
       "      <th>Age upon Intake</th>\n",
       "      <th>Breed</th>\n",
       "      <th>Color</th>\n",
       "    </tr>\n",
       "  </thead>\n",
       "  <tbody>\n",
       "    <tr>\n",
       "      <th>0</th>\n",
       "      <td>A521520</td>\n",
       "      <td>Nina</td>\n",
       "      <td>10/01/2013 07:51:00 AM</td>\n",
       "      <td>10/01/2013 07:51:00 AM</td>\n",
       "      <td>Norht Ec in Austin (TX)</td>\n",
       "      <td>Stray</td>\n",
       "      <td>Normal</td>\n",
       "      <td>Dog</td>\n",
       "      <td>Spayed Female</td>\n",
       "      <td>7 years</td>\n",
       "      <td>Border Terrier/Border Collie</td>\n",
       "      <td>White/Tan</td>\n",
       "    </tr>\n",
       "    <tr>\n",
       "      <th>1</th>\n",
       "      <td>A664235</td>\n",
       "      <td>NaN</td>\n",
       "      <td>10/01/2013 08:33:00 AM</td>\n",
       "      <td>10/01/2013 08:33:00 AM</td>\n",
       "      <td>Abia in Austin (TX)</td>\n",
       "      <td>Stray</td>\n",
       "      <td>Normal</td>\n",
       "      <td>Cat</td>\n",
       "      <td>Unknown</td>\n",
       "      <td>1 week</td>\n",
       "      <td>Domestic Shorthair Mix</td>\n",
       "      <td>Orange/White</td>\n",
       "    </tr>\n",
       "  </tbody>\n",
       "</table>\n",
       "</div>"
      ],
      "text/plain": [
       "  Animal ID  Name                DateTime               MonthYear  \\\n",
       "0   A521520  Nina  10/01/2013 07:51:00 AM  10/01/2013 07:51:00 AM   \n",
       "1   A664235   NaN  10/01/2013 08:33:00 AM  10/01/2013 08:33:00 AM   \n",
       "\n",
       "            Found Location Intake Type Intake Condition Animal Type  \\\n",
       "0  Norht Ec in Austin (TX)       Stray           Normal         Dog   \n",
       "1      Abia in Austin (TX)       Stray           Normal         Cat   \n",
       "\n",
       "  Sex upon Intake Age upon Intake                         Breed         Color  \n",
       "0   Spayed Female         7 years  Border Terrier/Border Collie     White/Tan  \n",
       "1         Unknown          1 week        Domestic Shorthair Mix  Orange/White  "
      ]
     },
     "execution_count": 4,
     "metadata": {},
     "output_type": "execute_result"
    }
   ],
   "source": [
    "animalintake_df.head(2)"
   ]
  },
  {
   "cell_type": "code",
   "execution_count": 11,
   "metadata": {
    "collapsed": false
   },
   "outputs": [
    {
     "data": {
      "text/html": [
       "<div>\n",
       "<table border=\"1\" class=\"dataframe\">\n",
       "  <thead>\n",
       "    <tr style=\"text-align: right;\">\n",
       "      <th></th>\n",
       "      <th>Animal ID</th>\n",
       "      <th>Name</th>\n",
       "      <th>DateTime</th>\n",
       "      <th>MonthYear</th>\n",
       "      <th>Found Location</th>\n",
       "      <th>Intake Type</th>\n",
       "      <th>Intake Condition</th>\n",
       "      <th>Animal Type</th>\n",
       "      <th>Sex upon Intake</th>\n",
       "      <th>Age upon Intake</th>\n",
       "      <th>Breed</th>\n",
       "      <th>Color</th>\n",
       "    </tr>\n",
       "  </thead>\n",
       "  <tbody>\n",
       "    <tr>\n",
       "      <th>0</th>\n",
       "      <td>A521520</td>\n",
       "      <td>Nina</td>\n",
       "      <td>10/01/2013 07:51:00 AM</td>\n",
       "      <td>10/01/2013 07:51:00 AM</td>\n",
       "      <td>Norht Ec in Austin (TX)</td>\n",
       "      <td>Stray</td>\n",
       "      <td>Normal</td>\n",
       "      <td>Dog</td>\n",
       "      <td>Spayed Female</td>\n",
       "      <td>7 years</td>\n",
       "      <td>Border Terrier/Border Collie</td>\n",
       "      <td>White/Tan</td>\n",
       "    </tr>\n",
       "    <tr>\n",
       "      <th>4</th>\n",
       "      <td>A664233</td>\n",
       "      <td>Stevie</td>\n",
       "      <td>10/01/2013 08:53:00 AM</td>\n",
       "      <td>10/01/2013 08:53:00 AM</td>\n",
       "      <td>7405 Springtime in Austin (TX)</td>\n",
       "      <td>Stray</td>\n",
       "      <td>Injured</td>\n",
       "      <td>Dog</td>\n",
       "      <td>Intact Female</td>\n",
       "      <td>3 years</td>\n",
       "      <td>Pit Bull Mix</td>\n",
       "      <td>Blue/White</td>\n",
       "    </tr>\n",
       "    <tr>\n",
       "      <th>7</th>\n",
       "      <td>A664256</td>\n",
       "      <td>*Donnie</td>\n",
       "      <td>10/01/2013 10:59:00 AM</td>\n",
       "      <td>10/01/2013 10:59:00 AM</td>\n",
       "      <td>Austin (TX)</td>\n",
       "      <td>Owner Surrender</td>\n",
       "      <td>Normal</td>\n",
       "      <td>Cat</td>\n",
       "      <td>Neutered Male</td>\n",
       "      <td>17 years</td>\n",
       "      <td>Domestic Shorthair Mix</td>\n",
       "      <td>Brown Tabby/White</td>\n",
       "    </tr>\n",
       "    <tr>\n",
       "      <th>8</th>\n",
       "      <td>A664257</td>\n",
       "      <td>Pippin</td>\n",
       "      <td>10/01/2013 11:01:00 AM</td>\n",
       "      <td>10/01/2013 11:01:00 AM</td>\n",
       "      <td>Burleson in Travis (TX)</td>\n",
       "      <td>Stray</td>\n",
       "      <td>Normal</td>\n",
       "      <td>Dog</td>\n",
       "      <td>Intact Female</td>\n",
       "      <td>4 years</td>\n",
       "      <td>Podengo Pequeno Mix</td>\n",
       "      <td>Black</td>\n",
       "    </tr>\n",
       "    <tr>\n",
       "      <th>10</th>\n",
       "      <td>A664258</td>\n",
       "      <td>Sylvio</td>\n",
       "      <td>10/01/2013 11:15:00 AM</td>\n",
       "      <td>10/01/2013 11:15:00 AM</td>\n",
       "      <td>Fm 1626/Manchaca Rd in Travis (TX)</td>\n",
       "      <td>Stray</td>\n",
       "      <td>Normal</td>\n",
       "      <td>Dog</td>\n",
       "      <td>Neutered Male</td>\n",
       "      <td>7 years</td>\n",
       "      <td>Weimaraner Mix</td>\n",
       "      <td>Silver</td>\n",
       "    </tr>\n",
       "  </tbody>\n",
       "</table>\n",
       "</div>"
      ],
      "text/plain": [
       "   Animal ID     Name                DateTime               MonthYear  \\\n",
       "0    A521520     Nina  10/01/2013 07:51:00 AM  10/01/2013 07:51:00 AM   \n",
       "4    A664233   Stevie  10/01/2013 08:53:00 AM  10/01/2013 08:53:00 AM   \n",
       "7    A664256  *Donnie  10/01/2013 10:59:00 AM  10/01/2013 10:59:00 AM   \n",
       "8    A664257   Pippin  10/01/2013 11:01:00 AM  10/01/2013 11:01:00 AM   \n",
       "10   A664258   Sylvio  10/01/2013 11:15:00 AM  10/01/2013 11:15:00 AM   \n",
       "\n",
       "                        Found Location      Intake Type Intake Condition  \\\n",
       "0              Norht Ec in Austin (TX)            Stray           Normal   \n",
       "4       7405 Springtime in Austin (TX)            Stray          Injured   \n",
       "7                          Austin (TX)  Owner Surrender           Normal   \n",
       "8              Burleson in Travis (TX)            Stray           Normal   \n",
       "10  Fm 1626/Manchaca Rd in Travis (TX)            Stray           Normal   \n",
       "\n",
       "   Animal Type Sex upon Intake Age upon Intake                         Breed  \\\n",
       "0          Dog   Spayed Female         7 years  Border Terrier/Border Collie   \n",
       "4          Dog   Intact Female         3 years                  Pit Bull Mix   \n",
       "7          Cat   Neutered Male        17 years        Domestic Shorthair Mix   \n",
       "8          Dog   Intact Female         4 years           Podengo Pequeno Mix   \n",
       "10         Dog   Neutered Male         7 years                Weimaraner Mix   \n",
       "\n",
       "                Color  \n",
       "0           White/Tan  \n",
       "4          Blue/White  \n",
       "7   Brown Tabby/White  \n",
       "8               Black  \n",
       "10             Silver  "
      ]
     },
     "execution_count": 11,
     "metadata": {},
     "output_type": "execute_result"
    }
   ],
   "source": [
    "animalintake_df[animalintake_df.Name.notnull()].head()"
   ]
  },
  {
   "cell_type": "code",
   "execution_count": null,
   "metadata": {
    "collapsed": true
   },
   "outputs": [],
   "source": []
  },
  {
   "cell_type": "code",
   "execution_count": null,
   "metadata": {
    "collapsed": true
   },
   "outputs": [],
   "source": []
  },
  {
   "cell_type": "code",
   "execution_count": null,
   "metadata": {
    "collapsed": true
   },
   "outputs": [],
   "source": []
  },
  {
   "cell_type": "markdown",
   "metadata": {},
   "source": [
    "### Finding if there are duplicates / Removing duplicates"
   ]
  },
  {
   "cell_type": "code",
   "execution_count": 12,
   "metadata": {
    "collapsed": true
   },
   "outputs": [],
   "source": [
    "animalintake_df_dupsremoved = animalintake_df.drop_duplicates()"
   ]
  },
  {
   "cell_type": "code",
   "execution_count": 6,
   "metadata": {
    "collapsed": false
   },
   "outputs": [
    {
     "data": {
      "text/plain": [
       "52052"
      ]
     },
     "execution_count": 6,
     "metadata": {},
     "output_type": "execute_result"
    }
   ],
   "source": [
    "len(animalintake_df_dupsremoved)"
   ]
  },
  {
   "cell_type": "code",
   "execution_count": 7,
   "metadata": {
    "collapsed": false
   },
   "outputs": [
    {
     "data": {
      "text/plain": [
       "52061"
      ]
     },
     "execution_count": 7,
     "metadata": {},
     "output_type": "execute_result"
    }
   ],
   "source": [
    "len(animalintake_df)"
   ]
  },
  {
   "cell_type": "code",
   "execution_count": 9,
   "metadata": {
    "collapsed": true
   },
   "outputs": [],
   "source": [
    "# There are duplicates!"
   ]
  },
  {
   "cell_type": "code",
   "execution_count": 13,
   "metadata": {
    "collapsed": false
   },
   "outputs": [
    {
     "data": {
      "text/plain": [
       "A706536    10\n",
       "A694501     8\n",
       "A683108     7\n",
       "A671704     7\n",
       "A701901     6\n",
       "Name: Animal ID, dtype: int64"
      ]
     },
     "execution_count": 13,
     "metadata": {},
     "output_type": "execute_result"
    }
   ],
   "source": [
    "animalintake_df_dupsremoved[\"Animal ID\"].value_counts().head()"
   ]
  },
  {
   "cell_type": "markdown",
   "metadata": {},
   "source": [
    "#### As can be seen above, there are still some that occur repeatedly."
   ]
  },
  {
   "cell_type": "code",
   "execution_count": 14,
   "metadata": {
    "collapsed": true
   },
   "outputs": [],
   "source": [
    "# Shortening the DataFrame name:\n",
    "animalintakes_df = animalintake_df_dupsremoved"
   ]
  },
  {
   "cell_type": "markdown",
   "metadata": {},
   "source": [
    "### Looking closely at the repeating animal IDs:"
   ]
  },
  {
   "cell_type": "code",
   "execution_count": 14,
   "metadata": {
    "collapsed": false
   },
   "outputs": [
    {
     "data": {
      "text/html": [
       "<div>\n",
       "<table border=\"1\" class=\"dataframe\">\n",
       "  <thead>\n",
       "    <tr style=\"text-align: right;\">\n",
       "      <th></th>\n",
       "      <th>Animal ID</th>\n",
       "      <th>Name</th>\n",
       "      <th>DateTime</th>\n",
       "      <th>MonthYear</th>\n",
       "      <th>Found Location</th>\n",
       "      <th>Intake Type</th>\n",
       "      <th>Intake Condition</th>\n",
       "      <th>Animal Type</th>\n",
       "      <th>Sex upon Intake</th>\n",
       "      <th>Age upon Intake</th>\n",
       "      <th>Breed</th>\n",
       "      <th>Color</th>\n",
       "    </tr>\n",
       "  </thead>\n",
       "  <tbody>\n",
       "    <tr>\n",
       "      <th>32258</th>\n",
       "      <td>A706536</td>\n",
       "      <td>Butch</td>\n",
       "      <td>06/30/2015 10:55:00 AM</td>\n",
       "      <td>06/30/2015 10:55:00 AM</td>\n",
       "      <td>2820 S Lamar in Austin (TX)</td>\n",
       "      <td>Public Assist</td>\n",
       "      <td>Normal</td>\n",
       "      <td>Dog</td>\n",
       "      <td>Neutered Male</td>\n",
       "      <td>5 years</td>\n",
       "      <td>English Bulldog</td>\n",
       "      <td>Tan/White</td>\n",
       "    </tr>\n",
       "    <tr>\n",
       "      <th>33347</th>\n",
       "      <td>A706536</td>\n",
       "      <td>Butch</td>\n",
       "      <td>07/20/2015 10:19:00 AM</td>\n",
       "      <td>07/20/2015 10:19:00 AM</td>\n",
       "      <td>5100 West Us Hwy 290 Svrd Wb in Austin (TX)</td>\n",
       "      <td>Public Assist</td>\n",
       "      <td>Normal</td>\n",
       "      <td>Dog</td>\n",
       "      <td>Neutered Male</td>\n",
       "      <td>5 years</td>\n",
       "      <td>English Bulldog</td>\n",
       "      <td>Tan/White</td>\n",
       "    </tr>\n",
       "    <tr>\n",
       "      <th>33725</th>\n",
       "      <td>A706536</td>\n",
       "      <td>Butch</td>\n",
       "      <td>07/27/2015 04:02:00 PM</td>\n",
       "      <td>07/27/2015 04:02:00 PM</td>\n",
       "      <td>5100 West Ben White Blvd in Austin (TX)</td>\n",
       "      <td>Public Assist</td>\n",
       "      <td>Normal</td>\n",
       "      <td>Dog</td>\n",
       "      <td>Neutered Male</td>\n",
       "      <td>5 years</td>\n",
       "      <td>English Bulldog</td>\n",
       "      <td>Tan/White</td>\n",
       "    </tr>\n",
       "    <tr>\n",
       "      <th>38403</th>\n",
       "      <td>A706536</td>\n",
       "      <td>Butch</td>\n",
       "      <td>10/21/2015 05:07:00 PM</td>\n",
       "      <td>10/21/2015 05:07:00 PM</td>\n",
       "      <td>Austin (TX)</td>\n",
       "      <td>Public Assist</td>\n",
       "      <td>Normal</td>\n",
       "      <td>Dog</td>\n",
       "      <td>Neutered Male</td>\n",
       "      <td>5 years</td>\n",
       "      <td>English Bulldog</td>\n",
       "      <td>Tan/White</td>\n",
       "    </tr>\n",
       "    <tr>\n",
       "      <th>41169</th>\n",
       "      <td>A706536</td>\n",
       "      <td>Butch</td>\n",
       "      <td>12/20/2015 02:06:00 PM</td>\n",
       "      <td>12/20/2015 02:06:00 PM</td>\n",
       "      <td>5100 Us-290 in Austin (TX)</td>\n",
       "      <td>Public Assist</td>\n",
       "      <td>Normal</td>\n",
       "      <td>Dog</td>\n",
       "      <td>Neutered Male</td>\n",
       "      <td>5 years</td>\n",
       "      <td>English Bulldog</td>\n",
       "      <td>Tan/White</td>\n",
       "    </tr>\n",
       "    <tr>\n",
       "      <th>41833</th>\n",
       "      <td>A706536</td>\n",
       "      <td>Butch</td>\n",
       "      <td>01/08/2016 11:37:00 AM</td>\n",
       "      <td>01/08/2016 11:37:00 AM</td>\n",
       "      <td>5100 Us 290 #302 in Austin (TX)</td>\n",
       "      <td>Public Assist</td>\n",
       "      <td>Normal</td>\n",
       "      <td>Dog</td>\n",
       "      <td>Neutered Male</td>\n",
       "      <td>5 years</td>\n",
       "      <td>English Bulldog</td>\n",
       "      <td>Tan/White</td>\n",
       "    </tr>\n",
       "    <tr>\n",
       "      <th>43329</th>\n",
       "      <td>A706536</td>\n",
       "      <td>Butch</td>\n",
       "      <td>02/15/2016 12:38:00 PM</td>\n",
       "      <td>02/15/2016 12:38:00 PM</td>\n",
       "      <td>Austin (TX)</td>\n",
       "      <td>Stray</td>\n",
       "      <td>Normal</td>\n",
       "      <td>Dog</td>\n",
       "      <td>Neutered Male</td>\n",
       "      <td>5 years</td>\n",
       "      <td>English Bulldog</td>\n",
       "      <td>Tan/White</td>\n",
       "    </tr>\n",
       "    <tr>\n",
       "      <th>43589</th>\n",
       "      <td>A706536</td>\n",
       "      <td>Butch</td>\n",
       "      <td>02/22/2016 09:46:00 AM</td>\n",
       "      <td>02/22/2016 09:46:00 AM</td>\n",
       "      <td>Austin (TX)</td>\n",
       "      <td>Public Assist</td>\n",
       "      <td>Normal</td>\n",
       "      <td>Dog</td>\n",
       "      <td>Neutered Male</td>\n",
       "      <td>5 years</td>\n",
       "      <td>English Bulldog</td>\n",
       "      <td>Tan/White</td>\n",
       "    </tr>\n",
       "    <tr>\n",
       "      <th>44699</th>\n",
       "      <td>A706536</td>\n",
       "      <td>Butch</td>\n",
       "      <td>03/18/2016 10:44:00 AM</td>\n",
       "      <td>03/18/2016 10:44:00 AM</td>\n",
       "      <td>10101 S 1St St #8 in Austin (TX)</td>\n",
       "      <td>Public Assist</td>\n",
       "      <td>Normal</td>\n",
       "      <td>Dog</td>\n",
       "      <td>Neutered Male</td>\n",
       "      <td>5 years</td>\n",
       "      <td>English Bulldog</td>\n",
       "      <td>Tan/White</td>\n",
       "    </tr>\n",
       "    <tr>\n",
       "      <th>45113</th>\n",
       "      <td>A706536</td>\n",
       "      <td>Butch</td>\n",
       "      <td>03/26/2016 01:50:00 PM</td>\n",
       "      <td>03/26/2016 01:50:00 PM</td>\n",
       "      <td>Austin (TX)</td>\n",
       "      <td>Public Assist</td>\n",
       "      <td>Normal</td>\n",
       "      <td>Dog</td>\n",
       "      <td>Neutered Male</td>\n",
       "      <td>5 years</td>\n",
       "      <td>English Bulldog</td>\n",
       "      <td>Tan/White</td>\n",
       "    </tr>\n",
       "  </tbody>\n",
       "</table>\n",
       "</div>"
      ],
      "text/plain": [
       "      Animal ID   Name                DateTime               MonthYear  \\\n",
       "32258   A706536  Butch  06/30/2015 10:55:00 AM  06/30/2015 10:55:00 AM   \n",
       "33347   A706536  Butch  07/20/2015 10:19:00 AM  07/20/2015 10:19:00 AM   \n",
       "33725   A706536  Butch  07/27/2015 04:02:00 PM  07/27/2015 04:02:00 PM   \n",
       "38403   A706536  Butch  10/21/2015 05:07:00 PM  10/21/2015 05:07:00 PM   \n",
       "41169   A706536  Butch  12/20/2015 02:06:00 PM  12/20/2015 02:06:00 PM   \n",
       "41833   A706536  Butch  01/08/2016 11:37:00 AM  01/08/2016 11:37:00 AM   \n",
       "43329   A706536  Butch  02/15/2016 12:38:00 PM  02/15/2016 12:38:00 PM   \n",
       "43589   A706536  Butch  02/22/2016 09:46:00 AM  02/22/2016 09:46:00 AM   \n",
       "44699   A706536  Butch  03/18/2016 10:44:00 AM  03/18/2016 10:44:00 AM   \n",
       "45113   A706536  Butch  03/26/2016 01:50:00 PM  03/26/2016 01:50:00 PM   \n",
       "\n",
       "                                    Found Location    Intake Type  \\\n",
       "32258                  2820 S Lamar in Austin (TX)  Public Assist   \n",
       "33347  5100 West Us Hwy 290 Svrd Wb in Austin (TX)  Public Assist   \n",
       "33725      5100 West Ben White Blvd in Austin (TX)  Public Assist   \n",
       "38403                                  Austin (TX)  Public Assist   \n",
       "41169                   5100 Us-290 in Austin (TX)  Public Assist   \n",
       "41833              5100 Us 290 #302 in Austin (TX)  Public Assist   \n",
       "43329                                  Austin (TX)          Stray   \n",
       "43589                                  Austin (TX)  Public Assist   \n",
       "44699             10101 S 1St St #8 in Austin (TX)  Public Assist   \n",
       "45113                                  Austin (TX)  Public Assist   \n",
       "\n",
       "      Intake Condition Animal Type Sex upon Intake Age upon Intake  \\\n",
       "32258           Normal         Dog   Neutered Male         5 years   \n",
       "33347           Normal         Dog   Neutered Male         5 years   \n",
       "33725           Normal         Dog   Neutered Male         5 years   \n",
       "38403           Normal         Dog   Neutered Male         5 years   \n",
       "41169           Normal         Dog   Neutered Male         5 years   \n",
       "41833           Normal         Dog   Neutered Male         5 years   \n",
       "43329           Normal         Dog   Neutered Male         5 years   \n",
       "43589           Normal         Dog   Neutered Male         5 years   \n",
       "44699           Normal         Dog   Neutered Male         5 years   \n",
       "45113           Normal         Dog   Neutered Male         5 years   \n",
       "\n",
       "                 Breed      Color  \n",
       "32258  English Bulldog  Tan/White  \n",
       "33347  English Bulldog  Tan/White  \n",
       "33725  English Bulldog  Tan/White  \n",
       "38403  English Bulldog  Tan/White  \n",
       "41169  English Bulldog  Tan/White  \n",
       "41833  English Bulldog  Tan/White  \n",
       "43329  English Bulldog  Tan/White  \n",
       "43589  English Bulldog  Tan/White  \n",
       "44699  English Bulldog  Tan/White  \n",
       "45113  English Bulldog  Tan/White  "
      ]
     },
     "execution_count": 14,
     "metadata": {},
     "output_type": "execute_result"
    }
   ],
   "source": [
    "animalintakes_df[animalintakes_df[\"Animal ID\"] == 'A706536']"
   ]
  },
  {
   "cell_type": "code",
   "execution_count": 15,
   "metadata": {
    "collapsed": false
   },
   "outputs": [
    {
     "data": {
      "text/html": [
       "<div>\n",
       "<table border=\"1\" class=\"dataframe\">\n",
       "  <thead>\n",
       "    <tr style=\"text-align: right;\">\n",
       "      <th></th>\n",
       "      <th>Animal ID</th>\n",
       "      <th>Name</th>\n",
       "      <th>DateTime</th>\n",
       "      <th>MonthYear</th>\n",
       "      <th>Found Location</th>\n",
       "      <th>Intake Type</th>\n",
       "      <th>Intake Condition</th>\n",
       "      <th>Animal Type</th>\n",
       "      <th>Sex upon Intake</th>\n",
       "      <th>Age upon Intake</th>\n",
       "      <th>Breed</th>\n",
       "      <th>Color</th>\n",
       "    </tr>\n",
       "  </thead>\n",
       "  <tbody>\n",
       "    <tr>\n",
       "      <th>22740</th>\n",
       "      <td>A694501</td>\n",
       "      <td>Penelope</td>\n",
       "      <td>12/29/2014 02:27:00 PM</td>\n",
       "      <td>12/29/2014 02:27:00 PM</td>\n",
       "      <td>Finch Trl And Norfolk in Austin (TX)</td>\n",
       "      <td>Stray</td>\n",
       "      <td>Normal</td>\n",
       "      <td>Dog</td>\n",
       "      <td>Intact Female</td>\n",
       "      <td>5 months</td>\n",
       "      <td>Labrador Retriever Mix</td>\n",
       "      <td>Black/White</td>\n",
       "    </tr>\n",
       "    <tr>\n",
       "      <th>24084</th>\n",
       "      <td>A694501</td>\n",
       "      <td>Penelope</td>\n",
       "      <td>02/02/2015 12:47:00 PM</td>\n",
       "      <td>02/02/2015 12:47:00 PM</td>\n",
       "      <td>Garwood And N Pleasant Valley in Austin (TX)</td>\n",
       "      <td>Stray</td>\n",
       "      <td>Normal</td>\n",
       "      <td>Dog</td>\n",
       "      <td>Spayed Female</td>\n",
       "      <td>7 months</td>\n",
       "      <td>Labrador Retriever Mix</td>\n",
       "      <td>Black/White</td>\n",
       "    </tr>\n",
       "    <tr>\n",
       "      <th>24288</th>\n",
       "      <td>A694501</td>\n",
       "      <td>Penelope</td>\n",
       "      <td>02/07/2015 01:53:00 PM</td>\n",
       "      <td>02/07/2015 01:53:00 PM</td>\n",
       "      <td>2805 Norfolk Drive in Austin (TX)</td>\n",
       "      <td>Stray</td>\n",
       "      <td>Normal</td>\n",
       "      <td>Dog</td>\n",
       "      <td>Spayed Female</td>\n",
       "      <td>7 months</td>\n",
       "      <td>Labrador Retriever Mix</td>\n",
       "      <td>Black/White</td>\n",
       "    </tr>\n",
       "    <tr>\n",
       "      <th>28678</th>\n",
       "      <td>A694501</td>\n",
       "      <td>Penelope</td>\n",
       "      <td>05/12/2015 01:11:00 AM</td>\n",
       "      <td>05/12/2015 01:11:00 AM</td>\n",
       "      <td>2816 Norfolk Dr in Austin (TX)</td>\n",
       "      <td>Stray</td>\n",
       "      <td>Normal</td>\n",
       "      <td>Dog</td>\n",
       "      <td>Spayed Female</td>\n",
       "      <td>10 months</td>\n",
       "      <td>Labrador Retriever Mix</td>\n",
       "      <td>Black/White</td>\n",
       "    </tr>\n",
       "    <tr>\n",
       "      <th>38296</th>\n",
       "      <td>A694501</td>\n",
       "      <td>Penelope</td>\n",
       "      <td>10/19/2015 04:32:00 PM</td>\n",
       "      <td>10/19/2015 04:32:00 PM</td>\n",
       "      <td>Gettysburg Dr And Seminary Ridge Dr in Austin ...</td>\n",
       "      <td>Stray</td>\n",
       "      <td>Normal</td>\n",
       "      <td>Dog</td>\n",
       "      <td>Spayed Female</td>\n",
       "      <td>1 year</td>\n",
       "      <td>Labrador Retriever Mix</td>\n",
       "      <td>Black/White</td>\n",
       "    </tr>\n",
       "    <tr>\n",
       "      <th>40184</th>\n",
       "      <td>A694501</td>\n",
       "      <td>Penelope</td>\n",
       "      <td>11/24/2015 10:02:00 PM</td>\n",
       "      <td>11/24/2015 10:02:00 PM</td>\n",
       "      <td>Goldbridge And Norfolk in Austin (TX)</td>\n",
       "      <td>Stray</td>\n",
       "      <td>Normal</td>\n",
       "      <td>Dog</td>\n",
       "      <td>Spayed Female</td>\n",
       "      <td>1 year</td>\n",
       "      <td>Labrador Retriever Mix</td>\n",
       "      <td>Black/White</td>\n",
       "    </tr>\n",
       "    <tr>\n",
       "      <th>41134</th>\n",
       "      <td>A694501</td>\n",
       "      <td>Penelope</td>\n",
       "      <td>12/19/2015 03:53:00 PM</td>\n",
       "      <td>12/19/2015 03:53:00 PM</td>\n",
       "      <td>8106 Brodie Ln in Austin (TX)</td>\n",
       "      <td>Stray</td>\n",
       "      <td>Normal</td>\n",
       "      <td>Dog</td>\n",
       "      <td>Spayed Female</td>\n",
       "      <td>1 year</td>\n",
       "      <td>Labrador Retriever Mix</td>\n",
       "      <td>Black/White</td>\n",
       "    </tr>\n",
       "    <tr>\n",
       "      <th>42250</th>\n",
       "      <td>A694501</td>\n",
       "      <td>Penelope</td>\n",
       "      <td>01/18/2016 07:08:00 AM</td>\n",
       "      <td>01/18/2016 07:08:00 AM</td>\n",
       "      <td>Inridge Dr/ Westgate in Austin (TX)</td>\n",
       "      <td>Stray</td>\n",
       "      <td>Normal</td>\n",
       "      <td>Dog</td>\n",
       "      <td>Spayed Female</td>\n",
       "      <td>1 year</td>\n",
       "      <td>Labrador Retriever Mix</td>\n",
       "      <td>Black/White</td>\n",
       "    </tr>\n",
       "  </tbody>\n",
       "</table>\n",
       "</div>"
      ],
      "text/plain": [
       "      Animal ID      Name                DateTime               MonthYear  \\\n",
       "22740   A694501  Penelope  12/29/2014 02:27:00 PM  12/29/2014 02:27:00 PM   \n",
       "24084   A694501  Penelope  02/02/2015 12:47:00 PM  02/02/2015 12:47:00 PM   \n",
       "24288   A694501  Penelope  02/07/2015 01:53:00 PM  02/07/2015 01:53:00 PM   \n",
       "28678   A694501  Penelope  05/12/2015 01:11:00 AM  05/12/2015 01:11:00 AM   \n",
       "38296   A694501  Penelope  10/19/2015 04:32:00 PM  10/19/2015 04:32:00 PM   \n",
       "40184   A694501  Penelope  11/24/2015 10:02:00 PM  11/24/2015 10:02:00 PM   \n",
       "41134   A694501  Penelope  12/19/2015 03:53:00 PM  12/19/2015 03:53:00 PM   \n",
       "42250   A694501  Penelope  01/18/2016 07:08:00 AM  01/18/2016 07:08:00 AM   \n",
       "\n",
       "                                          Found Location Intake Type  \\\n",
       "22740               Finch Trl And Norfolk in Austin (TX)       Stray   \n",
       "24084       Garwood And N Pleasant Valley in Austin (TX)       Stray   \n",
       "24288                  2805 Norfolk Drive in Austin (TX)       Stray   \n",
       "28678                     2816 Norfolk Dr in Austin (TX)       Stray   \n",
       "38296  Gettysburg Dr And Seminary Ridge Dr in Austin ...       Stray   \n",
       "40184              Goldbridge And Norfolk in Austin (TX)       Stray   \n",
       "41134                      8106 Brodie Ln in Austin (TX)       Stray   \n",
       "42250                Inridge Dr/ Westgate in Austin (TX)       Stray   \n",
       "\n",
       "      Intake Condition Animal Type Sex upon Intake Age upon Intake  \\\n",
       "22740           Normal         Dog   Intact Female        5 months   \n",
       "24084           Normal         Dog   Spayed Female        7 months   \n",
       "24288           Normal         Dog   Spayed Female        7 months   \n",
       "28678           Normal         Dog   Spayed Female       10 months   \n",
       "38296           Normal         Dog   Spayed Female          1 year   \n",
       "40184           Normal         Dog   Spayed Female          1 year   \n",
       "41134           Normal         Dog   Spayed Female          1 year   \n",
       "42250           Normal         Dog   Spayed Female          1 year   \n",
       "\n",
       "                        Breed        Color  \n",
       "22740  Labrador Retriever Mix  Black/White  \n",
       "24084  Labrador Retriever Mix  Black/White  \n",
       "24288  Labrador Retriever Mix  Black/White  \n",
       "28678  Labrador Retriever Mix  Black/White  \n",
       "38296  Labrador Retriever Mix  Black/White  \n",
       "40184  Labrador Retriever Mix  Black/White  \n",
       "41134  Labrador Retriever Mix  Black/White  \n",
       "42250  Labrador Retriever Mix  Black/White  "
      ]
     },
     "execution_count": 15,
     "metadata": {},
     "output_type": "execute_result"
    }
   ],
   "source": [
    "animalintakes_df[animalintakes_df[\"Animal ID\"] == 'A694501']"
   ]
  },
  {
   "cell_type": "code",
   "execution_count": 16,
   "metadata": {
    "collapsed": false
   },
   "outputs": [
    {
     "data": {
      "text/html": [
       "<div>\n",
       "<table border=\"1\" class=\"dataframe\">\n",
       "  <thead>\n",
       "    <tr style=\"text-align: right;\">\n",
       "      <th></th>\n",
       "      <th>Animal ID</th>\n",
       "      <th>Name</th>\n",
       "      <th>DateTime</th>\n",
       "      <th>MonthYear</th>\n",
       "      <th>Found Location</th>\n",
       "      <th>Intake Type</th>\n",
       "      <th>Intake Condition</th>\n",
       "      <th>Animal Type</th>\n",
       "      <th>Sex upon Intake</th>\n",
       "      <th>Age upon Intake</th>\n",
       "      <th>Breed</th>\n",
       "      <th>Color</th>\n",
       "    </tr>\n",
       "  </thead>\n",
       "  <tbody>\n",
       "    <tr>\n",
       "      <th>13788</th>\n",
       "      <td>A683108</td>\n",
       "      <td>Clyde</td>\n",
       "      <td>07/07/2014 01:02:00 PM</td>\n",
       "      <td>07/07/2014 01:02:00 PM</td>\n",
       "      <td>6801 S I H 35 in Austin (TX)</td>\n",
       "      <td>Public Assist</td>\n",
       "      <td>Normal</td>\n",
       "      <td>Dog</td>\n",
       "      <td>Neutered Male</td>\n",
       "      <td>7 years</td>\n",
       "      <td>Australian Cattle Dog/Akita</td>\n",
       "      <td>Brown/White</td>\n",
       "    </tr>\n",
       "    <tr>\n",
       "      <th>15211</th>\n",
       "      <td>A683108</td>\n",
       "      <td>Clyde</td>\n",
       "      <td>07/29/2014 05:52:00 PM</td>\n",
       "      <td>07/29/2014 05:52:00 PM</td>\n",
       "      <td>1941 E. William Cannon in Austin (TX)</td>\n",
       "      <td>Stray</td>\n",
       "      <td>Normal</td>\n",
       "      <td>Dog</td>\n",
       "      <td>Neutered Male</td>\n",
       "      <td>7 years</td>\n",
       "      <td>Australian Cattle Dog/Akita</td>\n",
       "      <td>Brown/White</td>\n",
       "    </tr>\n",
       "    <tr>\n",
       "      <th>18952</th>\n",
       "      <td>A683108</td>\n",
       "      <td>Clyde</td>\n",
       "      <td>10/07/2014 12:22:00 PM</td>\n",
       "      <td>10/07/2014 12:22:00 PM</td>\n",
       "      <td>4715 S Congress in Austin (TX)</td>\n",
       "      <td>Public Assist</td>\n",
       "      <td>Normal</td>\n",
       "      <td>Dog</td>\n",
       "      <td>Neutered Male</td>\n",
       "      <td>7 years</td>\n",
       "      <td>Australian Cattle Dog/Akita</td>\n",
       "      <td>Brown/White</td>\n",
       "    </tr>\n",
       "    <tr>\n",
       "      <th>19792</th>\n",
       "      <td>A683108</td>\n",
       "      <td>Clyde</td>\n",
       "      <td>10/24/2014 07:21:00 AM</td>\n",
       "      <td>10/24/2014 07:21:00 AM</td>\n",
       "      <td>Ih 35 &amp; William Cannon in Austin (TX)</td>\n",
       "      <td>Stray</td>\n",
       "      <td>Normal</td>\n",
       "      <td>Dog</td>\n",
       "      <td>Neutered Male</td>\n",
       "      <td>7 years</td>\n",
       "      <td>Australian Cattle Dog/Akita</td>\n",
       "      <td>Brown/White</td>\n",
       "    </tr>\n",
       "    <tr>\n",
       "      <th>23628</th>\n",
       "      <td>A683108</td>\n",
       "      <td>Clyde</td>\n",
       "      <td>01/21/2015 03:17:00 PM</td>\n",
       "      <td>01/21/2015 03:17:00 PM</td>\n",
       "      <td>11940 Manchaca Rd in Austin (TX)</td>\n",
       "      <td>Stray</td>\n",
       "      <td>Normal</td>\n",
       "      <td>Dog</td>\n",
       "      <td>Neutered Male</td>\n",
       "      <td>7 years</td>\n",
       "      <td>Australian Cattle Dog/Akita</td>\n",
       "      <td>Brown/White</td>\n",
       "    </tr>\n",
       "    <tr>\n",
       "      <th>33092</th>\n",
       "      <td>A683108</td>\n",
       "      <td>Clyde</td>\n",
       "      <td>07/15/2015 11:52:00 AM</td>\n",
       "      <td>07/15/2015 11:52:00 AM</td>\n",
       "      <td>Austin (TX)</td>\n",
       "      <td>Public Assist</td>\n",
       "      <td>Normal</td>\n",
       "      <td>Dog</td>\n",
       "      <td>Neutered Male</td>\n",
       "      <td>8 years</td>\n",
       "      <td>Australian Cattle Dog/Akita</td>\n",
       "      <td>Brown/White</td>\n",
       "    </tr>\n",
       "    <tr>\n",
       "      <th>36054</th>\n",
       "      <td>A683108</td>\n",
       "      <td>Clyde</td>\n",
       "      <td>09/07/2015 02:01:00 PM</td>\n",
       "      <td>09/07/2015 02:01:00 PM</td>\n",
       "      <td>South First And Barton Springs in Austin (TX)</td>\n",
       "      <td>Stray</td>\n",
       "      <td>Normal</td>\n",
       "      <td>Dog</td>\n",
       "      <td>Neutered Male</td>\n",
       "      <td>8 years</td>\n",
       "      <td>Australian Cattle Dog/Akita</td>\n",
       "      <td>Brown/White</td>\n",
       "    </tr>\n",
       "  </tbody>\n",
       "</table>\n",
       "</div>"
      ],
      "text/plain": [
       "      Animal ID   Name                DateTime               MonthYear  \\\n",
       "13788   A683108  Clyde  07/07/2014 01:02:00 PM  07/07/2014 01:02:00 PM   \n",
       "15211   A683108  Clyde  07/29/2014 05:52:00 PM  07/29/2014 05:52:00 PM   \n",
       "18952   A683108  Clyde  10/07/2014 12:22:00 PM  10/07/2014 12:22:00 PM   \n",
       "19792   A683108  Clyde  10/24/2014 07:21:00 AM  10/24/2014 07:21:00 AM   \n",
       "23628   A683108  Clyde  01/21/2015 03:17:00 PM  01/21/2015 03:17:00 PM   \n",
       "33092   A683108  Clyde  07/15/2015 11:52:00 AM  07/15/2015 11:52:00 AM   \n",
       "36054   A683108  Clyde  09/07/2015 02:01:00 PM  09/07/2015 02:01:00 PM   \n",
       "\n",
       "                                      Found Location    Intake Type  \\\n",
       "13788                   6801 S I H 35 in Austin (TX)  Public Assist   \n",
       "15211          1941 E. William Cannon in Austin (TX)          Stray   \n",
       "18952                 4715 S Congress in Austin (TX)  Public Assist   \n",
       "19792          Ih 35 & William Cannon in Austin (TX)          Stray   \n",
       "23628               11940 Manchaca Rd in Austin (TX)          Stray   \n",
       "33092                                    Austin (TX)  Public Assist   \n",
       "36054  South First And Barton Springs in Austin (TX)          Stray   \n",
       "\n",
       "      Intake Condition Animal Type Sex upon Intake Age upon Intake  \\\n",
       "13788           Normal         Dog   Neutered Male         7 years   \n",
       "15211           Normal         Dog   Neutered Male         7 years   \n",
       "18952           Normal         Dog   Neutered Male         7 years   \n",
       "19792           Normal         Dog   Neutered Male         7 years   \n",
       "23628           Normal         Dog   Neutered Male         7 years   \n",
       "33092           Normal         Dog   Neutered Male         8 years   \n",
       "36054           Normal         Dog   Neutered Male         8 years   \n",
       "\n",
       "                             Breed        Color  \n",
       "13788  Australian Cattle Dog/Akita  Brown/White  \n",
       "15211  Australian Cattle Dog/Akita  Brown/White  \n",
       "18952  Australian Cattle Dog/Akita  Brown/White  \n",
       "19792  Australian Cattle Dog/Akita  Brown/White  \n",
       "23628  Australian Cattle Dog/Akita  Brown/White  \n",
       "33092  Australian Cattle Dog/Akita  Brown/White  \n",
       "36054  Australian Cattle Dog/Akita  Brown/White  "
      ]
     },
     "execution_count": 16,
     "metadata": {},
     "output_type": "execute_result"
    }
   ],
   "source": [
    "animalintakes_df[animalintakes_df[\"Animal ID\"] == 'A683108']"
   ]
  },
  {
   "cell_type": "code",
   "execution_count": 17,
   "metadata": {
    "collapsed": false
   },
   "outputs": [
    {
     "data": {
      "text/html": [
       "<div>\n",
       "<table border=\"1\" class=\"dataframe\">\n",
       "  <thead>\n",
       "    <tr style=\"text-align: right;\">\n",
       "      <th></th>\n",
       "      <th>Animal ID</th>\n",
       "      <th>Name</th>\n",
       "      <th>DateTime</th>\n",
       "      <th>MonthYear</th>\n",
       "      <th>Found Location</th>\n",
       "      <th>Intake Type</th>\n",
       "      <th>Intake Condition</th>\n",
       "      <th>Animal Type</th>\n",
       "      <th>Sex upon Intake</th>\n",
       "      <th>Age upon Intake</th>\n",
       "      <th>Breed</th>\n",
       "      <th>Color</th>\n",
       "    </tr>\n",
       "  </thead>\n",
       "  <tbody>\n",
       "    <tr>\n",
       "      <th>20517</th>\n",
       "      <td>A671704</td>\n",
       "      <td>Chloe</td>\n",
       "      <td>11/08/2014 11:23:00 AM</td>\n",
       "      <td>11/08/2014 11:23:00 AM</td>\n",
       "      <td>755 Springdale Road in Austin (TX)</td>\n",
       "      <td>Stray</td>\n",
       "      <td>Normal</td>\n",
       "      <td>Dog</td>\n",
       "      <td>Intact Female</td>\n",
       "      <td>2 years</td>\n",
       "      <td>Pit Bull/Boxer</td>\n",
       "      <td>Black/White</td>\n",
       "    </tr>\n",
       "    <tr>\n",
       "      <th>29496</th>\n",
       "      <td>A671704</td>\n",
       "      <td>Chloe</td>\n",
       "      <td>05/23/2015 07:07:00 AM</td>\n",
       "      <td>05/23/2015 07:07:00 AM</td>\n",
       "      <td>812 Springdale in Austin (TX)</td>\n",
       "      <td>Stray</td>\n",
       "      <td>Normal</td>\n",
       "      <td>Dog</td>\n",
       "      <td>Spayed Female</td>\n",
       "      <td>3 years</td>\n",
       "      <td>Pit Bull/Boxer</td>\n",
       "      <td>Black/White</td>\n",
       "    </tr>\n",
       "    <tr>\n",
       "      <th>29732</th>\n",
       "      <td>A671704</td>\n",
       "      <td>Chloe</td>\n",
       "      <td>05/27/2015 11:01:00 AM</td>\n",
       "      <td>05/27/2015 11:01:00 AM</td>\n",
       "      <td>4900 Gonzales St in Austin (TX)</td>\n",
       "      <td>Stray</td>\n",
       "      <td>Normal</td>\n",
       "      <td>Dog</td>\n",
       "      <td>Spayed Female</td>\n",
       "      <td>3 years</td>\n",
       "      <td>Pit Bull/Boxer</td>\n",
       "      <td>Black/White</td>\n",
       "    </tr>\n",
       "    <tr>\n",
       "      <th>29935</th>\n",
       "      <td>A671704</td>\n",
       "      <td>Chloe</td>\n",
       "      <td>05/29/2015 12:47:00 PM</td>\n",
       "      <td>05/29/2015 12:47:00 PM</td>\n",
       "      <td>812 Springdale in Austin (TX)</td>\n",
       "      <td>Stray</td>\n",
       "      <td>Normal</td>\n",
       "      <td>Dog</td>\n",
       "      <td>Spayed Female</td>\n",
       "      <td>3 years</td>\n",
       "      <td>Pit Bull/Boxer</td>\n",
       "      <td>Black/White</td>\n",
       "    </tr>\n",
       "    <tr>\n",
       "      <th>33095</th>\n",
       "      <td>A671704</td>\n",
       "      <td>Chloe</td>\n",
       "      <td>07/15/2015 12:16:00 PM</td>\n",
       "      <td>07/15/2015 12:16:00 PM</td>\n",
       "      <td>E 11Th St &amp; Navasota St in Austin (TX)</td>\n",
       "      <td>Stray</td>\n",
       "      <td>Normal</td>\n",
       "      <td>Dog</td>\n",
       "      <td>Spayed Female</td>\n",
       "      <td>3 years</td>\n",
       "      <td>Pit Bull/Boxer</td>\n",
       "      <td>Black/White</td>\n",
       "    </tr>\n",
       "    <tr>\n",
       "      <th>44992</th>\n",
       "      <td>A671704</td>\n",
       "      <td>Chloe</td>\n",
       "      <td>03/24/2016 04:20:00 AM</td>\n",
       "      <td>03/24/2016 04:20:00 AM</td>\n",
       "      <td>812 Springdale Rd in Austin (TX)</td>\n",
       "      <td>Stray</td>\n",
       "      <td>Normal</td>\n",
       "      <td>Dog</td>\n",
       "      <td>Spayed Female</td>\n",
       "      <td>4 years</td>\n",
       "      <td>Pit Bull/Boxer</td>\n",
       "      <td>Black/White</td>\n",
       "    </tr>\n",
       "    <tr>\n",
       "      <th>47654</th>\n",
       "      <td>A671704</td>\n",
       "      <td>Chloe</td>\n",
       "      <td>05/12/2016 04:14:00 PM</td>\n",
       "      <td>05/12/2016 04:14:00 PM</td>\n",
       "      <td>Gonzales St &amp; Mansell Ave in Austin (TX)</td>\n",
       "      <td>Stray</td>\n",
       "      <td>Normal</td>\n",
       "      <td>Dog</td>\n",
       "      <td>Spayed Female</td>\n",
       "      <td>4 years</td>\n",
       "      <td>Pit Bull/Boxer</td>\n",
       "      <td>Black/White</td>\n",
       "    </tr>\n",
       "  </tbody>\n",
       "</table>\n",
       "</div>"
      ],
      "text/plain": [
       "      Animal ID   Name                DateTime               MonthYear  \\\n",
       "20517   A671704  Chloe  11/08/2014 11:23:00 AM  11/08/2014 11:23:00 AM   \n",
       "29496   A671704  Chloe  05/23/2015 07:07:00 AM  05/23/2015 07:07:00 AM   \n",
       "29732   A671704  Chloe  05/27/2015 11:01:00 AM  05/27/2015 11:01:00 AM   \n",
       "29935   A671704  Chloe  05/29/2015 12:47:00 PM  05/29/2015 12:47:00 PM   \n",
       "33095   A671704  Chloe  07/15/2015 12:16:00 PM  07/15/2015 12:16:00 PM   \n",
       "44992   A671704  Chloe  03/24/2016 04:20:00 AM  03/24/2016 04:20:00 AM   \n",
       "47654   A671704  Chloe  05/12/2016 04:14:00 PM  05/12/2016 04:14:00 PM   \n",
       "\n",
       "                                 Found Location Intake Type Intake Condition  \\\n",
       "20517        755 Springdale Road in Austin (TX)       Stray           Normal   \n",
       "29496             812 Springdale in Austin (TX)       Stray           Normal   \n",
       "29732           4900 Gonzales St in Austin (TX)       Stray           Normal   \n",
       "29935             812 Springdale in Austin (TX)       Stray           Normal   \n",
       "33095    E 11Th St & Navasota St in Austin (TX)       Stray           Normal   \n",
       "44992          812 Springdale Rd in Austin (TX)       Stray           Normal   \n",
       "47654  Gonzales St & Mansell Ave in Austin (TX)       Stray           Normal   \n",
       "\n",
       "      Animal Type Sex upon Intake Age upon Intake           Breed        Color  \n",
       "20517         Dog   Intact Female         2 years  Pit Bull/Boxer  Black/White  \n",
       "29496         Dog   Spayed Female         3 years  Pit Bull/Boxer  Black/White  \n",
       "29732         Dog   Spayed Female         3 years  Pit Bull/Boxer  Black/White  \n",
       "29935         Dog   Spayed Female         3 years  Pit Bull/Boxer  Black/White  \n",
       "33095         Dog   Spayed Female         3 years  Pit Bull/Boxer  Black/White  \n",
       "44992         Dog   Spayed Female         4 years  Pit Bull/Boxer  Black/White  \n",
       "47654         Dog   Spayed Female         4 years  Pit Bull/Boxer  Black/White  "
      ]
     },
     "execution_count": 17,
     "metadata": {},
     "output_type": "execute_result"
    }
   ],
   "source": [
    "animalintakes_df[animalintakes_df[\"Animal ID\"] == 'A671704']"
   ]
  },
  {
   "cell_type": "code",
   "execution_count": 18,
   "metadata": {
    "collapsed": false
   },
   "outputs": [
    {
     "data": {
      "text/html": [
       "<div>\n",
       "<table border=\"1\" class=\"dataframe\">\n",
       "  <thead>\n",
       "    <tr style=\"text-align: right;\">\n",
       "      <th></th>\n",
       "      <th>Animal ID</th>\n",
       "      <th>Name</th>\n",
       "      <th>DateTime</th>\n",
       "      <th>MonthYear</th>\n",
       "      <th>Found Location</th>\n",
       "      <th>Intake Type</th>\n",
       "      <th>Intake Condition</th>\n",
       "      <th>Animal Type</th>\n",
       "      <th>Sex upon Intake</th>\n",
       "      <th>Age upon Intake</th>\n",
       "      <th>Breed</th>\n",
       "      <th>Color</th>\n",
       "    </tr>\n",
       "  </thead>\n",
       "  <tbody>\n",
       "    <tr>\n",
       "      <th>28346</th>\n",
       "      <td>A701901</td>\n",
       "      <td>Sasha</td>\n",
       "      <td>05/06/2015 09:02:00 AM</td>\n",
       "      <td>05/06/2015 09:02:00 AM</td>\n",
       "      <td>8200 Landsman in Austin (TX)</td>\n",
       "      <td>Stray</td>\n",
       "      <td>Normal</td>\n",
       "      <td>Dog</td>\n",
       "      <td>Spayed Female</td>\n",
       "      <td>1 year</td>\n",
       "      <td>Pit Bull Mix</td>\n",
       "      <td>Blue</td>\n",
       "    </tr>\n",
       "    <tr>\n",
       "      <th>29182</th>\n",
       "      <td>A701901</td>\n",
       "      <td>Sasha</td>\n",
       "      <td>05/19/2015 09:30:00 AM</td>\n",
       "      <td>05/19/2015 09:30:00 AM</td>\n",
       "      <td>8128 N Ih 35 in Austin (TX)</td>\n",
       "      <td>Public Assist</td>\n",
       "      <td>Normal</td>\n",
       "      <td>Dog</td>\n",
       "      <td>Spayed Female</td>\n",
       "      <td>1 year</td>\n",
       "      <td>Pit Bull Mix</td>\n",
       "      <td>Blue</td>\n",
       "    </tr>\n",
       "    <tr>\n",
       "      <th>35884</th>\n",
       "      <td>A701901</td>\n",
       "      <td>Sasha</td>\n",
       "      <td>09/04/2015 04:55:00 PM</td>\n",
       "      <td>09/04/2015 04:55:00 PM</td>\n",
       "      <td>1801 Wells Branch in Travis (TX)</td>\n",
       "      <td>Stray</td>\n",
       "      <td>Normal</td>\n",
       "      <td>Dog</td>\n",
       "      <td>Spayed Female</td>\n",
       "      <td>1 year</td>\n",
       "      <td>Pit Bull Mix</td>\n",
       "      <td>Blue</td>\n",
       "    </tr>\n",
       "    <tr>\n",
       "      <th>39756</th>\n",
       "      <td>A701901</td>\n",
       "      <td>Sasha</td>\n",
       "      <td>11/15/2015 01:06:00 PM</td>\n",
       "      <td>11/15/2015 01:06:00 PM</td>\n",
       "      <td>12116 Research Blvd in Austin (TX)</td>\n",
       "      <td>Public Assist</td>\n",
       "      <td>Normal</td>\n",
       "      <td>Dog</td>\n",
       "      <td>Spayed Female</td>\n",
       "      <td>1 year</td>\n",
       "      <td>Pit Bull Mix</td>\n",
       "      <td>Blue</td>\n",
       "    </tr>\n",
       "    <tr>\n",
       "      <th>40778</th>\n",
       "      <td>A701901</td>\n",
       "      <td>Sasha</td>\n",
       "      <td>12/10/2015 01:23:00 PM</td>\n",
       "      <td>12/10/2015 01:23:00 PM</td>\n",
       "      <td>Bois D' Ard Rd/ Tower Ln in Travis (TX)</td>\n",
       "      <td>Public Assist</td>\n",
       "      <td>Normal</td>\n",
       "      <td>Dog</td>\n",
       "      <td>Spayed Female</td>\n",
       "      <td>1 year</td>\n",
       "      <td>Pit Bull Mix</td>\n",
       "      <td>Blue</td>\n",
       "    </tr>\n",
       "    <tr>\n",
       "      <th>44838</th>\n",
       "      <td>A701901</td>\n",
       "      <td>Sasha</td>\n",
       "      <td>03/21/2016 09:23:00 AM</td>\n",
       "      <td>03/21/2016 09:23:00 AM</td>\n",
       "      <td>4892 W Us 290 in Sunset Valley (TX)</td>\n",
       "      <td>Public Assist</td>\n",
       "      <td>Normal</td>\n",
       "      <td>Dog</td>\n",
       "      <td>Spayed Female</td>\n",
       "      <td>1 year</td>\n",
       "      <td>Pit Bull Mix</td>\n",
       "      <td>Blue</td>\n",
       "    </tr>\n",
       "  </tbody>\n",
       "</table>\n",
       "</div>"
      ],
      "text/plain": [
       "      Animal ID   Name                DateTime               MonthYear  \\\n",
       "28346   A701901  Sasha  05/06/2015 09:02:00 AM  05/06/2015 09:02:00 AM   \n",
       "29182   A701901  Sasha  05/19/2015 09:30:00 AM  05/19/2015 09:30:00 AM   \n",
       "35884   A701901  Sasha  09/04/2015 04:55:00 PM  09/04/2015 04:55:00 PM   \n",
       "39756   A701901  Sasha  11/15/2015 01:06:00 PM  11/15/2015 01:06:00 PM   \n",
       "40778   A701901  Sasha  12/10/2015 01:23:00 PM  12/10/2015 01:23:00 PM   \n",
       "44838   A701901  Sasha  03/21/2016 09:23:00 AM  03/21/2016 09:23:00 AM   \n",
       "\n",
       "                                Found Location    Intake Type  \\\n",
       "28346             8200 Landsman in Austin (TX)          Stray   \n",
       "29182              8128 N Ih 35 in Austin (TX)  Public Assist   \n",
       "35884         1801 Wells Branch in Travis (TX)          Stray   \n",
       "39756       12116 Research Blvd in Austin (TX)  Public Assist   \n",
       "40778  Bois D' Ard Rd/ Tower Ln in Travis (TX)  Public Assist   \n",
       "44838      4892 W Us 290 in Sunset Valley (TX)  Public Assist   \n",
       "\n",
       "      Intake Condition Animal Type Sex upon Intake Age upon Intake  \\\n",
       "28346           Normal         Dog   Spayed Female          1 year   \n",
       "29182           Normal         Dog   Spayed Female          1 year   \n",
       "35884           Normal         Dog   Spayed Female          1 year   \n",
       "39756           Normal         Dog   Spayed Female          1 year   \n",
       "40778           Normal         Dog   Spayed Female          1 year   \n",
       "44838           Normal         Dog   Spayed Female          1 year   \n",
       "\n",
       "              Breed Color  \n",
       "28346  Pit Bull Mix  Blue  \n",
       "29182  Pit Bull Mix  Blue  \n",
       "35884  Pit Bull Mix  Blue  \n",
       "39756  Pit Bull Mix  Blue  \n",
       "40778  Pit Bull Mix  Blue  \n",
       "44838  Pit Bull Mix  Blue  "
      ]
     },
     "execution_count": 18,
     "metadata": {},
     "output_type": "execute_result"
    }
   ],
   "source": [
    "animalintakes_df[animalintakes_df[\"Animal ID\"] == 'A701901']"
   ]
  },
  {
   "cell_type": "markdown",
   "metadata": {},
   "source": [
    "#### It looks like there are animals that repeatedly get taken in (or get lost)!\n",
    "\n",
    "And Butch (along with other dogs) is a repeat offender!"
   ]
  },
  {
   "cell_type": "code",
   "execution_count": null,
   "metadata": {
    "collapsed": true
   },
   "outputs": [],
   "source": []
  },
  {
   "cell_type": "code",
   "execution_count": null,
   "metadata": {
    "collapsed": true
   },
   "outputs": [],
   "source": []
  },
  {
   "cell_type": "markdown",
   "metadata": {},
   "source": [
    "### Numbers of Animal Types"
   ]
  },
  {
   "cell_type": "code",
   "execution_count": 25,
   "metadata": {
    "collapsed": false
   },
   "outputs": [
    {
     "data": {
      "text/plain": [
       "Dog          29522\n",
       "Cat          19527\n",
       "Other         2799\n",
       "Bird           206\n",
       "Livestock        7\n",
       "Name: Animal Type, dtype: int64"
      ]
     },
     "execution_count": 25,
     "metadata": {},
     "output_type": "execute_result"
    }
   ],
   "source": [
    "animalintake_df[\"Animal Type\"].value_counts()"
   ]
  },
  {
   "cell_type": "markdown",
   "metadata": {},
   "source": [
    "### Creating DataFrames of Single Animal Type"
   ]
  },
  {
   "cell_type": "code",
   "execution_count": 15,
   "metadata": {
    "collapsed": false
   },
   "outputs": [],
   "source": [
    "# Cats\n",
    "cats_intake = animalintake_df[animalintake_df[\"Animal Type\"] == \"Cat\"]"
   ]
  },
  {
   "cell_type": "code",
   "execution_count": 16,
   "metadata": {
    "collapsed": false
   },
   "outputs": [],
   "source": [
    "# Dogs\n",
    "dogs_intake = animalintake_df[animalintake_df[\"Animal Type\"] == \"Dog\"]"
   ]
  },
  {
   "cell_type": "code",
   "execution_count": 17,
   "metadata": {
    "collapsed": false
   },
   "outputs": [],
   "source": [
    "# Birds\n",
    "birds_intake = animalintake_df[animalintake_df[\"Animal Type\"] == \"Bird\"]"
   ]
  },
  {
   "cell_type": "code",
   "execution_count": 18,
   "metadata": {
    "collapsed": false
   },
   "outputs": [],
   "source": [
    "# Livestock\n",
    "livestock_intake = animalintake_df[animalintake_df[\"Animal Type\"] == \"Livestock\"]"
   ]
  },
  {
   "cell_type": "code",
   "execution_count": 19,
   "metadata": {
    "collapsed": false
   },
   "outputs": [],
   "source": [
    "# Other\n",
    "others_intake = animalintake_df[animalintake_df[\"Animal Type\"] == \"Other\"]"
   ]
  },
  {
   "cell_type": "markdown",
   "metadata": {},
   "source": [
    "### Distrubution of Animal Types"
   ]
  },
  {
   "cell_type": "code",
   "execution_count": 31,
   "metadata": {
    "collapsed": false
   },
   "outputs": [
    {
     "data": {
      "text/plain": [
       "<matplotlib.text.Text at 0x118720e50>"
      ]
     },
     "execution_count": 31,
     "metadata": {},
     "output_type": "execute_result"
    },
    {
     "data": {
      "image/png": "[encoded data removed]",
      "text/plain": [
       "<matplotlib.figure.Figure at 0x1186b8f90>"
      ]
     },
     "metadata": {},
     "output_type": "display_data"
    }
   ],
   "source": [
    "animalintakes_df[\"Animal Type\"].value_counts().plot(kind='bar', figsize=(10,5))\n",
    "plt.xlabel(\"Animal Type\")\n",
    "plt.ylabel(\"Counts\")\n",
    "plt.title(\"Distribution of Animal Type Intakes \\n Austin Animal Center\", fontsize=15)"
   ]
  },
  {
   "cell_type": "markdown",
   "metadata": {},
   "source": [
    "### Numbers of Intake Type"
   ]
  },
  {
   "cell_type": "code",
   "execution_count": 32,
   "metadata": {
    "collapsed": false
   },
   "outputs": [
    {
     "data": {
      "text/plain": [
       "Stray                 37035\n",
       "Owner Surrender        9437\n",
       "Public Assist          3117\n",
       "Wildlife               2225\n",
       "Euthanasia Request      238\n",
       "Name: Intake Type, dtype: int64"
      ]
     },
     "execution_count": 32,
     "metadata": {},
     "output_type": "execute_result"
    }
   ],
   "source": [
    "animalintakes_df[\"Intake Type\"].value_counts()"
   ]
  },
  {
   "cell_type": "markdown",
   "metadata": {},
   "source": [
    "### Distribution of Animal Intake Types"
   ]
  },
  {
   "cell_type": "code",
   "execution_count": 36,
   "metadata": {
    "collapsed": false
   },
   "outputs": [
    {
     "data": {
      "text/plain": [
       "<matplotlib.text.Text at 0x11b295190>"
      ]
     },
     "execution_count": 36,
     "metadata": {},
     "output_type": "execute_result"
    },
    {
     "data": {
      "image/png": "[encoded data removed]",
      "text/plain": [
       "<matplotlib.figure.Figure at 0x11a45e250>"
      ]
     },
     "metadata": {},
     "output_type": "display_data"
    }
   ],
   "source": [
    "animalintakes_df[\"Intake Type\"].value_counts().plot(kind='bar', figsize=(10,5), color='pink')\n",
    "plt.xlabel(\"Intake Type\")\n",
    "plt.ylabel(\"Count\")\n",
    "plt.title(\"Distribution of Animal Intake Types \\n Austin Animal Center\", fontsize=15)"
   ]
  },
  {
   "cell_type": "markdown",
   "metadata": {},
   "source": [
    "### Distribution of Intake Conditions"
   ]
  },
  {
   "cell_type": "code",
   "execution_count": 35,
   "metadata": {
    "collapsed": false
   },
   "outputs": [
    {
     "data": {
      "text/plain": [
       "<matplotlib.text.Text at 0x11a708510>"
      ]
     },
     "execution_count": 35,
     "metadata": {},
     "output_type": "execute_result"
    },
    {
     "data": {
      "image/png": "[encoded data removed]",
      "text/plain": [
       "<matplotlib.figure.Figure at 0x11a196110>"
      ]
     },
     "metadata": {},
     "output_type": "display_data"
    }
   ],
   "source": [
    "animalintakes_df[\"Intake Condition\"].value_counts().plot(kind='bar', figsize=(10, 5), color='green')\n",
    "plt.xlabel(\"Intake Condition\")\n",
    "plt.ylabel(\"Count\")\n",
    "plt.title(\"Distribution of Animal Intake Condition \\n Austin Animal Center\", fontsize=15)"
   ]
  },
  {
   "cell_type": "markdown",
   "metadata": {},
   "source": [
    "### Distribution of Age Upon Intake"
   ]
  },
  {
   "cell_type": "code",
   "execution_count": 37,
   "metadata": {
    "collapsed": false
   },
   "outputs": [
    {
     "data": {
      "text/plain": [
       "<matplotlib.text.Text at 0x11b6b0a10>"
      ]
     },
     "execution_count": 37,
     "metadata": {},
     "output_type": "execute_result"
    },
    {
     "data": {
      "image/png": "[encoded data removed]",
      "text/plain": [
       "<matplotlib.figure.Figure at 0x11a454290>"
      ]
     },
     "metadata": {},
     "output_type": "display_data"
    }
   ],
   "source": [
    "animalintakes_df[\"Age upon Intake\"].value_counts().plot(kind='bar', figsize=(20,7))\n",
    "plt.xlabel(\"Age\")\n",
    "plt.ylabel(\"Count\")\n",
    "plt.title(\"Distribution of Animal Intake Ages \\n Austin Animal Center\", fontsize=15)"
   ]
  },
  {
   "cell_type": "markdown",
   "metadata": {},
   "source": [
    "### Distribution of Animal Sex Upon Intake"
   ]
  },
  {
   "cell_type": "code",
   "execution_count": 38,
   "metadata": {
    "collapsed": false
   },
   "outputs": [
    {
     "data": {
      "text/plain": [
       "<matplotlib.text.Text at 0x11c046b90>"
      ]
     },
     "execution_count": 38,
     "metadata": {},
     "output_type": "execute_result"
    },
    {
     "data": {
      "image/png": "[encoded data removed]",
      "text/plain": [
       "<matplotlib.figure.Figure at 0x11b511710>"
      ]
     },
     "metadata": {},
     "output_type": "display_data"
    }
   ],
   "source": [
    "animalintakes_df[\"Sex upon Intake\"].value_counts().plot(kind='bar', figsize=(10,5))\n",
    "plt.xlabel(\"Sex\")\n",
    "plt.ylabel(\"Count\")\n",
    "plt.title(\"Distribution of Animal Sex Intake Types \\n Austin Animal Center\", fontsize=15)"
   ]
  },
  {
   "cell_type": "markdown",
   "metadata": {},
   "source": [
    "## Dogs DataFrame"
   ]
  },
  {
   "cell_type": "markdown",
   "metadata": {},
   "source": [
    "### Distribution of Sex Upon Intakes Among Dogs"
   ]
  },
  {
   "cell_type": "code",
   "execution_count": 20,
   "metadata": {
    "collapsed": false
   },
   "outputs": [
    {
     "data": {
      "text/html": [
       "<div>\n",
       "<table border=\"1\" class=\"dataframe\">\n",
       "  <thead>\n",
       "    <tr style=\"text-align: right;\">\n",
       "      <th></th>\n",
       "      <th>Animal ID</th>\n",
       "      <th>Name</th>\n",
       "      <th>DateTime</th>\n",
       "      <th>MonthYear</th>\n",
       "      <th>Found Location</th>\n",
       "      <th>Intake Type</th>\n",
       "      <th>Intake Condition</th>\n",
       "      <th>Animal Type</th>\n",
       "      <th>Sex upon Intake</th>\n",
       "      <th>Age upon Intake</th>\n",
       "      <th>Breed</th>\n",
       "      <th>Color</th>\n",
       "    </tr>\n",
       "  </thead>\n",
       "  <tbody>\n",
       "    <tr>\n",
       "      <th>0</th>\n",
       "      <td>A521520</td>\n",
       "      <td>Nina</td>\n",
       "      <td>10/01/2013 07:51:00 AM</td>\n",
       "      <td>10/01/2013 07:51:00 AM</td>\n",
       "      <td>Norht Ec in Austin (TX)</td>\n",
       "      <td>Stray</td>\n",
       "      <td>Normal</td>\n",
       "      <td>Dog</td>\n",
       "      <td>Spayed Female</td>\n",
       "      <td>7 years</td>\n",
       "      <td>Border Terrier/Border Collie</td>\n",
       "      <td>White/Tan</td>\n",
       "    </tr>\n",
       "    <tr>\n",
       "      <th>4</th>\n",
       "      <td>A664233</td>\n",
       "      <td>Stevie</td>\n",
       "      <td>10/01/2013 08:53:00 AM</td>\n",
       "      <td>10/01/2013 08:53:00 AM</td>\n",
       "      <td>7405 Springtime in Austin (TX)</td>\n",
       "      <td>Stray</td>\n",
       "      <td>Injured</td>\n",
       "      <td>Dog</td>\n",
       "      <td>Intact Female</td>\n",
       "      <td>3 years</td>\n",
       "      <td>Pit Bull Mix</td>\n",
       "      <td>Blue/White</td>\n",
       "    </tr>\n",
       "  </tbody>\n",
       "</table>\n",
       "</div>"
      ],
      "text/plain": [
       "  Animal ID    Name                DateTime               MonthYear  \\\n",
       "0   A521520    Nina  10/01/2013 07:51:00 AM  10/01/2013 07:51:00 AM   \n",
       "4   A664233  Stevie  10/01/2013 08:53:00 AM  10/01/2013 08:53:00 AM   \n",
       "\n",
       "                   Found Location Intake Type Intake Condition Animal Type  \\\n",
       "0         Norht Ec in Austin (TX)       Stray           Normal         Dog   \n",
       "4  7405 Springtime in Austin (TX)       Stray          Injured         Dog   \n",
       "\n",
       "  Sex upon Intake Age upon Intake                         Breed       Color  \n",
       "0   Spayed Female         7 years  Border Terrier/Border Collie   White/Tan  \n",
       "4   Intact Female         3 years                  Pit Bull Mix  Blue/White  "
      ]
     },
     "execution_count": 20,
     "metadata": {},
     "output_type": "execute_result"
    }
   ],
   "source": [
    "dogs_intake.head(2)"
   ]
  },
  {
   "cell_type": "code",
   "execution_count": 21,
   "metadata": {
    "collapsed": false
   },
   "outputs": [
    {
     "data": {
      "text/plain": [
       "<matplotlib.text.Text at 0x116ebc210>"
      ]
     },
     "execution_count": 21,
     "metadata": {},
     "output_type": "execute_result"
    },
    {
     "data": {
      "image/png": "[encoded data removed]",
      "text/plain": [
       "<matplotlib.figure.Figure at 0x118fb5c50>"
      ]
     },
     "metadata": {},
     "output_type": "display_data"
    }
   ],
   "source": [
    "dogs_intake[\"Sex upon Intake\"].value_counts().plot(kind='bar', figsize=(10,5))\n",
    "plt.xlabel(\"Sex\")\n",
    "plt.ylabel(\"Counts\")\n",
    "plt.title(\"Distribution of Dog Sex \\n Austin Animal Center\", fontsize=15)"
   ]
  },
  {
   "cell_type": "markdown",
   "metadata": {},
   "source": [
    "### Distribution of Breeds Among Dogs"
   ]
  },
  {
   "cell_type": "code",
   "execution_count": 22,
   "metadata": {
    "collapsed": false
   },
   "outputs": [
    {
     "data": {
      "text/plain": [
       "<matplotlib.text.Text at 0x117b24550>"
      ]
     },
     "execution_count": 22,
     "metadata": {},
     "output_type": "execute_result"
    },
    {
     "data": {
      "image/png": "[encoded data removed]",
      "text/plain": [
       "<matplotlib.figure.Figure at 0x116e9fa90>"
      ]
     },
     "metadata": {},
     "output_type": "display_data"
    }
   ],
   "source": [
    "dogs_intake[\"Breed\"].value_counts().head(10).plot(kind='bar', figsize=(10,5))\n",
    "plt.xlabel(\"Breed\")\n",
    "plt.ylabel(\"Counts\")\n",
    "plt.title(\"Distribution of Top 10 Dog Breeds \\n Austin Animal Center\", fontsize=15)"
   ]
  },
  {
   "cell_type": "code",
   "execution_count": 23,
   "metadata": {
    "collapsed": false
   },
   "outputs": [
    {
     "data": {
      "text/plain": [
       "<matplotlib.text.Text at 0x118774bd0>"
      ]
     },
     "execution_count": 23,
     "metadata": {},
     "output_type": "execute_result"
    },
    {
     "data": {
      "image/png": "[encoded data removed]",
      "text/plain": [
       "<matplotlib.figure.Figure at 0x117c4e7d0>"
      ]
     },
     "metadata": {},
     "output_type": "display_data"
    }
   ],
   "source": [
    "dogs_intake[\"Breed\"].value_counts().head(10).plot(kind='bar', figsize=(10,5))\n",
    "plt.xlabel(\"Breed\")\n",
    "plt.ylabel(\"Counts\")\n",
    "plt.title(\"Distribution of Top 10 Dog Breeds Taken in by \\n the Austin Animal Center\", fontsize=15)"
   ]
  },
  {
   "cell_type": "code",
   "execution_count": 24,
   "metadata": {
    "collapsed": false
   },
   "outputs": [
    {
     "data": {
      "text/plain": [
       "Pit Bull Mix                 3937\n",
       "Chihuahua Shorthair Mix      3159\n",
       "Labrador Retriever Mix       2697\n",
       "German Shepherd Mix          1160\n",
       "Australian Cattle Dog Mix     724\n",
       "Dachshund Mix                 553\n",
       "Miniature Poodle Mix          438\n",
       "Border Collie Mix             432\n",
       "Boxer Mix                     430\n",
       "Australian Shepherd Mix       323\n",
       "Name: Breed, dtype: int64"
      ]
     },
     "execution_count": 24,
     "metadata": {},
     "output_type": "execute_result"
    }
   ],
   "source": [
    "dogs_intake[\"Breed\"].value_counts().head(10)"
   ]
  },
  {
   "cell_type": "markdown",
   "metadata": {},
   "source": [
    "### Intake Types Among Dogs"
   ]
  },
  {
   "cell_type": "code",
   "execution_count": 25,
   "metadata": {
    "collapsed": false
   },
   "outputs": [
    {
     "data": {
      "text/plain": [
       "<matplotlib.text.Text at 0x119ca1990>"
      ]
     },
     "execution_count": 25,
     "metadata": {},
     "output_type": "execute_result"
    },
    {
     "data": {
      "image/png": "[encoded data removed]",
      "text/plain": [
       "<matplotlib.figure.Figure at 0x117bf9d50>"
      ]
     },
     "metadata": {},
     "output_type": "display_data"
    }
   ],
   "source": [
    "dogs_intake[\"Intake Type\"].value_counts().plot(kind='bar', figsize=(10,5))\n",
    "plt.xlabel(\"Intake Type\")\n",
    "plt.ylabel(\"Counts\")\n",
    "plt.title(\"Distribution of Dog Intake Types \\n Austin Animal Center\", fontsize=15)"
   ]
  },
  {
   "cell_type": "markdown",
   "metadata": {},
   "source": [
    "### Location where most dogs were found"
   ]
  },
  {
   "cell_type": "code",
   "execution_count": 26,
   "metadata": {
    "collapsed": false
   },
   "outputs": [
    {
     "data": {
      "text/plain": [
       "<matplotlib.text.Text at 0x11b4c7950>"
      ]
     },
     "execution_count": 26,
     "metadata": {},
     "output_type": "execute_result"
    },
    {
     "data": {
      "image/png": "[encoded data removed]",
      "text/plain": [
       "<matplotlib.figure.Figure at 0x119d15590>"
      ]
     },
     "metadata": {},
     "output_type": "display_data"
    }
   ],
   "source": [
    "dogs_intake[\"Found Location\"].value_counts().head(10).plot(kind='bar', figsize=(10,5))\n",
    "plt.xlabel(\"Location\")\n",
    "plt.ylabel(\"Counts\")\n",
    "plt.title(\"Distribution of Top 5 Locations Where Dogs Were Found \\n Austin Animal Center\", fontsize=16)"
   ]
  },
  {
   "cell_type": "code",
   "execution_count": 27,
   "metadata": {
    "collapsed": false
   },
   "outputs": [
    {
     "data": {
      "text/plain": [
       "Austin (TX)                           5700\n",
       "Travis (TX)                            338\n",
       "Outside Jurisdiction                   252\n",
       "7201 Levander Loop in Austin (TX)      192\n",
       "Del Valle (TX)                         165\n",
       "Pflugerville (TX)                      133\n",
       "4434 Frontier Trl in Austin (TX)       105\n",
       "Manor (TX)                              99\n",
       "124 W Anderson Ln in Austin (TX)        53\n",
       "Leander (TX)                            51\n",
       "12034 Research Blvd in Austin (TX)      47\n",
       "12034 Research in Austin (TX)           39\n",
       "1156 W Cesar Chavez in Austin (TX)      33\n",
       "4434 Frontier in Austin (TX)            29\n",
       "5200 Knight Cir in Austin (TX)          28\n",
       "4106 N Lamar Blvd in Austin (TX)        25\n",
       "4434 Frontier Trail in Austin (TX)      24\n",
       "4106 N Lamar in Austin (TX)             23\n",
       "Round Rock (TX)                         22\n",
       "Lago Vista (TX)                         20\n",
       "Name: Found Location, dtype: int64"
      ]
     },
     "execution_count": 27,
     "metadata": {},
     "output_type": "execute_result"
    }
   ],
   "source": [
    "dogs_intake[\"Found Location\"].value_counts().head(20)"
   ]
  },
  {
   "cell_type": "markdown",
   "metadata": {
    "collapsed": true
   },
   "source": [
    "The plot above doesn't tell us much. Cleaning of data may be needed (specify Austin, TX)."
   ]
  },
  {
   "cell_type": "markdown",
   "metadata": {},
   "source": [
    "### Of all the dog owner surrenders, what is the most predominant breed?"
   ]
  },
  {
   "cell_type": "code",
   "execution_count": 51,
   "metadata": {
    "collapsed": false
   },
   "outputs": [
    {
     "data": {
      "text/plain": [
       "5604"
      ]
     },
     "execution_count": 51,
     "metadata": {},
     "output_type": "execute_result"
    }
   ],
   "source": [
    "dogs_intake_owner_surrender = dogs_intake[dogs_intake['Intake Type'] == \"Owner Surrender\"]\n",
    "len(dogs_intake_owner_surrender)"
   ]
  },
  {
   "cell_type": "code",
   "execution_count": 52,
   "metadata": {
    "collapsed": false
   },
   "outputs": [
    {
     "data": {
      "text/html": [
       "<div>\n",
       "<table border=\"1\" class=\"dataframe\">\n",
       "  <thead>\n",
       "    <tr style=\"text-align: right;\">\n",
       "      <th></th>\n",
       "      <th>Animal ID</th>\n",
       "      <th>Name</th>\n",
       "      <th>DateTime</th>\n",
       "      <th>MonthYear</th>\n",
       "      <th>Found Location</th>\n",
       "      <th>Intake Type</th>\n",
       "      <th>Intake Condition</th>\n",
       "      <th>Animal Type</th>\n",
       "      <th>Sex upon Intake</th>\n",
       "      <th>Age upon Intake</th>\n",
       "      <th>Breed</th>\n",
       "      <th>Color</th>\n",
       "    </tr>\n",
       "  </thead>\n",
       "  <tbody>\n",
       "    <tr>\n",
       "      <th>14</th>\n",
       "      <td>A651630</td>\n",
       "      <td>Heather</td>\n",
       "      <td>10/01/2013 11:23:00 AM</td>\n",
       "      <td>10/01/2013 11:23:00 AM</td>\n",
       "      <td>Outside Jurisdiction</td>\n",
       "      <td>Owner Surrender</td>\n",
       "      <td>Injured</td>\n",
       "      <td>Dog</td>\n",
       "      <td>Spayed Female</td>\n",
       "      <td>6 years</td>\n",
       "      <td>Labrador Retriever/Chinese Sharpei</td>\n",
       "      <td>Tan</td>\n",
       "    </tr>\n",
       "    <tr>\n",
       "      <th>28</th>\n",
       "      <td>A664274</td>\n",
       "      <td>Estrella</td>\n",
       "      <td>10/01/2013 01:48:00 PM</td>\n",
       "      <td>10/01/2013 01:48:00 PM</td>\n",
       "      <td>Austin (TX)</td>\n",
       "      <td>Owner Surrender</td>\n",
       "      <td>Normal</td>\n",
       "      <td>Dog</td>\n",
       "      <td>Intact Female</td>\n",
       "      <td>8 years</td>\n",
       "      <td>Siberian Husky Mix</td>\n",
       "      <td>Buff</td>\n",
       "    </tr>\n",
       "  </tbody>\n",
       "</table>\n",
       "</div>"
      ],
      "text/plain": [
       "   Animal ID      Name                DateTime               MonthYear  \\\n",
       "14   A651630   Heather  10/01/2013 11:23:00 AM  10/01/2013 11:23:00 AM   \n",
       "28   A664274  Estrella  10/01/2013 01:48:00 PM  10/01/2013 01:48:00 PM   \n",
       "\n",
       "          Found Location      Intake Type Intake Condition Animal Type  \\\n",
       "14  Outside Jurisdiction  Owner Surrender          Injured         Dog   \n",
       "28           Austin (TX)  Owner Surrender           Normal         Dog   \n",
       "\n",
       "   Sex upon Intake Age upon Intake                               Breed Color  \n",
       "14   Spayed Female         6 years  Labrador Retriever/Chinese Sharpei   Tan  \n",
       "28   Intact Female         8 years                  Siberian Husky Mix  Buff  "
      ]
     },
     "execution_count": 52,
     "metadata": {},
     "output_type": "execute_result"
    }
   ],
   "source": [
    "dogs_intake_owner_surrender.head(2)"
   ]
  },
  {
   "cell_type": "code",
   "execution_count": 53,
   "metadata": {
    "collapsed": false
   },
   "outputs": [
    {
     "data": {
      "text/plain": [
       "<matplotlib.text.Text at 0x11d637250>"
      ]
     },
     "execution_count": 53,
     "metadata": {},
     "output_type": "execute_result"
    },
    {
     "data": {
      "image/png": "[encoded data removed]",
      "text/plain": [
       "<matplotlib.figure.Figure at 0x11c7208d0>"
      ]
     },
     "metadata": {},
     "output_type": "display_data"
    }
   ],
   "source": [
    "dogs_intake_owner_surrender[\"Breed\"].value_counts().head(10).plot(kind='bar', figsize=(10,5))\n",
    "plt.xlabel(\"Breed\")\n",
    "plt.ylabel(\"Count\")\n",
    "plt.title(\"Top 10 Breeds Surrendered by Owners \\n Austin Animal Center \\n Austin, TX USA\", fontsize=15)"
   ]
  },
  {
   "cell_type": "markdown",
   "metadata": {},
   "source": [
    "### Predominant Dog Breeds in Strays"
   ]
  },
  {
   "cell_type": "code",
   "execution_count": 54,
   "metadata": {
    "collapsed": false
   },
   "outputs": [
    {
     "data": {
      "text/plain": [
       "<matplotlib.text.Text at 0x11d92b150>"
      ]
     },
     "execution_count": 54,
     "metadata": {},
     "output_type": "execute_result"
    },
    {
     "data": {
      "image/png": "[encoded data removed]",
      "text/plain": [
       "<matplotlib.figure.Figure at 0x11d5e5450>"
      ]
     },
     "metadata": {},
     "output_type": "display_data"
    }
   ],
   "source": [
    "dogs_intake[dogs_intake['Intake Type'] == \"Stray\"][\"Breed\"].value_counts().head(10).plot(kind='bar', figsize=(10,5))\n",
    "plt.xlabel(\"Breed\")\n",
    "plt.ylabel(\"Count\")\n",
    "plt.title(\"Top 10 Dog Stray Breeds \\n Austin Animal Center \\n Austin, TX USA\", fontsize=15)"
   ]
  },
  {
   "cell_type": "code",
   "execution_count": 55,
   "metadata": {
    "collapsed": false
   },
   "outputs": [
    {
     "data": {
      "text/plain": [
       "21203"
      ]
     },
     "execution_count": 55,
     "metadata": {},
     "output_type": "execute_result"
    }
   ],
   "source": [
    "len(dogs_intake[dogs_intake['Intake Type'] == \"Stray\"])"
   ]
  },
  {
   "cell_type": "markdown",
   "metadata": {},
   "source": [
    "### Among dogs taken in, what fraction was sick?"
   ]
  },
  {
   "cell_type": "code",
   "execution_count": 57,
   "metadata": {
    "collapsed": false
   },
   "outputs": [
    {
     "data": {
      "text/plain": [
       "<matplotlib.text.Text at 0x11d993b10>"
      ]
     },
     "execution_count": 57,
     "metadata": {},
     "output_type": "execute_result"
    },
    {
     "data": {
      "image/png": "[encoded data removed]",
      "text/plain": [
       "<matplotlib.figure.Figure at 0x11d216390>"
      ]
     },
     "metadata": {},
     "output_type": "display_data"
    }
   ],
   "source": [
    "dogs_intake[\"Intake Condition\"].value_counts(normalize=True).plot(kind='bar', figsize=(10,5))\n",
    "plt.title(\"Distribution of Intake Condition Among Dogs \\n Taken in by the Austin Animal Center\", fontsize=15)\n",
    "plt.xlabel(\"Intake Condition\")\n",
    "plt.ylabel(\"Fraction\")"
   ]
  },
  {
   "cell_type": "code",
   "execution_count": 58,
   "metadata": {
    "collapsed": true
   },
   "outputs": [],
   "source": [
    "sick_dogs = dogs_intake[dogs_intake[\"Intake Condition\"] == \"Sick\"]"
   ]
  },
  {
   "cell_type": "code",
   "execution_count": 59,
   "metadata": {
    "collapsed": false
   },
   "outputs": [
    {
     "data": {
      "text/plain": [
       "746"
      ]
     },
     "execution_count": 59,
     "metadata": {},
     "output_type": "execute_result"
    }
   ],
   "source": [
    "len(sick_dogs)"
   ]
  },
  {
   "cell_type": "code",
   "execution_count": 60,
   "metadata": {
    "collapsed": false
   },
   "outputs": [
    {
     "data": {
      "text/plain": [
       "Pit Bull Mix                 130\n",
       "Chihuahua Shorthair Mix      124\n",
       "Labrador Retriever Mix        78\n",
       "German Shepherd Mix           35\n",
       "Australian Cattle Dog Mix     21\n",
       "Name: Breed, dtype: int64"
      ]
     },
     "execution_count": 60,
     "metadata": {},
     "output_type": "execute_result"
    }
   ],
   "source": [
    "sick_dogs[\"Breed\"].value_counts().head()"
   ]
  },
  {
   "cell_type": "code",
   "execution_count": null,
   "metadata": {
    "collapsed": true
   },
   "outputs": [],
   "source": []
  },
  {
   "cell_type": "code",
   "execution_count": null,
   "metadata": {
    "collapsed": true
   },
   "outputs": [],
   "source": []
  },
  {
   "cell_type": "markdown",
   "metadata": {},
   "source": [
    "#### Labrador retrievers intake type distribution\n",
    "Since I like labs, I would like to see if there are a lot of them being surrendered."
   ]
  },
  {
   "cell_type": "code",
   "execution_count": 28,
   "metadata": {
    "collapsed": false
   },
   "outputs": [],
   "source": [
    "labrador = dogs_intake[dogs_intake['Breed'] == \"Labrador Retriever\"]"
   ]
  },
  {
   "cell_type": "code",
   "execution_count": 29,
   "metadata": {
    "collapsed": false
   },
   "outputs": [
    {
     "data": {
      "text/plain": [
       "<matplotlib.text.Text at 0x11b4fc310>"
      ]
     },
     "execution_count": 29,
     "metadata": {},
     "output_type": "execute_result"
    },
    {
     "data": {
      "image/png": "[encoded data removed]",
      "text/plain": [
       "<matplotlib.figure.Figure at 0x116bc2b90>"
      ]
     },
     "metadata": {},
     "output_type": "display_data"
    }
   ],
   "source": [
    "labrador[\"Intake Type\"].value_counts().plot(kind='bar', figsize=(10,5))\n",
    "plt.title(\"Distribution of Labrador Retriever Intake Types \\n Austin Animal Center \\n Austin, TX\")\n",
    "plt.xlabel(\"Intake Type\")\n",
    "plt.ylabel(\"Count\")"
   ]
  },
  {
   "cell_type": "code",
   "execution_count": null,
   "metadata": {
    "collapsed": true
   },
   "outputs": [],
   "source": []
  },
  {
   "cell_type": "markdown",
   "metadata": {},
   "source": [
    "#### Labrador pure and mix"
   ]
  },
  {
   "cell_type": "code",
   "execution_count": 30,
   "metadata": {
    "collapsed": false
   },
   "outputs": [],
   "source": [
    "labradors = dogs_intake[(dogs_intake['Breed'] == \"Labrador Retriever\") | (dogs_intake['Breed'] == \"Labrador Retriever Mix\")]"
   ]
  },
  {
   "cell_type": "code",
   "execution_count": 31,
   "metadata": {
    "collapsed": false
   },
   "outputs": [
    {
     "data": {
      "text/plain": [
       "<matplotlib.text.Text at 0x11b759450>"
      ]
     },
     "execution_count": 31,
     "metadata": {},
     "output_type": "execute_result"
    },
    {
     "data": {
      "image/png": "[encoded data removed]",
      "text/plain": [
       "<matplotlib.figure.Figure at 0x118f51d50>"
      ]
     },
     "metadata": {},
     "output_type": "display_data"
    }
   ],
   "source": [
    "labradors[\"Intake Type\"].value_counts().plot(kind='bar', figsize=(10,5))\n",
    "plt.title(\"Distribution of Labrador Retriever Pure and Mix Intake Types \\n Austin Animal Center \\n Austin, TX\", fontsize=15)\n",
    "plt.xlabel(\"Intake Type\")\n",
    "plt.ylabel(\"Count\")"
   ]
  },
  {
   "cell_type": "code",
   "execution_count": 32,
   "metadata": {
    "collapsed": false
   },
   "outputs": [
    {
     "data": {
      "text/html": [
       "<div>\n",
       "<table border=\"1\" class=\"dataframe\">\n",
       "  <thead>\n",
       "    <tr style=\"text-align: right;\">\n",
       "      <th></th>\n",
       "      <th>Animal ID</th>\n",
       "      <th>Name</th>\n",
       "      <th>DateTime</th>\n",
       "      <th>MonthYear</th>\n",
       "      <th>Found Location</th>\n",
       "      <th>Intake Type</th>\n",
       "      <th>Intake Condition</th>\n",
       "      <th>Animal Type</th>\n",
       "      <th>Sex upon Intake</th>\n",
       "      <th>Age upon Intake</th>\n",
       "      <th>Breed</th>\n",
       "      <th>Color</th>\n",
       "    </tr>\n",
       "  </thead>\n",
       "  <tbody>\n",
       "    <tr>\n",
       "      <th>113</th>\n",
       "      <td>A664375</td>\n",
       "      <td>Chevy</td>\n",
       "      <td>10/02/2013 03:52:00 PM</td>\n",
       "      <td>10/02/2013 03:52:00 PM</td>\n",
       "      <td>Austin (TX)</td>\n",
       "      <td>Public Assist</td>\n",
       "      <td>Normal</td>\n",
       "      <td>Dog</td>\n",
       "      <td>Intact Male</td>\n",
       "      <td>3 years</td>\n",
       "      <td>Labrador Retriever Mix</td>\n",
       "      <td>Black</td>\n",
       "    </tr>\n",
       "    <tr>\n",
       "      <th>120</th>\n",
       "      <td>A664382</td>\n",
       "      <td>Chewey</td>\n",
       "      <td>10/02/2013 05:54:00 PM</td>\n",
       "      <td>10/02/2013 05:54:00 PM</td>\n",
       "      <td>South 183 in Travis (TX)</td>\n",
       "      <td>Stray</td>\n",
       "      <td>Normal</td>\n",
       "      <td>Dog</td>\n",
       "      <td>Intact Female</td>\n",
       "      <td>6 months</td>\n",
       "      <td>Labrador Retriever Mix</td>\n",
       "      <td>Chocolate</td>\n",
       "    </tr>\n",
       "    <tr>\n",
       "      <th>155</th>\n",
       "      <td>A648134</td>\n",
       "      <td>Baby</td>\n",
       "      <td>10/03/2013 02:07:00 PM</td>\n",
       "      <td>10/03/2013 02:07:00 PM</td>\n",
       "      <td>724 Eberhart in Austin (TX)</td>\n",
       "      <td>Stray</td>\n",
       "      <td>Injured</td>\n",
       "      <td>Dog</td>\n",
       "      <td>Spayed Female</td>\n",
       "      <td>1 year</td>\n",
       "      <td>Labrador Retriever Mix</td>\n",
       "      <td>Black/White</td>\n",
       "    </tr>\n",
       "    <tr>\n",
       "      <th>156</th>\n",
       "      <td>A625774</td>\n",
       "      <td>Jumper</td>\n",
       "      <td>10/03/2013 02:10:00 PM</td>\n",
       "      <td>10/03/2013 02:10:00 PM</td>\n",
       "      <td>10211 Fm 969 Rd in Travis (TX)</td>\n",
       "      <td>Stray</td>\n",
       "      <td>Injured</td>\n",
       "      <td>Dog</td>\n",
       "      <td>Neutered Male</td>\n",
       "      <td>3 years</td>\n",
       "      <td>Labrador Retriever Mix</td>\n",
       "      <td>Yellow</td>\n",
       "    </tr>\n",
       "    <tr>\n",
       "      <th>166</th>\n",
       "      <td>A664463</td>\n",
       "      <td>Raven</td>\n",
       "      <td>10/03/2013 06:09:00 PM</td>\n",
       "      <td>10/03/2013 06:09:00 PM</td>\n",
       "      <td>Justin And Burnet in Austin (TX)</td>\n",
       "      <td>Stray</td>\n",
       "      <td>Normal</td>\n",
       "      <td>Dog</td>\n",
       "      <td>Intact Female</td>\n",
       "      <td>2 months</td>\n",
       "      <td>Labrador Retriever Mix</td>\n",
       "      <td>Black</td>\n",
       "    </tr>\n",
       "  </tbody>\n",
       "</table>\n",
       "</div>"
      ],
      "text/plain": [
       "    Animal ID    Name                DateTime               MonthYear  \\\n",
       "113   A664375   Chevy  10/02/2013 03:52:00 PM  10/02/2013 03:52:00 PM   \n",
       "120   A664382  Chewey  10/02/2013 05:54:00 PM  10/02/2013 05:54:00 PM   \n",
       "155   A648134    Baby  10/03/2013 02:07:00 PM  10/03/2013 02:07:00 PM   \n",
       "156   A625774  Jumper  10/03/2013 02:10:00 PM  10/03/2013 02:10:00 PM   \n",
       "166   A664463   Raven  10/03/2013 06:09:00 PM  10/03/2013 06:09:00 PM   \n",
       "\n",
       "                       Found Location    Intake Type Intake Condition  \\\n",
       "113                       Austin (TX)  Public Assist           Normal   \n",
       "120          South 183 in Travis (TX)          Stray           Normal   \n",
       "155       724 Eberhart in Austin (TX)          Stray          Injured   \n",
       "156    10211 Fm 969 Rd in Travis (TX)          Stray          Injured   \n",
       "166  Justin And Burnet in Austin (TX)          Stray           Normal   \n",
       "\n",
       "    Animal Type Sex upon Intake Age upon Intake                   Breed  \\\n",
       "113         Dog     Intact Male         3 years  Labrador Retriever Mix   \n",
       "120         Dog   Intact Female        6 months  Labrador Retriever Mix   \n",
       "155         Dog   Spayed Female          1 year  Labrador Retriever Mix   \n",
       "156         Dog   Neutered Male         3 years  Labrador Retriever Mix   \n",
       "166         Dog   Intact Female        2 months  Labrador Retriever Mix   \n",
       "\n",
       "           Color  \n",
       "113        Black  \n",
       "120    Chocolate  \n",
       "155  Black/White  \n",
       "156       Yellow  \n",
       "166        Black  "
      ]
     },
     "execution_count": 32,
     "metadata": {},
     "output_type": "execute_result"
    }
   ],
   "source": [
    "labradors.head()"
   ]
  },
  {
   "cell_type": "code",
   "execution_count": 33,
   "metadata": {
    "collapsed": false
   },
   "outputs": [
    {
     "data": {
      "text/plain": [
       "2846"
      ]
     },
     "execution_count": 33,
     "metadata": {},
     "output_type": "execute_result"
    }
   ],
   "source": [
    "len(labradors)"
   ]
  },
  {
   "cell_type": "code",
   "execution_count": 47,
   "metadata": {
    "collapsed": false
   },
   "outputs": [],
   "source": [
    "labs = labradors.set_index(['Animal ID']).sort_index()"
   ]
  },
  {
   "cell_type": "code",
   "execution_count": 49,
   "metadata": {
    "collapsed": false
   },
   "outputs": [
    {
     "data": {
      "text/html": [
       "<div>\n",
       "<table border=\"1\" class=\"dataframe\">\n",
       "  <thead>\n",
       "    <tr style=\"text-align: right;\">\n",
       "      <th></th>\n",
       "      <th>Name</th>\n",
       "      <th>DateTime</th>\n",
       "      <th>MonthYear</th>\n",
       "      <th>Found Location</th>\n",
       "      <th>Intake Type</th>\n",
       "      <th>Intake Condition</th>\n",
       "      <th>Animal Type</th>\n",
       "      <th>Sex upon Intake</th>\n",
       "      <th>Age upon Intake</th>\n",
       "      <th>Breed</th>\n",
       "      <th>Color</th>\n",
       "    </tr>\n",
       "    <tr>\n",
       "      <th>Animal ID</th>\n",
       "      <th></th>\n",
       "      <th></th>\n",
       "      <th></th>\n",
       "      <th></th>\n",
       "      <th></th>\n",
       "      <th></th>\n",
       "      <th></th>\n",
       "      <th></th>\n",
       "      <th></th>\n",
       "      <th></th>\n",
       "      <th></th>\n",
       "    </tr>\n",
       "  </thead>\n",
       "  <tbody>\n",
       "    <tr>\n",
       "      <th>A221448</th>\n",
       "      <td>Tucker</td>\n",
       "      <td>10/27/2013 11:17:00 AM</td>\n",
       "      <td>10/27/2013 11:17:00 AM</td>\n",
       "      <td>Silver Spring Dr And Mesa Dr in Austin (TX)</td>\n",
       "      <td>Stray</td>\n",
       "      <td>Normal</td>\n",
       "      <td>Dog</td>\n",
       "      <td>Neutered Male</td>\n",
       "      <td>12 years</td>\n",
       "      <td>Labrador Retriever Mix</td>\n",
       "      <td>Brown/White</td>\n",
       "    </tr>\n",
       "    <tr>\n",
       "      <th>A245945</th>\n",
       "      <td>Boomer</td>\n",
       "      <td>07/03/2014 05:55:00 PM</td>\n",
       "      <td>07/03/2014 05:55:00 PM</td>\n",
       "      <td>Garden And Mildred in Austin (TX)</td>\n",
       "      <td>Stray</td>\n",
       "      <td>Normal</td>\n",
       "      <td>Dog</td>\n",
       "      <td>Neutered Male</td>\n",
       "      <td>14 years</td>\n",
       "      <td>Labrador Retriever Mix</td>\n",
       "      <td>Tan</td>\n",
       "    </tr>\n",
       "    <tr>\n",
       "      <th>A245945</th>\n",
       "      <td>Boomer</td>\n",
       "      <td>05/20/2015 10:34:00 PM</td>\n",
       "      <td>05/20/2015 10:34:00 PM</td>\n",
       "      <td>7403 Blessing Ave in Austin (TX)</td>\n",
       "      <td>Stray</td>\n",
       "      <td>Normal</td>\n",
       "      <td>Dog</td>\n",
       "      <td>Neutered Male</td>\n",
       "      <td>15 years</td>\n",
       "      <td>Labrador Retriever Mix</td>\n",
       "      <td>Tan</td>\n",
       "    </tr>\n",
       "    <tr>\n",
       "      <th>A254503</th>\n",
       "      <td>Daisy</td>\n",
       "      <td>11/09/2014 11:04:00 AM</td>\n",
       "      <td>11/09/2014 11:04:00 AM</td>\n",
       "      <td>8603 Fathom Cir in Austin (TX)</td>\n",
       "      <td>Stray</td>\n",
       "      <td>Normal</td>\n",
       "      <td>Dog</td>\n",
       "      <td>Spayed Female</td>\n",
       "      <td>17 years</td>\n",
       "      <td>Labrador Retriever Mix</td>\n",
       "      <td>Tan</td>\n",
       "    </tr>\n",
       "    <tr>\n",
       "      <th>A256412</th>\n",
       "      <td>Beau</td>\n",
       "      <td>10/06/2013 11:33:00 AM</td>\n",
       "      <td>10/06/2013 11:33:00 AM</td>\n",
       "      <td>1001 Pres Arriba Rd in Austin (TX)</td>\n",
       "      <td>Stray</td>\n",
       "      <td>Injured</td>\n",
       "      <td>Dog</td>\n",
       "      <td>Intact Male</td>\n",
       "      <td>16 years</td>\n",
       "      <td>Labrador Retriever Mix</td>\n",
       "      <td>Yellow</td>\n",
       "    </tr>\n",
       "    <tr>\n",
       "      <th>A268022</th>\n",
       "      <td>China</td>\n",
       "      <td>08/03/2015 12:03:00 PM</td>\n",
       "      <td>08/03/2015 12:03:00 PM</td>\n",
       "      <td>Outside Jurisdiction</td>\n",
       "      <td>Euthanasia Request</td>\n",
       "      <td>Normal</td>\n",
       "      <td>Dog</td>\n",
       "      <td>Spayed Female</td>\n",
       "      <td>13 years</td>\n",
       "      <td>Labrador Retriever Mix</td>\n",
       "      <td>Tan</td>\n",
       "    </tr>\n",
       "    <tr>\n",
       "      <th>A281542</th>\n",
       "      <td>George</td>\n",
       "      <td>12/23/2013 01:23:00 PM</td>\n",
       "      <td>12/23/2013 01:23:00 PM</td>\n",
       "      <td>Austin (TX)</td>\n",
       "      <td>Owner Surrender</td>\n",
       "      <td>Normal</td>\n",
       "      <td>Dog</td>\n",
       "      <td>Neutered Male</td>\n",
       "      <td>12 years</td>\n",
       "      <td>Labrador Retriever Mix</td>\n",
       "      <td>Black/Brown Brindle</td>\n",
       "    </tr>\n",
       "    <tr>\n",
       "      <th>A308771</th>\n",
       "      <td>Lili</td>\n",
       "      <td>03/01/2014 04:44:00 PM</td>\n",
       "      <td>03/01/2014 04:44:00 PM</td>\n",
       "      <td>Lamar And 31St in Austin (TX)</td>\n",
       "      <td>Stray</td>\n",
       "      <td>Normal</td>\n",
       "      <td>Dog</td>\n",
       "      <td>Spayed Female</td>\n",
       "      <td>14 years</td>\n",
       "      <td>Labrador Retriever Mix</td>\n",
       "      <td>Brown</td>\n",
       "    </tr>\n",
       "    <tr>\n",
       "      <th>A329835</th>\n",
       "      <td>Molly</td>\n",
       "      <td>11/09/2013 04:45:00 PM</td>\n",
       "      <td>11/09/2013 04:45:00 PM</td>\n",
       "      <td>Archdale And Decker Praire Ln in Austin (TX)</td>\n",
       "      <td>Stray</td>\n",
       "      <td>Normal</td>\n",
       "      <td>Dog</td>\n",
       "      <td>Spayed Female</td>\n",
       "      <td>10 years</td>\n",
       "      <td>Labrador Retriever Mix</td>\n",
       "      <td>Brown/Black</td>\n",
       "    </tr>\n",
       "    <tr>\n",
       "      <th>A329968</th>\n",
       "      <td>Romeo</td>\n",
       "      <td>10/21/2013 03:06:00 PM</td>\n",
       "      <td>10/21/2013 03:06:00 PM</td>\n",
       "      <td>12500 Amherst in Austin (TX)</td>\n",
       "      <td>Stray</td>\n",
       "      <td>Normal</td>\n",
       "      <td>Dog</td>\n",
       "      <td>Neutered Male</td>\n",
       "      <td>14 years</td>\n",
       "      <td>Labrador Retriever</td>\n",
       "      <td>Yellow</td>\n",
       "    </tr>\n",
       "    <tr>\n",
       "      <th>A337859</th>\n",
       "      <td>Benny</td>\n",
       "      <td>07/25/2014 11:00:00 AM</td>\n",
       "      <td>07/25/2014 11:00:00 AM</td>\n",
       "      <td>Austin (TX)</td>\n",
       "      <td>Euthanasia Request</td>\n",
       "      <td>Aged</td>\n",
       "      <td>Dog</td>\n",
       "      <td>Neutered Male</td>\n",
       "      <td>14 years</td>\n",
       "      <td>Labrador Retriever Mix</td>\n",
       "      <td>White</td>\n",
       "    </tr>\n",
       "    <tr>\n",
       "      <th>A339103</th>\n",
       "      <td>Ani</td>\n",
       "      <td>04/21/2015 07:15:00 AM</td>\n",
       "      <td>04/21/2015 07:15:00 AM</td>\n",
       "      <td>Travis Country Circle in Austin (TX)</td>\n",
       "      <td>Stray</td>\n",
       "      <td>Normal</td>\n",
       "      <td>Dog</td>\n",
       "      <td>Spayed Female</td>\n",
       "      <td>11 years</td>\n",
       "      <td>Labrador Retriever Mix</td>\n",
       "      <td>Brown/White</td>\n",
       "    </tr>\n",
       "    <tr>\n",
       "      <th>A342480</th>\n",
       "      <td>Lucy</td>\n",
       "      <td>05/17/2015 01:37:00 PM</td>\n",
       "      <td>05/17/2015 01:37:00 PM</td>\n",
       "      <td>Laird Dr &amp; Pequeno St in Austin (TX)</td>\n",
       "      <td>Stray</td>\n",
       "      <td>Normal</td>\n",
       "      <td>Dog</td>\n",
       "      <td>Spayed Female</td>\n",
       "      <td>14 years</td>\n",
       "      <td>Labrador Retriever Mix</td>\n",
       "      <td>Red/Tan</td>\n",
       "    </tr>\n",
       "    <tr>\n",
       "      <th>A345209</th>\n",
       "      <td>Chula</td>\n",
       "      <td>11/26/2014 10:17:00 PM</td>\n",
       "      <td>11/26/2014 10:17:00 PM</td>\n",
       "      <td>4106 N Lamar Blvd in Austin (TX)</td>\n",
       "      <td>Stray</td>\n",
       "      <td>Normal</td>\n",
       "      <td>Dog</td>\n",
       "      <td>Spayed Female</td>\n",
       "      <td>10 years</td>\n",
       "      <td>Labrador Retriever Mix</td>\n",
       "      <td>Tan</td>\n",
       "    </tr>\n",
       "    <tr>\n",
       "      <th>A345209</th>\n",
       "      <td>Chula</td>\n",
       "      <td>11/23/2014 01:00:00 PM</td>\n",
       "      <td>11/23/2014 01:00:00 PM</td>\n",
       "      <td>Thaxton Road/Salt Springs in Austin (TX)</td>\n",
       "      <td>Stray</td>\n",
       "      <td>Normal</td>\n",
       "      <td>Dog</td>\n",
       "      <td>Spayed Female</td>\n",
       "      <td>10 years</td>\n",
       "      <td>Labrador Retriever Mix</td>\n",
       "      <td>Tan</td>\n",
       "    </tr>\n",
       "    <tr>\n",
       "      <th>A349480</th>\n",
       "      <td>Daisy</td>\n",
       "      <td>12/15/2013 11:18:00 AM</td>\n",
       "      <td>12/15/2013 11:18:00 AM</td>\n",
       "      <td>12621 Hymeadow Dr Unit 205 in Austin (TX)</td>\n",
       "      <td>Public Assist</td>\n",
       "      <td>Normal</td>\n",
       "      <td>Dog</td>\n",
       "      <td>Spayed Female</td>\n",
       "      <td>11 years</td>\n",
       "      <td>Labrador Retriever Mix</td>\n",
       "      <td>Chocolate</td>\n",
       "    </tr>\n",
       "    <tr>\n",
       "      <th>A352555</th>\n",
       "      <td>Harley</td>\n",
       "      <td>08/08/2014 04:20:00 AM</td>\n",
       "      <td>08/08/2014 04:20:00 AM</td>\n",
       "      <td>6015 Kidneywood Trl. in Austin (TX)</td>\n",
       "      <td>Public Assist</td>\n",
       "      <td>Normal</td>\n",
       "      <td>Dog</td>\n",
       "      <td>Spayed Female</td>\n",
       "      <td>13 years</td>\n",
       "      <td>Labrador Retriever Mix</td>\n",
       "      <td>Tan</td>\n",
       "    </tr>\n",
       "    <tr>\n",
       "      <th>A353259</th>\n",
       "      <td>Bj</td>\n",
       "      <td>05/08/2016 12:57:00 PM</td>\n",
       "      <td>05/08/2016 12:57:00 PM</td>\n",
       "      <td>11530 Loweswater in Austin (TX)</td>\n",
       "      <td>Stray</td>\n",
       "      <td>Injured</td>\n",
       "      <td>Dog</td>\n",
       "      <td>Neutered Male</td>\n",
       "      <td>14 years</td>\n",
       "      <td>Labrador Retriever</td>\n",
       "      <td>Tan</td>\n",
       "    </tr>\n",
       "    <tr>\n",
       "      <th>A362707</th>\n",
       "      <td>Girly Girl</td>\n",
       "      <td>01/27/2016 12:27:00 PM</td>\n",
       "      <td>01/27/2016 12:27:00 PM</td>\n",
       "      <td>7207 A Tumble Weed Dr in Austin (TX)</td>\n",
       "      <td>Owner Surrender</td>\n",
       "      <td>Sick</td>\n",
       "      <td>Dog</td>\n",
       "      <td>Spayed Female</td>\n",
       "      <td>11 years</td>\n",
       "      <td>Labrador Retriever Mix</td>\n",
       "      <td>Black</td>\n",
       "    </tr>\n",
       "    <tr>\n",
       "      <th>A365172</th>\n",
       "      <td>Diablo</td>\n",
       "      <td>08/26/2014 12:53:00 PM</td>\n",
       "      <td>08/26/2014 12:53:00 PM</td>\n",
       "      <td>Austin (TX)</td>\n",
       "      <td>Owner Surrender</td>\n",
       "      <td>Normal</td>\n",
       "      <td>Dog</td>\n",
       "      <td>Neutered Male</td>\n",
       "      <td>10 years</td>\n",
       "      <td>Labrador Retriever Mix</td>\n",
       "      <td>Black/White</td>\n",
       "    </tr>\n",
       "    <tr>\n",
       "      <th>A373687</th>\n",
       "      <td>Rosie</td>\n",
       "      <td>03/20/2014 12:31:00 PM</td>\n",
       "      <td>03/20/2014 12:31:00 PM</td>\n",
       "      <td>Austin (TX)</td>\n",
       "      <td>Owner Surrender</td>\n",
       "      <td>Normal</td>\n",
       "      <td>Dog</td>\n",
       "      <td>Spayed Female</td>\n",
       "      <td>9 years</td>\n",
       "      <td>Labrador Retriever Mix</td>\n",
       "      <td>Red/Black</td>\n",
       "    </tr>\n",
       "    <tr>\n",
       "      <th>A380320</th>\n",
       "      <td>Scooby</td>\n",
       "      <td>02/03/2014 12:41:00 PM</td>\n",
       "      <td>02/03/2014 12:41:00 PM</td>\n",
       "      <td>Austin (TX)</td>\n",
       "      <td>Euthanasia Request</td>\n",
       "      <td>Normal</td>\n",
       "      <td>Dog</td>\n",
       "      <td>Neutered Male</td>\n",
       "      <td>9 years</td>\n",
       "      <td>Labrador Retriever Mix</td>\n",
       "      <td>Red</td>\n",
       "    </tr>\n",
       "    <tr>\n",
       "      <th>A381173</th>\n",
       "      <td>Pepper</td>\n",
       "      <td>08/06/2014 12:07:00 PM</td>\n",
       "      <td>08/06/2014 12:07:00 PM</td>\n",
       "      <td>8500 Cornwall Dr in Austin (TX)</td>\n",
       "      <td>Stray</td>\n",
       "      <td>Normal</td>\n",
       "      <td>Dog</td>\n",
       "      <td>Spayed Female</td>\n",
       "      <td>14 years</td>\n",
       "      <td>Labrador Retriever Mix</td>\n",
       "      <td>Brown/White</td>\n",
       "    </tr>\n",
       "    <tr>\n",
       "      <th>A385442</th>\n",
       "      <td>Clyde</td>\n",
       "      <td>01/11/2014 03:15:00 PM</td>\n",
       "      <td>01/11/2014 03:15:00 PM</td>\n",
       "      <td>11116 Middle Fiskville Rd in Austin (TX)</td>\n",
       "      <td>Stray</td>\n",
       "      <td>Normal</td>\n",
       "      <td>Dog</td>\n",
       "      <td>Neutered Male</td>\n",
       "      <td>10 years</td>\n",
       "      <td>Labrador Retriever Mix</td>\n",
       "      <td>Cream/Tan</td>\n",
       "    </tr>\n",
       "    <tr>\n",
       "      <th>A387083</th>\n",
       "      <td>Goldie</td>\n",
       "      <td>02/01/2014 06:36:00 PM</td>\n",
       "      <td>02/01/2014 06:36:00 PM</td>\n",
       "      <td>12401 N Lamar in Austin (TX)</td>\n",
       "      <td>Stray</td>\n",
       "      <td>Normal</td>\n",
       "      <td>Dog</td>\n",
       "      <td>Spayed Female</td>\n",
       "      <td>9 years</td>\n",
       "      <td>Labrador Retriever Mix</td>\n",
       "      <td>Tan</td>\n",
       "    </tr>\n",
       "    <tr>\n",
       "      <th>A394547</th>\n",
       "      <td>Snickerdoodl</td>\n",
       "      <td>01/24/2015 04:14:00 PM</td>\n",
       "      <td>01/24/2015 04:14:00 PM</td>\n",
       "      <td>Rowe Loop And Rowe Ln in Pflugerville (TX)</td>\n",
       "      <td>Stray</td>\n",
       "      <td>Normal</td>\n",
       "      <td>Dog</td>\n",
       "      <td>Spayed Female</td>\n",
       "      <td>9 years</td>\n",
       "      <td>Labrador Retriever Mix</td>\n",
       "      <td>Chocolate/White</td>\n",
       "    </tr>\n",
       "    <tr>\n",
       "      <th>A412626</th>\n",
       "      <td>*Sam</td>\n",
       "      <td>03/13/2016 11:17:00 AM</td>\n",
       "      <td>03/13/2016 11:17:00 AM</td>\n",
       "      <td>8520 New Hampshire Blvd in Austin (TX)</td>\n",
       "      <td>Owner Surrender</td>\n",
       "      <td>Normal</td>\n",
       "      <td>Dog</td>\n",
       "      <td>Neutered Male</td>\n",
       "      <td>12 years</td>\n",
       "      <td>Labrador Retriever Mix</td>\n",
       "      <td>Black/White</td>\n",
       "    </tr>\n",
       "    <tr>\n",
       "      <th>A419781</th>\n",
       "      <td>Zelda</td>\n",
       "      <td>10/24/2013 02:10:00 PM</td>\n",
       "      <td>10/24/2013 02:10:00 PM</td>\n",
       "      <td>Westcreek And Cana Cv in Austin (TX)</td>\n",
       "      <td>Stray</td>\n",
       "      <td>Normal</td>\n",
       "      <td>Dog</td>\n",
       "      <td>Spayed Female</td>\n",
       "      <td>7 years</td>\n",
       "      <td>Labrador Retriever Mix</td>\n",
       "      <td>Red</td>\n",
       "    </tr>\n",
       "    <tr>\n",
       "      <th>A420464</th>\n",
       "      <td>Loki</td>\n",
       "      <td>10/13/2013 09:48:00 AM</td>\n",
       "      <td>10/13/2013 09:48:00 AM</td>\n",
       "      <td>183 And Jollyville in Austin (TX)</td>\n",
       "      <td>Stray</td>\n",
       "      <td>Normal</td>\n",
       "      <td>Dog</td>\n",
       "      <td>Neutered Male</td>\n",
       "      <td>7 years</td>\n",
       "      <td>Labrador Retriever Mix</td>\n",
       "      <td>Black/White</td>\n",
       "    </tr>\n",
       "    <tr>\n",
       "      <th>A430366</th>\n",
       "      <td>Lucky</td>\n",
       "      <td>06/19/2015 05:40:00 PM</td>\n",
       "      <td>06/19/2015 05:40:00 PM</td>\n",
       "      <td>Signal Hill Dr And Rimrock Trail in Austin (TX)</td>\n",
       "      <td>Stray</td>\n",
       "      <td>Normal</td>\n",
       "      <td>Dog</td>\n",
       "      <td>Neutered Male</td>\n",
       "      <td>9 years</td>\n",
       "      <td>Labrador Retriever Mix</td>\n",
       "      <td>Black</td>\n",
       "    </tr>\n",
       "    <tr>\n",
       "      <th>...</th>\n",
       "      <td>...</td>\n",
       "      <td>...</td>\n",
       "      <td>...</td>\n",
       "      <td>...</td>\n",
       "      <td>...</td>\n",
       "      <td>...</td>\n",
       "      <td>...</td>\n",
       "      <td>...</td>\n",
       "      <td>...</td>\n",
       "      <td>...</td>\n",
       "      <td>...</td>\n",
       "    </tr>\n",
       "    <tr>\n",
       "      <th>A731380</th>\n",
       "      <td>NaN</td>\n",
       "      <td>07/21/2016 12:36:00 PM</td>\n",
       "      <td>07/21/2016 12:36:00 PM</td>\n",
       "      <td>E 12Th St And Poquito St in Austin (TX)</td>\n",
       "      <td>Stray</td>\n",
       "      <td>Normal</td>\n",
       "      <td>Dog</td>\n",
       "      <td>Intact Male</td>\n",
       "      <td>4 months</td>\n",
       "      <td>Labrador Retriever Mix</td>\n",
       "      <td>Tan</td>\n",
       "    </tr>\n",
       "    <tr>\n",
       "      <th>A731381</th>\n",
       "      <td>*Jake</td>\n",
       "      <td>07/25/2016 02:05:00 PM</td>\n",
       "      <td>07/25/2016 02:05:00 PM</td>\n",
       "      <td>11800 Lima Dr in Manor (TX)</td>\n",
       "      <td>Stray</td>\n",
       "      <td>Normal</td>\n",
       "      <td>Dog</td>\n",
       "      <td>Intact Male</td>\n",
       "      <td>5 months</td>\n",
       "      <td>Labrador Retriever Mix</td>\n",
       "      <td>Black</td>\n",
       "    </tr>\n",
       "    <tr>\n",
       "      <th>A731452</th>\n",
       "      <td>*Oscar</td>\n",
       "      <td>07/22/2016 01:03:00 PM</td>\n",
       "      <td>07/22/2016 01:03:00 PM</td>\n",
       "      <td>Schmidt Ln And Anderson Rd in Manor (TX)</td>\n",
       "      <td>Stray</td>\n",
       "      <td>Normal</td>\n",
       "      <td>Dog</td>\n",
       "      <td>Intact Male</td>\n",
       "      <td>2 years</td>\n",
       "      <td>Labrador Retriever Mix</td>\n",
       "      <td>Tan</td>\n",
       "    </tr>\n",
       "    <tr>\n",
       "      <th>A731533</th>\n",
       "      <td>*Guerro</td>\n",
       "      <td>07/23/2016 03:22:00 PM</td>\n",
       "      <td>07/23/2016 03:22:00 PM</td>\n",
       "      <td>8601 Vertex Blvd in Austin (TX)</td>\n",
       "      <td>Stray</td>\n",
       "      <td>Aged</td>\n",
       "      <td>Dog</td>\n",
       "      <td>Neutered Male</td>\n",
       "      <td>7 years</td>\n",
       "      <td>Labrador Retriever Mix</td>\n",
       "      <td>Yellow</td>\n",
       "    </tr>\n",
       "    <tr>\n",
       "      <th>A731567</th>\n",
       "      <td>Natasha</td>\n",
       "      <td>07/24/2016 11:40:00 AM</td>\n",
       "      <td>07/24/2016 11:40:00 AM</td>\n",
       "      <td>405 E 31St in Austin (TX)</td>\n",
       "      <td>Public Assist</td>\n",
       "      <td>Normal</td>\n",
       "      <td>Dog</td>\n",
       "      <td>Spayed Female</td>\n",
       "      <td>3 years</td>\n",
       "      <td>Labrador Retriever Mix</td>\n",
       "      <td>Tricolor</td>\n",
       "    </tr>\n",
       "    <tr>\n",
       "      <th>A731571</th>\n",
       "      <td>Emme</td>\n",
       "      <td>07/24/2016 12:48:00 PM</td>\n",
       "      <td>07/24/2016 12:48:00 PM</td>\n",
       "      <td>Natures Bend And E Yager Ln in Austin (TX)</td>\n",
       "      <td>Stray</td>\n",
       "      <td>Normal</td>\n",
       "      <td>Dog</td>\n",
       "      <td>Intact Female</td>\n",
       "      <td>2 years</td>\n",
       "      <td>Labrador Retriever Mix</td>\n",
       "      <td>Black</td>\n",
       "    </tr>\n",
       "    <tr>\n",
       "      <th>A731684</th>\n",
       "      <td>NaN</td>\n",
       "      <td>07/26/2016 11:30:00 AM</td>\n",
       "      <td>07/26/2016 11:30:00 AM</td>\n",
       "      <td>13701 N Interstate 35 Frontage Rd in Pflugervi...</td>\n",
       "      <td>Stray</td>\n",
       "      <td>Normal</td>\n",
       "      <td>Dog</td>\n",
       "      <td>Intact Male</td>\n",
       "      <td>1 month</td>\n",
       "      <td>Labrador Retriever Mix</td>\n",
       "      <td>Black/White</td>\n",
       "    </tr>\n",
       "    <tr>\n",
       "      <th>A731715</th>\n",
       "      <td>*Sweetie</td>\n",
       "      <td>07/26/2016 02:46:00 PM</td>\n",
       "      <td>07/26/2016 02:46:00 PM</td>\n",
       "      <td>Gebron Dr And Kohlers Trail in Lakeway (TX)</td>\n",
       "      <td>Stray</td>\n",
       "      <td>Normal</td>\n",
       "      <td>Dog</td>\n",
       "      <td>Intact Female</td>\n",
       "      <td>4 months</td>\n",
       "      <td>Labrador Retriever Mix</td>\n",
       "      <td>Black</td>\n",
       "    </tr>\n",
       "    <tr>\n",
       "      <th>A731716</th>\n",
       "      <td>*Cutie Pie</td>\n",
       "      <td>07/26/2016 02:46:00 PM</td>\n",
       "      <td>07/26/2016 02:46:00 PM</td>\n",
       "      <td>Gebron Dr And Kohlers Trail in Lakeway (TX)</td>\n",
       "      <td>Stray</td>\n",
       "      <td>Normal</td>\n",
       "      <td>Dog</td>\n",
       "      <td>Intact Male</td>\n",
       "      <td>4 months</td>\n",
       "      <td>Labrador Retriever Mix</td>\n",
       "      <td>Tan</td>\n",
       "    </tr>\n",
       "    <tr>\n",
       "      <th>A731765</th>\n",
       "      <td>NaN</td>\n",
       "      <td>07/27/2016 12:16:00 PM</td>\n",
       "      <td>07/27/2016 12:16:00 PM</td>\n",
       "      <td>16205 N 973 in Austin (TX)</td>\n",
       "      <td>Stray</td>\n",
       "      <td>Normal</td>\n",
       "      <td>Dog</td>\n",
       "      <td>Intact Male</td>\n",
       "      <td>9 months</td>\n",
       "      <td>Labrador Retriever</td>\n",
       "      <td>Black/White</td>\n",
       "    </tr>\n",
       "    <tr>\n",
       "      <th>A731787</th>\n",
       "      <td>NaN</td>\n",
       "      <td>07/27/2016 03:06:00 PM</td>\n",
       "      <td>07/27/2016 03:06:00 PM</td>\n",
       "      <td>5630 Wagon Train Rd in Austin (TX)</td>\n",
       "      <td>Stray</td>\n",
       "      <td>Normal</td>\n",
       "      <td>Dog</td>\n",
       "      <td>Intact Male</td>\n",
       "      <td>1 month</td>\n",
       "      <td>Labrador Retriever Mix</td>\n",
       "      <td>Black</td>\n",
       "    </tr>\n",
       "    <tr>\n",
       "      <th>A731788</th>\n",
       "      <td>NaN</td>\n",
       "      <td>07/27/2016 03:06:00 PM</td>\n",
       "      <td>07/27/2016 03:06:00 PM</td>\n",
       "      <td>5630 Wagon Train Rd in Austin (TX)</td>\n",
       "      <td>Stray</td>\n",
       "      <td>Normal</td>\n",
       "      <td>Dog</td>\n",
       "      <td>Intact Male</td>\n",
       "      <td>1 month</td>\n",
       "      <td>Labrador Retriever Mix</td>\n",
       "      <td>Black/White</td>\n",
       "    </tr>\n",
       "    <tr>\n",
       "      <th>A731789</th>\n",
       "      <td>NaN</td>\n",
       "      <td>07/27/2016 03:06:00 PM</td>\n",
       "      <td>07/27/2016 03:06:00 PM</td>\n",
       "      <td>5630 Wagon Train Rd in Austin (TX)</td>\n",
       "      <td>Stray</td>\n",
       "      <td>Normal</td>\n",
       "      <td>Dog</td>\n",
       "      <td>Intact Female</td>\n",
       "      <td>1 month</td>\n",
       "      <td>Labrador Retriever Mix</td>\n",
       "      <td>Black</td>\n",
       "    </tr>\n",
       "    <tr>\n",
       "      <th>A731790</th>\n",
       "      <td>NaN</td>\n",
       "      <td>07/27/2016 03:06:00 PM</td>\n",
       "      <td>07/27/2016 03:06:00 PM</td>\n",
       "      <td>5630 Wagon Train Rd in Austin (TX)</td>\n",
       "      <td>Stray</td>\n",
       "      <td>Normal</td>\n",
       "      <td>Dog</td>\n",
       "      <td>Intact Female</td>\n",
       "      <td>1 month</td>\n",
       "      <td>Labrador Retriever Mix</td>\n",
       "      <td>Black</td>\n",
       "    </tr>\n",
       "    <tr>\n",
       "      <th>A731792</th>\n",
       "      <td>NaN</td>\n",
       "      <td>07/27/2016 03:06:00 PM</td>\n",
       "      <td>07/27/2016 03:06:00 PM</td>\n",
       "      <td>5630 Wagon Train Rd in Austin (TX)</td>\n",
       "      <td>Stray</td>\n",
       "      <td>Normal</td>\n",
       "      <td>Dog</td>\n",
       "      <td>Intact Female</td>\n",
       "      <td>1 month</td>\n",
       "      <td>Labrador Retriever Mix</td>\n",
       "      <td>Black</td>\n",
       "    </tr>\n",
       "    <tr>\n",
       "      <th>A731793</th>\n",
       "      <td>Trip</td>\n",
       "      <td>07/27/2016 03:06:00 PM</td>\n",
       "      <td>07/27/2016 03:06:00 PM</td>\n",
       "      <td>5630 Wagon Train Rd in Austin (TX)</td>\n",
       "      <td>Stray</td>\n",
       "      <td>Normal</td>\n",
       "      <td>Dog</td>\n",
       "      <td>Intact Male</td>\n",
       "      <td>1 month</td>\n",
       "      <td>Labrador Retriever Mix</td>\n",
       "      <td>Black</td>\n",
       "    </tr>\n",
       "    <tr>\n",
       "      <th>A731794</th>\n",
       "      <td>NaN</td>\n",
       "      <td>07/27/2016 03:06:00 PM</td>\n",
       "      <td>07/27/2016 03:06:00 PM</td>\n",
       "      <td>5630 Wagon Train Rd in Austin (TX)</td>\n",
       "      <td>Stray</td>\n",
       "      <td>Normal</td>\n",
       "      <td>Dog</td>\n",
       "      <td>Intact Male</td>\n",
       "      <td>1 month</td>\n",
       "      <td>Labrador Retriever Mix</td>\n",
       "      <td>Black</td>\n",
       "    </tr>\n",
       "    <tr>\n",
       "      <th>A731798</th>\n",
       "      <td>*Mojo</td>\n",
       "      <td>07/27/2016 03:50:00 PM</td>\n",
       "      <td>07/27/2016 03:50:00 PM</td>\n",
       "      <td>11513 Lockhart Rd in Travis (TX)</td>\n",
       "      <td>Stray</td>\n",
       "      <td>Normal</td>\n",
       "      <td>Dog</td>\n",
       "      <td>Intact Male</td>\n",
       "      <td>7 months</td>\n",
       "      <td>Labrador Retriever Mix</td>\n",
       "      <td>Red</td>\n",
       "    </tr>\n",
       "    <tr>\n",
       "      <th>A731849</th>\n",
       "      <td>Kiddo</td>\n",
       "      <td>07/28/2016 12:03:00 PM</td>\n",
       "      <td>07/28/2016 12:03:00 PM</td>\n",
       "      <td>S Congress Ave And W Stassney Ln in Austin (TX)</td>\n",
       "      <td>Stray</td>\n",
       "      <td>Normal</td>\n",
       "      <td>Dog</td>\n",
       "      <td>Intact Female</td>\n",
       "      <td>10 years</td>\n",
       "      <td>Labrador Retriever Mix</td>\n",
       "      <td>Black</td>\n",
       "    </tr>\n",
       "    <tr>\n",
       "      <th>A731875</th>\n",
       "      <td>*Jackson</td>\n",
       "      <td>07/28/2016 03:56:00 PM</td>\n",
       "      <td>07/28/2016 03:56:00 PM</td>\n",
       "      <td>Athens St And Liberty St in Manor (TX)</td>\n",
       "      <td>Stray</td>\n",
       "      <td>Normal</td>\n",
       "      <td>Dog</td>\n",
       "      <td>Neutered Male</td>\n",
       "      <td>2 years</td>\n",
       "      <td>Labrador Retriever Mix</td>\n",
       "      <td>Yellow</td>\n",
       "    </tr>\n",
       "    <tr>\n",
       "      <th>A731921</th>\n",
       "      <td>Drifter</td>\n",
       "      <td>07/29/2016 11:57:00 AM</td>\n",
       "      <td>07/29/2016 11:57:00 AM</td>\n",
       "      <td>Hillbrook Dr And Hillbrook Cir in Austin (TX)</td>\n",
       "      <td>Stray</td>\n",
       "      <td>Normal</td>\n",
       "      <td>Dog</td>\n",
       "      <td>Intact Male</td>\n",
       "      <td>13 years</td>\n",
       "      <td>Labrador Retriever Mix</td>\n",
       "      <td>Tan/White</td>\n",
       "    </tr>\n",
       "    <tr>\n",
       "      <th>A731963</th>\n",
       "      <td>NaN</td>\n",
       "      <td>07/30/2016 11:07:00 AM</td>\n",
       "      <td>07/30/2016 11:07:00 AM</td>\n",
       "      <td>10606 Old Lochart in Austin (TX)</td>\n",
       "      <td>Stray</td>\n",
       "      <td>Normal</td>\n",
       "      <td>Dog</td>\n",
       "      <td>Intact Male</td>\n",
       "      <td>1 year</td>\n",
       "      <td>Labrador Retriever Mix</td>\n",
       "      <td>White/Cream</td>\n",
       "    </tr>\n",
       "    <tr>\n",
       "      <th>A731987</th>\n",
       "      <td>NaN</td>\n",
       "      <td>07/30/2016 03:06:00 PM</td>\n",
       "      <td>07/30/2016 03:06:00 PM</td>\n",
       "      <td>14915 Hornsby Hill in Travis (TX)</td>\n",
       "      <td>Stray</td>\n",
       "      <td>Normal</td>\n",
       "      <td>Dog</td>\n",
       "      <td>Intact Female</td>\n",
       "      <td>2 years</td>\n",
       "      <td>Labrador Retriever Mix</td>\n",
       "      <td>Black/Brown</td>\n",
       "    </tr>\n",
       "    <tr>\n",
       "      <th>A732017</th>\n",
       "      <td>NaN</td>\n",
       "      <td>07/31/2016 11:43:00 AM</td>\n",
       "      <td>07/31/2016 11:43:00 AM</td>\n",
       "      <td>Outside Jurisdiction</td>\n",
       "      <td>Stray</td>\n",
       "      <td>Nursing</td>\n",
       "      <td>Dog</td>\n",
       "      <td>Intact Female</td>\n",
       "      <td>4 weeks</td>\n",
       "      <td>Labrador Retriever Mix</td>\n",
       "      <td>Buff/Tan</td>\n",
       "    </tr>\n",
       "    <tr>\n",
       "      <th>A732018</th>\n",
       "      <td>NaN</td>\n",
       "      <td>07/31/2016 11:43:00 AM</td>\n",
       "      <td>07/31/2016 11:43:00 AM</td>\n",
       "      <td>Outside Jurisdiction</td>\n",
       "      <td>Stray</td>\n",
       "      <td>Nursing</td>\n",
       "      <td>Dog</td>\n",
       "      <td>Intact Female</td>\n",
       "      <td>4 weeks</td>\n",
       "      <td>Labrador Retriever Mix</td>\n",
       "      <td>Buff/Tan</td>\n",
       "    </tr>\n",
       "    <tr>\n",
       "      <th>A732019</th>\n",
       "      <td>NaN</td>\n",
       "      <td>07/31/2016 11:43:00 AM</td>\n",
       "      <td>07/31/2016 11:43:00 AM</td>\n",
       "      <td>Outside Jurisdiction</td>\n",
       "      <td>Stray</td>\n",
       "      <td>Nursing</td>\n",
       "      <td>Dog</td>\n",
       "      <td>Intact Female</td>\n",
       "      <td>4 weeks</td>\n",
       "      <td>Labrador Retriever Mix</td>\n",
       "      <td>Buff/Tan</td>\n",
       "    </tr>\n",
       "    <tr>\n",
       "      <th>A732020</th>\n",
       "      <td>NaN</td>\n",
       "      <td>07/31/2016 11:43:00 AM</td>\n",
       "      <td>07/31/2016 11:43:00 AM</td>\n",
       "      <td>Outside Jurisdiction</td>\n",
       "      <td>Stray</td>\n",
       "      <td>Nursing</td>\n",
       "      <td>Dog</td>\n",
       "      <td>Intact Female</td>\n",
       "      <td>4 weeks</td>\n",
       "      <td>Labrador Retriever Mix</td>\n",
       "      <td>White</td>\n",
       "    </tr>\n",
       "    <tr>\n",
       "      <th>A732048</th>\n",
       "      <td>NaN</td>\n",
       "      <td>08/01/2016 12:13:00 PM</td>\n",
       "      <td>08/01/2016 12:13:00 PM</td>\n",
       "      <td>7201 Levander Loop in Austin (TX)</td>\n",
       "      <td>Stray</td>\n",
       "      <td>Normal</td>\n",
       "      <td>Dog</td>\n",
       "      <td>Intact Female</td>\n",
       "      <td>3 years</td>\n",
       "      <td>Labrador Retriever Mix</td>\n",
       "      <td>Black</td>\n",
       "    </tr>\n",
       "    <tr>\n",
       "      <th>A732050</th>\n",
       "      <td>NaN</td>\n",
       "      <td>08/01/2016 12:09:00 PM</td>\n",
       "      <td>08/01/2016 12:09:00 PM</td>\n",
       "      <td>1201 E Rundberg Ln in Austin (TX)</td>\n",
       "      <td>Stray</td>\n",
       "      <td>Normal</td>\n",
       "      <td>Dog</td>\n",
       "      <td>Intact Female</td>\n",
       "      <td>5 months</td>\n",
       "      <td>Labrador Retriever Mix</td>\n",
       "      <td>Black</td>\n",
       "    </tr>\n",
       "    <tr>\n",
       "      <th>A732072</th>\n",
       "      <td>Max</td>\n",
       "      <td>08/01/2016 04:42:00 PM</td>\n",
       "      <td>08/01/2016 04:42:00 PM</td>\n",
       "      <td>Harris Branch Pkwy &amp; Gregg Ln in Manor (TX)</td>\n",
       "      <td>Stray</td>\n",
       "      <td>Normal</td>\n",
       "      <td>Dog</td>\n",
       "      <td>Neutered Male</td>\n",
       "      <td>8 months</td>\n",
       "      <td>Labrador Retriever Mix</td>\n",
       "      <td>Black/White</td>\n",
       "    </tr>\n",
       "  </tbody>\n",
       "</table>\n",
       "<p>2846 rows × 11 columns</p>\n",
       "</div>"
      ],
      "text/plain": [
       "                   Name                DateTime               MonthYear  \\\n",
       "Animal ID                                                                 \n",
       "A221448          Tucker  10/27/2013 11:17:00 AM  10/27/2013 11:17:00 AM   \n",
       "A245945          Boomer  07/03/2014 05:55:00 PM  07/03/2014 05:55:00 PM   \n",
       "A245945          Boomer  05/20/2015 10:34:00 PM  05/20/2015 10:34:00 PM   \n",
       "A254503           Daisy  11/09/2014 11:04:00 AM  11/09/2014 11:04:00 AM   \n",
       "A256412            Beau  10/06/2013 11:33:00 AM  10/06/2013 11:33:00 AM   \n",
       "A268022           China  08/03/2015 12:03:00 PM  08/03/2015 12:03:00 PM   \n",
       "A281542          George  12/23/2013 01:23:00 PM  12/23/2013 01:23:00 PM   \n",
       "A308771            Lili  03/01/2014 04:44:00 PM  03/01/2014 04:44:00 PM   \n",
       "A329835           Molly  11/09/2013 04:45:00 PM  11/09/2013 04:45:00 PM   \n",
       "A329968           Romeo  10/21/2013 03:06:00 PM  10/21/2013 03:06:00 PM   \n",
       "A337859           Benny  07/25/2014 11:00:00 AM  07/25/2014 11:00:00 AM   \n",
       "A339103             Ani  04/21/2015 07:15:00 AM  04/21/2015 07:15:00 AM   \n",
       "A342480            Lucy  05/17/2015 01:37:00 PM  05/17/2015 01:37:00 PM   \n",
       "A345209           Chula  11/26/2014 10:17:00 PM  11/26/2014 10:17:00 PM   \n",
       "A345209           Chula  11/23/2014 01:00:00 PM  11/23/2014 01:00:00 PM   \n",
       "A349480           Daisy  12/15/2013 11:18:00 AM  12/15/2013 11:18:00 AM   \n",
       "A352555          Harley  08/08/2014 04:20:00 AM  08/08/2014 04:20:00 AM   \n",
       "A353259              Bj  05/08/2016 12:57:00 PM  05/08/2016 12:57:00 PM   \n",
       "A362707      Girly Girl  01/27/2016 12:27:00 PM  01/27/2016 12:27:00 PM   \n",
       "A365172          Diablo  08/26/2014 12:53:00 PM  08/26/2014 12:53:00 PM   \n",
       "A373687           Rosie  03/20/2014 12:31:00 PM  03/20/2014 12:31:00 PM   \n",
       "A380320          Scooby  02/03/2014 12:41:00 PM  02/03/2014 12:41:00 PM   \n",
       "A381173          Pepper  08/06/2014 12:07:00 PM  08/06/2014 12:07:00 PM   \n",
       "A385442           Clyde  01/11/2014 03:15:00 PM  01/11/2014 03:15:00 PM   \n",
       "A387083          Goldie  02/01/2014 06:36:00 PM  02/01/2014 06:36:00 PM   \n",
       "A394547    Snickerdoodl  01/24/2015 04:14:00 PM  01/24/2015 04:14:00 PM   \n",
       "A412626            *Sam  03/13/2016 11:17:00 AM  03/13/2016 11:17:00 AM   \n",
       "A419781           Zelda  10/24/2013 02:10:00 PM  10/24/2013 02:10:00 PM   \n",
       "A420464            Loki  10/13/2013 09:48:00 AM  10/13/2013 09:48:00 AM   \n",
       "A430366           Lucky  06/19/2015 05:40:00 PM  06/19/2015 05:40:00 PM   \n",
       "...                 ...                     ...                     ...   \n",
       "A731380             NaN  07/21/2016 12:36:00 PM  07/21/2016 12:36:00 PM   \n",
       "A731381           *Jake  07/25/2016 02:05:00 PM  07/25/2016 02:05:00 PM   \n",
       "A731452          *Oscar  07/22/2016 01:03:00 PM  07/22/2016 01:03:00 PM   \n",
       "A731533         *Guerro  07/23/2016 03:22:00 PM  07/23/2016 03:22:00 PM   \n",
       "A731567         Natasha  07/24/2016 11:40:00 AM  07/24/2016 11:40:00 AM   \n",
       "A731571            Emme  07/24/2016 12:48:00 PM  07/24/2016 12:48:00 PM   \n",
       "A731684             NaN  07/26/2016 11:30:00 AM  07/26/2016 11:30:00 AM   \n",
       "A731715        *Sweetie  07/26/2016 02:46:00 PM  07/26/2016 02:46:00 PM   \n",
       "A731716      *Cutie Pie  07/26/2016 02:46:00 PM  07/26/2016 02:46:00 PM   \n",
       "A731765             NaN  07/27/2016 12:16:00 PM  07/27/2016 12:16:00 PM   \n",
       "A731787             NaN  07/27/2016 03:06:00 PM  07/27/2016 03:06:00 PM   \n",
       "A731788             NaN  07/27/2016 03:06:00 PM  07/27/2016 03:06:00 PM   \n",
       "A731789             NaN  07/27/2016 03:06:00 PM  07/27/2016 03:06:00 PM   \n",
       "A731790             NaN  07/27/2016 03:06:00 PM  07/27/2016 03:06:00 PM   \n",
       "A731792             NaN  07/27/2016 03:06:00 PM  07/27/2016 03:06:00 PM   \n",
       "A731793            Trip  07/27/2016 03:06:00 PM  07/27/2016 03:06:00 PM   \n",
       "A731794             NaN  07/27/2016 03:06:00 PM  07/27/2016 03:06:00 PM   \n",
       "A731798           *Mojo  07/27/2016 03:50:00 PM  07/27/2016 03:50:00 PM   \n",
       "A731849           Kiddo  07/28/2016 12:03:00 PM  07/28/2016 12:03:00 PM   \n",
       "A731875        *Jackson  07/28/2016 03:56:00 PM  07/28/2016 03:56:00 PM   \n",
       "A731921         Drifter  07/29/2016 11:57:00 AM  07/29/2016 11:57:00 AM   \n",
       "A731963             NaN  07/30/2016 11:07:00 AM  07/30/2016 11:07:00 AM   \n",
       "A731987             NaN  07/30/2016 03:06:00 PM  07/30/2016 03:06:00 PM   \n",
       "A732017             NaN  07/31/2016 11:43:00 AM  07/31/2016 11:43:00 AM   \n",
       "A732018             NaN  07/31/2016 11:43:00 AM  07/31/2016 11:43:00 AM   \n",
       "A732019             NaN  07/31/2016 11:43:00 AM  07/31/2016 11:43:00 AM   \n",
       "A732020             NaN  07/31/2016 11:43:00 AM  07/31/2016 11:43:00 AM   \n",
       "A732048             NaN  08/01/2016 12:13:00 PM  08/01/2016 12:13:00 PM   \n",
       "A732050             NaN  08/01/2016 12:09:00 PM  08/01/2016 12:09:00 PM   \n",
       "A732072             Max  08/01/2016 04:42:00 PM  08/01/2016 04:42:00 PM   \n",
       "\n",
       "                                              Found Location  \\\n",
       "Animal ID                                                      \n",
       "A221448          Silver Spring Dr And Mesa Dr in Austin (TX)   \n",
       "A245945                    Garden And Mildred in Austin (TX)   \n",
       "A245945                     7403 Blessing Ave in Austin (TX)   \n",
       "A254503                       8603 Fathom Cir in Austin (TX)   \n",
       "A256412                   1001 Pres Arriba Rd in Austin (TX)   \n",
       "A268022                                 Outside Jurisdiction   \n",
       "A281542                                          Austin (TX)   \n",
       "A308771                        Lamar And 31St in Austin (TX)   \n",
       "A329835         Archdale And Decker Praire Ln in Austin (TX)   \n",
       "A329968                         12500 Amherst in Austin (TX)   \n",
       "A337859                                          Austin (TX)   \n",
       "A339103                 Travis Country Circle in Austin (TX)   \n",
       "A342480                 Laird Dr & Pequeno St in Austin (TX)   \n",
       "A345209                     4106 N Lamar Blvd in Austin (TX)   \n",
       "A345209             Thaxton Road/Salt Springs in Austin (TX)   \n",
       "A349480            12621 Hymeadow Dr Unit 205 in Austin (TX)   \n",
       "A352555                  6015 Kidneywood Trl. in Austin (TX)   \n",
       "A353259                      11530 Loweswater in Austin (TX)   \n",
       "A362707                 7207 A Tumble Weed Dr in Austin (TX)   \n",
       "A365172                                          Austin (TX)   \n",
       "A373687                                          Austin (TX)   \n",
       "A380320                                          Austin (TX)   \n",
       "A381173                      8500 Cornwall Dr in Austin (TX)   \n",
       "A385442             11116 Middle Fiskville Rd in Austin (TX)   \n",
       "A387083                         12401 N Lamar in Austin (TX)   \n",
       "A394547           Rowe Loop And Rowe Ln in Pflugerville (TX)   \n",
       "A412626               8520 New Hampshire Blvd in Austin (TX)   \n",
       "A419781                 Westcreek And Cana Cv in Austin (TX)   \n",
       "A420464                    183 And Jollyville in Austin (TX)   \n",
       "A430366      Signal Hill Dr And Rimrock Trail in Austin (TX)   \n",
       "...                                                      ...   \n",
       "A731380              E 12Th St And Poquito St in Austin (TX)   \n",
       "A731381                          11800 Lima Dr in Manor (TX)   \n",
       "A731452             Schmidt Ln And Anderson Rd in Manor (TX)   \n",
       "A731533                      8601 Vertex Blvd in Austin (TX)   \n",
       "A731567                            405 E 31St in Austin (TX)   \n",
       "A731571           Natures Bend And E Yager Ln in Austin (TX)   \n",
       "A731684    13701 N Interstate 35 Frontage Rd in Pflugervi...   \n",
       "A731715          Gebron Dr And Kohlers Trail in Lakeway (TX)   \n",
       "A731716          Gebron Dr And Kohlers Trail in Lakeway (TX)   \n",
       "A731765                           16205 N 973 in Austin (TX)   \n",
       "A731787                   5630 Wagon Train Rd in Austin (TX)   \n",
       "A731788                   5630 Wagon Train Rd in Austin (TX)   \n",
       "A731789                   5630 Wagon Train Rd in Austin (TX)   \n",
       "A731790                   5630 Wagon Train Rd in Austin (TX)   \n",
       "A731792                   5630 Wagon Train Rd in Austin (TX)   \n",
       "A731793                   5630 Wagon Train Rd in Austin (TX)   \n",
       "A731794                   5630 Wagon Train Rd in Austin (TX)   \n",
       "A731798                     11513 Lockhart Rd in Travis (TX)   \n",
       "A731849      S Congress Ave And W Stassney Ln in Austin (TX)   \n",
       "A731875               Athens St And Liberty St in Manor (TX)   \n",
       "A731921        Hillbrook Dr And Hillbrook Cir in Austin (TX)   \n",
       "A731963                     10606 Old Lochart in Austin (TX)   \n",
       "A731987                    14915 Hornsby Hill in Travis (TX)   \n",
       "A732017                                 Outside Jurisdiction   \n",
       "A732018                                 Outside Jurisdiction   \n",
       "A732019                                 Outside Jurisdiction   \n",
       "A732020                                 Outside Jurisdiction   \n",
       "A732048                    7201 Levander Loop in Austin (TX)   \n",
       "A732050                    1201 E Rundberg Ln in Austin (TX)   \n",
       "A732072          Harris Branch Pkwy & Gregg Ln in Manor (TX)   \n",
       "\n",
       "                  Intake Type Intake Condition Animal Type Sex upon Intake  \\\n",
       "Animal ID                                                                    \n",
       "A221448                 Stray           Normal         Dog   Neutered Male   \n",
       "A245945                 Stray           Normal         Dog   Neutered Male   \n",
       "A245945                 Stray           Normal         Dog   Neutered Male   \n",
       "A254503                 Stray           Normal         Dog   Spayed Female   \n",
       "A256412                 Stray          Injured         Dog     Intact Male   \n",
       "A268022    Euthanasia Request           Normal         Dog   Spayed Female   \n",
       "A281542       Owner Surrender           Normal         Dog   Neutered Male   \n",
       "A308771                 Stray           Normal         Dog   Spayed Female   \n",
       "A329835                 Stray           Normal         Dog   Spayed Female   \n",
       "A329968                 Stray           Normal         Dog   Neutered Male   \n",
       "A337859    Euthanasia Request             Aged         Dog   Neutered Male   \n",
       "A339103                 Stray           Normal         Dog   Spayed Female   \n",
       "A342480                 Stray           Normal         Dog   Spayed Female   \n",
       "A345209                 Stray           Normal         Dog   Spayed Female   \n",
       "A345209                 Stray           Normal         Dog   Spayed Female   \n",
       "A349480         Public Assist           Normal         Dog   Spayed Female   \n",
       "A352555         Public Assist           Normal         Dog   Spayed Female   \n",
       "A353259                 Stray          Injured         Dog   Neutered Male   \n",
       "A362707       Owner Surrender             Sick         Dog   Spayed Female   \n",
       "A365172       Owner Surrender           Normal         Dog   Neutered Male   \n",
       "A373687       Owner Surrender           Normal         Dog   Spayed Female   \n",
       "A380320    Euthanasia Request           Normal         Dog   Neutered Male   \n",
       "A381173                 Stray           Normal         Dog   Spayed Female   \n",
       "A385442                 Stray           Normal         Dog   Neutered Male   \n",
       "A387083                 Stray           Normal         Dog   Spayed Female   \n",
       "A394547                 Stray           Normal         Dog   Spayed Female   \n",
       "A412626       Owner Surrender           Normal         Dog   Neutered Male   \n",
       "A419781                 Stray           Normal         Dog   Spayed Female   \n",
       "A420464                 Stray           Normal         Dog   Neutered Male   \n",
       "A430366                 Stray           Normal         Dog   Neutered Male   \n",
       "...                       ...              ...         ...             ...   \n",
       "A731380                 Stray           Normal         Dog     Intact Male   \n",
       "A731381                 Stray           Normal         Dog     Intact Male   \n",
       "A731452                 Stray           Normal         Dog     Intact Male   \n",
       "A731533                 Stray             Aged         Dog   Neutered Male   \n",
       "A731567         Public Assist           Normal         Dog   Spayed Female   \n",
       "A731571                 Stray           Normal         Dog   Intact Female   \n",
       "A731684                 Stray           Normal         Dog     Intact Male   \n",
       "A731715                 Stray           Normal         Dog   Intact Female   \n",
       "A731716                 Stray           Normal         Dog     Intact Male   \n",
       "A731765                 Stray           Normal         Dog     Intact Male   \n",
       "A731787                 Stray           Normal         Dog     Intact Male   \n",
       "A731788                 Stray           Normal         Dog     Intact Male   \n",
       "A731789                 Stray           Normal         Dog   Intact Female   \n",
       "A731790                 Stray           Normal         Dog   Intact Female   \n",
       "A731792                 Stray           Normal         Dog   Intact Female   \n",
       "A731793                 Stray           Normal         Dog     Intact Male   \n",
       "A731794                 Stray           Normal         Dog     Intact Male   \n",
       "A731798                 Stray           Normal         Dog     Intact Male   \n",
       "A731849                 Stray           Normal         Dog   Intact Female   \n",
       "A731875                 Stray           Normal         Dog   Neutered Male   \n",
       "A731921                 Stray           Normal         Dog     Intact Male   \n",
       "A731963                 Stray           Normal         Dog     Intact Male   \n",
       "A731987                 Stray           Normal         Dog   Intact Female   \n",
       "A732017                 Stray          Nursing         Dog   Intact Female   \n",
       "A732018                 Stray          Nursing         Dog   Intact Female   \n",
       "A732019                 Stray          Nursing         Dog   Intact Female   \n",
       "A732020                 Stray          Nursing         Dog   Intact Female   \n",
       "A732048                 Stray           Normal         Dog   Intact Female   \n",
       "A732050                 Stray           Normal         Dog   Intact Female   \n",
       "A732072                 Stray           Normal         Dog   Neutered Male   \n",
       "\n",
       "          Age upon Intake                   Breed                Color  \n",
       "Animal ID                                                               \n",
       "A221448          12 years  Labrador Retriever Mix          Brown/White  \n",
       "A245945          14 years  Labrador Retriever Mix                  Tan  \n",
       "A245945          15 years  Labrador Retriever Mix                  Tan  \n",
       "A254503          17 years  Labrador Retriever Mix                  Tan  \n",
       "A256412          16 years  Labrador Retriever Mix               Yellow  \n",
       "A268022          13 years  Labrador Retriever Mix                  Tan  \n",
       "A281542          12 years  Labrador Retriever Mix  Black/Brown Brindle  \n",
       "A308771          14 years  Labrador Retriever Mix                Brown  \n",
       "A329835          10 years  Labrador Retriever Mix          Brown/Black  \n",
       "A329968          14 years      Labrador Retriever               Yellow  \n",
       "A337859          14 years  Labrador Retriever Mix                White  \n",
       "A339103          11 years  Labrador Retriever Mix          Brown/White  \n",
       "A342480          14 years  Labrador Retriever Mix              Red/Tan  \n",
       "A345209          10 years  Labrador Retriever Mix                  Tan  \n",
       "A345209          10 years  Labrador Retriever Mix                  Tan  \n",
       "A349480          11 years  Labrador Retriever Mix            Chocolate  \n",
       "A352555          13 years  Labrador Retriever Mix                  Tan  \n",
       "A353259          14 years      Labrador Retriever                  Tan  \n",
       "A362707          11 years  Labrador Retriever Mix                Black  \n",
       "A365172          10 years  Labrador Retriever Mix          Black/White  \n",
       "A373687           9 years  Labrador Retriever Mix            Red/Black  \n",
       "A380320           9 years  Labrador Retriever Mix                  Red  \n",
       "A381173          14 years  Labrador Retriever Mix          Brown/White  \n",
       "A385442          10 years  Labrador Retriever Mix            Cream/Tan  \n",
       "A387083           9 years  Labrador Retriever Mix                  Tan  \n",
       "A394547           9 years  Labrador Retriever Mix      Chocolate/White  \n",
       "A412626          12 years  Labrador Retriever Mix          Black/White  \n",
       "A419781           7 years  Labrador Retriever Mix                  Red  \n",
       "A420464           7 years  Labrador Retriever Mix          Black/White  \n",
       "A430366           9 years  Labrador Retriever Mix                Black  \n",
       "...                   ...                     ...                  ...  \n",
       "A731380          4 months  Labrador Retriever Mix                  Tan  \n",
       "A731381          5 months  Labrador Retriever Mix                Black  \n",
       "A731452           2 years  Labrador Retriever Mix                  Tan  \n",
       "A731533           7 years  Labrador Retriever Mix               Yellow  \n",
       "A731567           3 years  Labrador Retriever Mix             Tricolor  \n",
       "A731571           2 years  Labrador Retriever Mix                Black  \n",
       "A731684           1 month  Labrador Retriever Mix          Black/White  \n",
       "A731715          4 months  Labrador Retriever Mix                Black  \n",
       "A731716          4 months  Labrador Retriever Mix                  Tan  \n",
       "A731765          9 months      Labrador Retriever          Black/White  \n",
       "A731787           1 month  Labrador Retriever Mix                Black  \n",
       "A731788           1 month  Labrador Retriever Mix          Black/White  \n",
       "A731789           1 month  Labrador Retriever Mix                Black  \n",
       "A731790           1 month  Labrador Retriever Mix                Black  \n",
       "A731792           1 month  Labrador Retriever Mix                Black  \n",
       "A731793           1 month  Labrador Retriever Mix                Black  \n",
       "A731794           1 month  Labrador Retriever Mix                Black  \n",
       "A731798          7 months  Labrador Retriever Mix                  Red  \n",
       "A731849          10 years  Labrador Retriever Mix                Black  \n",
       "A731875           2 years  Labrador Retriever Mix               Yellow  \n",
       "A731921          13 years  Labrador Retriever Mix            Tan/White  \n",
       "A731963            1 year  Labrador Retriever Mix          White/Cream  \n",
       "A731987           2 years  Labrador Retriever Mix          Black/Brown  \n",
       "A732017           4 weeks  Labrador Retriever Mix             Buff/Tan  \n",
       "A732018           4 weeks  Labrador Retriever Mix             Buff/Tan  \n",
       "A732019           4 weeks  Labrador Retriever Mix             Buff/Tan  \n",
       "A732020           4 weeks  Labrador Retriever Mix                White  \n",
       "A732048           3 years  Labrador Retriever Mix                Black  \n",
       "A732050          5 months  Labrador Retriever Mix                Black  \n",
       "A732072          8 months  Labrador Retriever Mix          Black/White  \n",
       "\n",
       "[2846 rows x 11 columns]"
      ]
     },
     "execution_count": 49,
     "metadata": {},
     "output_type": "execute_result"
    }
   ],
   "source": [
    "labs"
   ]
  },
  {
   "cell_type": "code",
   "execution_count": 44,
   "metadata": {
    "collapsed": false
   },
   "outputs": [
    {
     "data": {
      "text/plain": [
       "Name                                          *Shadow\n",
       "DateTime                       10/08/2013 03:33:00 PM\n",
       "MonthYear                      10/08/2013 03:33:00 PM\n",
       "Found Location      Teri Rd And Hwy 71 in Austin (TX)\n",
       "Intake Type                                     Stray\n",
       "Intake Condition                              Injured\n",
       "Animal Type                                       Dog\n",
       "Sex upon Intake                         Intact Female\n",
       "Age upon Intake                              9 months\n",
       "Breed                          Labrador Retriever Mix\n",
       "Color                                           Black\n",
       "Name: A664743, dtype: object"
      ]
     },
     "execution_count": 44,
     "metadata": {},
     "output_type": "execute_result"
    }
   ],
   "source": [
    "labs.loc['A664743']"
   ]
  },
  {
   "cell_type": "code",
   "execution_count": 50,
   "metadata": {
    "collapsed": true
   },
   "outputs": [],
   "source": [
    "labs = labradors.set_index(['Animal ID', 'Intake Type']).sort_index()"
   ]
  },
  {
   "cell_type": "code",
   "execution_count": 51,
   "metadata": {
    "collapsed": false
   },
   "outputs": [
    {
     "data": {
      "text/html": [
       "<div>\n",
       "<table border=\"1\" class=\"dataframe\">\n",
       "  <thead>\n",
       "    <tr style=\"text-align: right;\">\n",
       "      <th></th>\n",
       "      <th></th>\n",
       "      <th>Name</th>\n",
       "      <th>DateTime</th>\n",
       "      <th>MonthYear</th>\n",
       "      <th>Found Location</th>\n",
       "      <th>Intake Condition</th>\n",
       "      <th>Animal Type</th>\n",
       "      <th>Sex upon Intake</th>\n",
       "      <th>Age upon Intake</th>\n",
       "      <th>Breed</th>\n",
       "      <th>Color</th>\n",
       "    </tr>\n",
       "    <tr>\n",
       "      <th>Animal ID</th>\n",
       "      <th>Intake Type</th>\n",
       "      <th></th>\n",
       "      <th></th>\n",
       "      <th></th>\n",
       "      <th></th>\n",
       "      <th></th>\n",
       "      <th></th>\n",
       "      <th></th>\n",
       "      <th></th>\n",
       "      <th></th>\n",
       "      <th></th>\n",
       "    </tr>\n",
       "  </thead>\n",
       "  <tbody>\n",
       "    <tr>\n",
       "      <th>A221448</th>\n",
       "      <th>Stray</th>\n",
       "      <td>Tucker</td>\n",
       "      <td>10/27/2013 11:17:00 AM</td>\n",
       "      <td>10/27/2013 11:17:00 AM</td>\n",
       "      <td>Silver Spring Dr And Mesa Dr in Austin (TX)</td>\n",
       "      <td>Normal</td>\n",
       "      <td>Dog</td>\n",
       "      <td>Neutered Male</td>\n",
       "      <td>12 years</td>\n",
       "      <td>Labrador Retriever Mix</td>\n",
       "      <td>Brown/White</td>\n",
       "    </tr>\n",
       "    <tr>\n",
       "      <th rowspan=\"2\" valign=\"top\">A245945</th>\n",
       "      <th>Stray</th>\n",
       "      <td>Boomer</td>\n",
       "      <td>07/03/2014 05:55:00 PM</td>\n",
       "      <td>07/03/2014 05:55:00 PM</td>\n",
       "      <td>Garden And Mildred in Austin (TX)</td>\n",
       "      <td>Normal</td>\n",
       "      <td>Dog</td>\n",
       "      <td>Neutered Male</td>\n",
       "      <td>14 years</td>\n",
       "      <td>Labrador Retriever Mix</td>\n",
       "      <td>Tan</td>\n",
       "    </tr>\n",
       "    <tr>\n",
       "      <th>Stray</th>\n",
       "      <td>Boomer</td>\n",
       "      <td>05/20/2015 10:34:00 PM</td>\n",
       "      <td>05/20/2015 10:34:00 PM</td>\n",
       "      <td>7403 Blessing Ave in Austin (TX)</td>\n",
       "      <td>Normal</td>\n",
       "      <td>Dog</td>\n",
       "      <td>Neutered Male</td>\n",
       "      <td>15 years</td>\n",
       "      <td>Labrador Retriever Mix</td>\n",
       "      <td>Tan</td>\n",
       "    </tr>\n",
       "    <tr>\n",
       "      <th>A254503</th>\n",
       "      <th>Stray</th>\n",
       "      <td>Daisy</td>\n",
       "      <td>11/09/2014 11:04:00 AM</td>\n",
       "      <td>11/09/2014 11:04:00 AM</td>\n",
       "      <td>8603 Fathom Cir in Austin (TX)</td>\n",
       "      <td>Normal</td>\n",
       "      <td>Dog</td>\n",
       "      <td>Spayed Female</td>\n",
       "      <td>17 years</td>\n",
       "      <td>Labrador Retriever Mix</td>\n",
       "      <td>Tan</td>\n",
       "    </tr>\n",
       "    <tr>\n",
       "      <th>A256412</th>\n",
       "      <th>Stray</th>\n",
       "      <td>Beau</td>\n",
       "      <td>10/06/2013 11:33:00 AM</td>\n",
       "      <td>10/06/2013 11:33:00 AM</td>\n",
       "      <td>1001 Pres Arriba Rd in Austin (TX)</td>\n",
       "      <td>Injured</td>\n",
       "      <td>Dog</td>\n",
       "      <td>Intact Male</td>\n",
       "      <td>16 years</td>\n",
       "      <td>Labrador Retriever Mix</td>\n",
       "      <td>Yellow</td>\n",
       "    </tr>\n",
       "    <tr>\n",
       "      <th>A268022</th>\n",
       "      <th>Euthanasia Request</th>\n",
       "      <td>China</td>\n",
       "      <td>08/03/2015 12:03:00 PM</td>\n",
       "      <td>08/03/2015 12:03:00 PM</td>\n",
       "      <td>Outside Jurisdiction</td>\n",
       "      <td>Normal</td>\n",
       "      <td>Dog</td>\n",
       "      <td>Spayed Female</td>\n",
       "      <td>13 years</td>\n",
       "      <td>Labrador Retriever Mix</td>\n",
       "      <td>Tan</td>\n",
       "    </tr>\n",
       "    <tr>\n",
       "      <th>A281542</th>\n",
       "      <th>Owner Surrender</th>\n",
       "      <td>George</td>\n",
       "      <td>12/23/2013 01:23:00 PM</td>\n",
       "      <td>12/23/2013 01:23:00 PM</td>\n",
       "      <td>Austin (TX)</td>\n",
       "      <td>Normal</td>\n",
       "      <td>Dog</td>\n",
       "      <td>Neutered Male</td>\n",
       "      <td>12 years</td>\n",
       "      <td>Labrador Retriever Mix</td>\n",
       "      <td>Black/Brown Brindle</td>\n",
       "    </tr>\n",
       "    <tr>\n",
       "      <th>A308771</th>\n",
       "      <th>Stray</th>\n",
       "      <td>Lili</td>\n",
       "      <td>03/01/2014 04:44:00 PM</td>\n",
       "      <td>03/01/2014 04:44:00 PM</td>\n",
       "      <td>Lamar And 31St in Austin (TX)</td>\n",
       "      <td>Normal</td>\n",
       "      <td>Dog</td>\n",
       "      <td>Spayed Female</td>\n",
       "      <td>14 years</td>\n",
       "      <td>Labrador Retriever Mix</td>\n",
       "      <td>Brown</td>\n",
       "    </tr>\n",
       "    <tr>\n",
       "      <th>A329835</th>\n",
       "      <th>Stray</th>\n",
       "      <td>Molly</td>\n",
       "      <td>11/09/2013 04:45:00 PM</td>\n",
       "      <td>11/09/2013 04:45:00 PM</td>\n",
       "      <td>Archdale And Decker Praire Ln in Austin (TX)</td>\n",
       "      <td>Normal</td>\n",
       "      <td>Dog</td>\n",
       "      <td>Spayed Female</td>\n",
       "      <td>10 years</td>\n",
       "      <td>Labrador Retriever Mix</td>\n",
       "      <td>Brown/Black</td>\n",
       "    </tr>\n",
       "    <tr>\n",
       "      <th>A329968</th>\n",
       "      <th>Stray</th>\n",
       "      <td>Romeo</td>\n",
       "      <td>10/21/2013 03:06:00 PM</td>\n",
       "      <td>10/21/2013 03:06:00 PM</td>\n",
       "      <td>12500 Amherst in Austin (TX)</td>\n",
       "      <td>Normal</td>\n",
       "      <td>Dog</td>\n",
       "      <td>Neutered Male</td>\n",
       "      <td>14 years</td>\n",
       "      <td>Labrador Retriever</td>\n",
       "      <td>Yellow</td>\n",
       "    </tr>\n",
       "    <tr>\n",
       "      <th>A337859</th>\n",
       "      <th>Euthanasia Request</th>\n",
       "      <td>Benny</td>\n",
       "      <td>07/25/2014 11:00:00 AM</td>\n",
       "      <td>07/25/2014 11:00:00 AM</td>\n",
       "      <td>Austin (TX)</td>\n",
       "      <td>Aged</td>\n",
       "      <td>Dog</td>\n",
       "      <td>Neutered Male</td>\n",
       "      <td>14 years</td>\n",
       "      <td>Labrador Retriever Mix</td>\n",
       "      <td>White</td>\n",
       "    </tr>\n",
       "    <tr>\n",
       "      <th>A339103</th>\n",
       "      <th>Stray</th>\n",
       "      <td>Ani</td>\n",
       "      <td>04/21/2015 07:15:00 AM</td>\n",
       "      <td>04/21/2015 07:15:00 AM</td>\n",
       "      <td>Travis Country Circle in Austin (TX)</td>\n",
       "      <td>Normal</td>\n",
       "      <td>Dog</td>\n",
       "      <td>Spayed Female</td>\n",
       "      <td>11 years</td>\n",
       "      <td>Labrador Retriever Mix</td>\n",
       "      <td>Brown/White</td>\n",
       "    </tr>\n",
       "    <tr>\n",
       "      <th>A342480</th>\n",
       "      <th>Stray</th>\n",
       "      <td>Lucy</td>\n",
       "      <td>05/17/2015 01:37:00 PM</td>\n",
       "      <td>05/17/2015 01:37:00 PM</td>\n",
       "      <td>Laird Dr &amp; Pequeno St in Austin (TX)</td>\n",
       "      <td>Normal</td>\n",
       "      <td>Dog</td>\n",
       "      <td>Spayed Female</td>\n",
       "      <td>14 years</td>\n",
       "      <td>Labrador Retriever Mix</td>\n",
       "      <td>Red/Tan</td>\n",
       "    </tr>\n",
       "    <tr>\n",
       "      <th rowspan=\"2\" valign=\"top\">A345209</th>\n",
       "      <th>Stray</th>\n",
       "      <td>Chula</td>\n",
       "      <td>11/23/2014 01:00:00 PM</td>\n",
       "      <td>11/23/2014 01:00:00 PM</td>\n",
       "      <td>Thaxton Road/Salt Springs in Austin (TX)</td>\n",
       "      <td>Normal</td>\n",
       "      <td>Dog</td>\n",
       "      <td>Spayed Female</td>\n",
       "      <td>10 years</td>\n",
       "      <td>Labrador Retriever Mix</td>\n",
       "      <td>Tan</td>\n",
       "    </tr>\n",
       "    <tr>\n",
       "      <th>Stray</th>\n",
       "      <td>Chula</td>\n",
       "      <td>11/26/2014 10:17:00 PM</td>\n",
       "      <td>11/26/2014 10:17:00 PM</td>\n",
       "      <td>4106 N Lamar Blvd in Austin (TX)</td>\n",
       "      <td>Normal</td>\n",
       "      <td>Dog</td>\n",
       "      <td>Spayed Female</td>\n",
       "      <td>10 years</td>\n",
       "      <td>Labrador Retriever Mix</td>\n",
       "      <td>Tan</td>\n",
       "    </tr>\n",
       "    <tr>\n",
       "      <th>A349480</th>\n",
       "      <th>Public Assist</th>\n",
       "      <td>Daisy</td>\n",
       "      <td>12/15/2013 11:18:00 AM</td>\n",
       "      <td>12/15/2013 11:18:00 AM</td>\n",
       "      <td>12621 Hymeadow Dr Unit 205 in Austin (TX)</td>\n",
       "      <td>Normal</td>\n",
       "      <td>Dog</td>\n",
       "      <td>Spayed Female</td>\n",
       "      <td>11 years</td>\n",
       "      <td>Labrador Retriever Mix</td>\n",
       "      <td>Chocolate</td>\n",
       "    </tr>\n",
       "    <tr>\n",
       "      <th>A352555</th>\n",
       "      <th>Public Assist</th>\n",
       "      <td>Harley</td>\n",
       "      <td>08/08/2014 04:20:00 AM</td>\n",
       "      <td>08/08/2014 04:20:00 AM</td>\n",
       "      <td>6015 Kidneywood Trl. in Austin (TX)</td>\n",
       "      <td>Normal</td>\n",
       "      <td>Dog</td>\n",
       "      <td>Spayed Female</td>\n",
       "      <td>13 years</td>\n",
       "      <td>Labrador Retriever Mix</td>\n",
       "      <td>Tan</td>\n",
       "    </tr>\n",
       "    <tr>\n",
       "      <th>A353259</th>\n",
       "      <th>Stray</th>\n",
       "      <td>Bj</td>\n",
       "      <td>05/08/2016 12:57:00 PM</td>\n",
       "      <td>05/08/2016 12:57:00 PM</td>\n",
       "      <td>11530 Loweswater in Austin (TX)</td>\n",
       "      <td>Injured</td>\n",
       "      <td>Dog</td>\n",
       "      <td>Neutered Male</td>\n",
       "      <td>14 years</td>\n",
       "      <td>Labrador Retriever</td>\n",
       "      <td>Tan</td>\n",
       "    </tr>\n",
       "    <tr>\n",
       "      <th>A362707</th>\n",
       "      <th>Owner Surrender</th>\n",
       "      <td>Girly Girl</td>\n",
       "      <td>01/27/2016 12:27:00 PM</td>\n",
       "      <td>01/27/2016 12:27:00 PM</td>\n",
       "      <td>7207 A Tumble Weed Dr in Austin (TX)</td>\n",
       "      <td>Sick</td>\n",
       "      <td>Dog</td>\n",
       "      <td>Spayed Female</td>\n",
       "      <td>11 years</td>\n",
       "      <td>Labrador Retriever Mix</td>\n",
       "      <td>Black</td>\n",
       "    </tr>\n",
       "    <tr>\n",
       "      <th>A365172</th>\n",
       "      <th>Owner Surrender</th>\n",
       "      <td>Diablo</td>\n",
       "      <td>08/26/2014 12:53:00 PM</td>\n",
       "      <td>08/26/2014 12:53:00 PM</td>\n",
       "      <td>Austin (TX)</td>\n",
       "      <td>Normal</td>\n",
       "      <td>Dog</td>\n",
       "      <td>Neutered Male</td>\n",
       "      <td>10 years</td>\n",
       "      <td>Labrador Retriever Mix</td>\n",
       "      <td>Black/White</td>\n",
       "    </tr>\n",
       "    <tr>\n",
       "      <th>A373687</th>\n",
       "      <th>Owner Surrender</th>\n",
       "      <td>Rosie</td>\n",
       "      <td>03/20/2014 12:31:00 PM</td>\n",
       "      <td>03/20/2014 12:31:00 PM</td>\n",
       "      <td>Austin (TX)</td>\n",
       "      <td>Normal</td>\n",
       "      <td>Dog</td>\n",
       "      <td>Spayed Female</td>\n",
       "      <td>9 years</td>\n",
       "      <td>Labrador Retriever Mix</td>\n",
       "      <td>Red/Black</td>\n",
       "    </tr>\n",
       "    <tr>\n",
       "      <th>A380320</th>\n",
       "      <th>Euthanasia Request</th>\n",
       "      <td>Scooby</td>\n",
       "      <td>02/03/2014 12:41:00 PM</td>\n",
       "      <td>02/03/2014 12:41:00 PM</td>\n",
       "      <td>Austin (TX)</td>\n",
       "      <td>Normal</td>\n",
       "      <td>Dog</td>\n",
       "      <td>Neutered Male</td>\n",
       "      <td>9 years</td>\n",
       "      <td>Labrador Retriever Mix</td>\n",
       "      <td>Red</td>\n",
       "    </tr>\n",
       "    <tr>\n",
       "      <th>A381173</th>\n",
       "      <th>Stray</th>\n",
       "      <td>Pepper</td>\n",
       "      <td>08/06/2014 12:07:00 PM</td>\n",
       "      <td>08/06/2014 12:07:00 PM</td>\n",
       "      <td>8500 Cornwall Dr in Austin (TX)</td>\n",
       "      <td>Normal</td>\n",
       "      <td>Dog</td>\n",
       "      <td>Spayed Female</td>\n",
       "      <td>14 years</td>\n",
       "      <td>Labrador Retriever Mix</td>\n",
       "      <td>Brown/White</td>\n",
       "    </tr>\n",
       "    <tr>\n",
       "      <th>A385442</th>\n",
       "      <th>Stray</th>\n",
       "      <td>Clyde</td>\n",
       "      <td>01/11/2014 03:15:00 PM</td>\n",
       "      <td>01/11/2014 03:15:00 PM</td>\n",
       "      <td>11116 Middle Fiskville Rd in Austin (TX)</td>\n",
       "      <td>Normal</td>\n",
       "      <td>Dog</td>\n",
       "      <td>Neutered Male</td>\n",
       "      <td>10 years</td>\n",
       "      <td>Labrador Retriever Mix</td>\n",
       "      <td>Cream/Tan</td>\n",
       "    </tr>\n",
       "    <tr>\n",
       "      <th>A387083</th>\n",
       "      <th>Stray</th>\n",
       "      <td>Goldie</td>\n",
       "      <td>02/01/2014 06:36:00 PM</td>\n",
       "      <td>02/01/2014 06:36:00 PM</td>\n",
       "      <td>12401 N Lamar in Austin (TX)</td>\n",
       "      <td>Normal</td>\n",
       "      <td>Dog</td>\n",
       "      <td>Spayed Female</td>\n",
       "      <td>9 years</td>\n",
       "      <td>Labrador Retriever Mix</td>\n",
       "      <td>Tan</td>\n",
       "    </tr>\n",
       "    <tr>\n",
       "      <th>A394547</th>\n",
       "      <th>Stray</th>\n",
       "      <td>Snickerdoodl</td>\n",
       "      <td>01/24/2015 04:14:00 PM</td>\n",
       "      <td>01/24/2015 04:14:00 PM</td>\n",
       "      <td>Rowe Loop And Rowe Ln in Pflugerville (TX)</td>\n",
       "      <td>Normal</td>\n",
       "      <td>Dog</td>\n",
       "      <td>Spayed Female</td>\n",
       "      <td>9 years</td>\n",
       "      <td>Labrador Retriever Mix</td>\n",
       "      <td>Chocolate/White</td>\n",
       "    </tr>\n",
       "    <tr>\n",
       "      <th>A412626</th>\n",
       "      <th>Owner Surrender</th>\n",
       "      <td>*Sam</td>\n",
       "      <td>03/13/2016 11:17:00 AM</td>\n",
       "      <td>03/13/2016 11:17:00 AM</td>\n",
       "      <td>8520 New Hampshire Blvd in Austin (TX)</td>\n",
       "      <td>Normal</td>\n",
       "      <td>Dog</td>\n",
       "      <td>Neutered Male</td>\n",
       "      <td>12 years</td>\n",
       "      <td>Labrador Retriever Mix</td>\n",
       "      <td>Black/White</td>\n",
       "    </tr>\n",
       "    <tr>\n",
       "      <th>A419781</th>\n",
       "      <th>Stray</th>\n",
       "      <td>Zelda</td>\n",
       "      <td>10/24/2013 02:10:00 PM</td>\n",
       "      <td>10/24/2013 02:10:00 PM</td>\n",
       "      <td>Westcreek And Cana Cv in Austin (TX)</td>\n",
       "      <td>Normal</td>\n",
       "      <td>Dog</td>\n",
       "      <td>Spayed Female</td>\n",
       "      <td>7 years</td>\n",
       "      <td>Labrador Retriever Mix</td>\n",
       "      <td>Red</td>\n",
       "    </tr>\n",
       "    <tr>\n",
       "      <th>A420464</th>\n",
       "      <th>Stray</th>\n",
       "      <td>Loki</td>\n",
       "      <td>10/13/2013 09:48:00 AM</td>\n",
       "      <td>10/13/2013 09:48:00 AM</td>\n",
       "      <td>183 And Jollyville in Austin (TX)</td>\n",
       "      <td>Normal</td>\n",
       "      <td>Dog</td>\n",
       "      <td>Neutered Male</td>\n",
       "      <td>7 years</td>\n",
       "      <td>Labrador Retriever Mix</td>\n",
       "      <td>Black/White</td>\n",
       "    </tr>\n",
       "    <tr>\n",
       "      <th>A430366</th>\n",
       "      <th>Stray</th>\n",
       "      <td>Lucky</td>\n",
       "      <td>06/19/2015 05:40:00 PM</td>\n",
       "      <td>06/19/2015 05:40:00 PM</td>\n",
       "      <td>Signal Hill Dr And Rimrock Trail in Austin (TX)</td>\n",
       "      <td>Normal</td>\n",
       "      <td>Dog</td>\n",
       "      <td>Neutered Male</td>\n",
       "      <td>9 years</td>\n",
       "      <td>Labrador Retriever Mix</td>\n",
       "      <td>Black</td>\n",
       "    </tr>\n",
       "    <tr>\n",
       "      <th>...</th>\n",
       "      <th>...</th>\n",
       "      <td>...</td>\n",
       "      <td>...</td>\n",
       "      <td>...</td>\n",
       "      <td>...</td>\n",
       "      <td>...</td>\n",
       "      <td>...</td>\n",
       "      <td>...</td>\n",
       "      <td>...</td>\n",
       "      <td>...</td>\n",
       "      <td>...</td>\n",
       "    </tr>\n",
       "    <tr>\n",
       "      <th>A731380</th>\n",
       "      <th>Stray</th>\n",
       "      <td>NaN</td>\n",
       "      <td>07/21/2016 12:36:00 PM</td>\n",
       "      <td>07/21/2016 12:36:00 PM</td>\n",
       "      <td>E 12Th St And Poquito St in Austin (TX)</td>\n",
       "      <td>Normal</td>\n",
       "      <td>Dog</td>\n",
       "      <td>Intact Male</td>\n",
       "      <td>4 months</td>\n",
       "      <td>Labrador Retriever Mix</td>\n",
       "      <td>Tan</td>\n",
       "    </tr>\n",
       "    <tr>\n",
       "      <th>A731381</th>\n",
       "      <th>Stray</th>\n",
       "      <td>*Jake</td>\n",
       "      <td>07/25/2016 02:05:00 PM</td>\n",
       "      <td>07/25/2016 02:05:00 PM</td>\n",
       "      <td>11800 Lima Dr in Manor (TX)</td>\n",
       "      <td>Normal</td>\n",
       "      <td>Dog</td>\n",
       "      <td>Intact Male</td>\n",
       "      <td>5 months</td>\n",
       "      <td>Labrador Retriever Mix</td>\n",
       "      <td>Black</td>\n",
       "    </tr>\n",
       "    <tr>\n",
       "      <th>A731452</th>\n",
       "      <th>Stray</th>\n",
       "      <td>*Oscar</td>\n",
       "      <td>07/22/2016 01:03:00 PM</td>\n",
       "      <td>07/22/2016 01:03:00 PM</td>\n",
       "      <td>Schmidt Ln And Anderson Rd in Manor (TX)</td>\n",
       "      <td>Normal</td>\n",
       "      <td>Dog</td>\n",
       "      <td>Intact Male</td>\n",
       "      <td>2 years</td>\n",
       "      <td>Labrador Retriever Mix</td>\n",
       "      <td>Tan</td>\n",
       "    </tr>\n",
       "    <tr>\n",
       "      <th>A731533</th>\n",
       "      <th>Stray</th>\n",
       "      <td>*Guerro</td>\n",
       "      <td>07/23/2016 03:22:00 PM</td>\n",
       "      <td>07/23/2016 03:22:00 PM</td>\n",
       "      <td>8601 Vertex Blvd in Austin (TX)</td>\n",
       "      <td>Aged</td>\n",
       "      <td>Dog</td>\n",
       "      <td>Neutered Male</td>\n",
       "      <td>7 years</td>\n",
       "      <td>Labrador Retriever Mix</td>\n",
       "      <td>Yellow</td>\n",
       "    </tr>\n",
       "    <tr>\n",
       "      <th>A731567</th>\n",
       "      <th>Public Assist</th>\n",
       "      <td>Natasha</td>\n",
       "      <td>07/24/2016 11:40:00 AM</td>\n",
       "      <td>07/24/2016 11:40:00 AM</td>\n",
       "      <td>405 E 31St in Austin (TX)</td>\n",
       "      <td>Normal</td>\n",
       "      <td>Dog</td>\n",
       "      <td>Spayed Female</td>\n",
       "      <td>3 years</td>\n",
       "      <td>Labrador Retriever Mix</td>\n",
       "      <td>Tricolor</td>\n",
       "    </tr>\n",
       "    <tr>\n",
       "      <th>A731571</th>\n",
       "      <th>Stray</th>\n",
       "      <td>Emme</td>\n",
       "      <td>07/24/2016 12:48:00 PM</td>\n",
       "      <td>07/24/2016 12:48:00 PM</td>\n",
       "      <td>Natures Bend And E Yager Ln in Austin (TX)</td>\n",
       "      <td>Normal</td>\n",
       "      <td>Dog</td>\n",
       "      <td>Intact Female</td>\n",
       "      <td>2 years</td>\n",
       "      <td>Labrador Retriever Mix</td>\n",
       "      <td>Black</td>\n",
       "    </tr>\n",
       "    <tr>\n",
       "      <th>A731684</th>\n",
       "      <th>Stray</th>\n",
       "      <td>NaN</td>\n",
       "      <td>07/26/2016 11:30:00 AM</td>\n",
       "      <td>07/26/2016 11:30:00 AM</td>\n",
       "      <td>13701 N Interstate 35 Frontage Rd in Pflugervi...</td>\n",
       "      <td>Normal</td>\n",
       "      <td>Dog</td>\n",
       "      <td>Intact Male</td>\n",
       "      <td>1 month</td>\n",
       "      <td>Labrador Retriever Mix</td>\n",
       "      <td>Black/White</td>\n",
       "    </tr>\n",
       "    <tr>\n",
       "      <th>A731715</th>\n",
       "      <th>Stray</th>\n",
       "      <td>*Sweetie</td>\n",
       "      <td>07/26/2016 02:46:00 PM</td>\n",
       "      <td>07/26/2016 02:46:00 PM</td>\n",
       "      <td>Gebron Dr And Kohlers Trail in Lakeway (TX)</td>\n",
       "      <td>Normal</td>\n",
       "      <td>Dog</td>\n",
       "      <td>Intact Female</td>\n",
       "      <td>4 months</td>\n",
       "      <td>Labrador Retriever Mix</td>\n",
       "      <td>Black</td>\n",
       "    </tr>\n",
       "    <tr>\n",
       "      <th>A731716</th>\n",
       "      <th>Stray</th>\n",
       "      <td>*Cutie Pie</td>\n",
       "      <td>07/26/2016 02:46:00 PM</td>\n",
       "      <td>07/26/2016 02:46:00 PM</td>\n",
       "      <td>Gebron Dr And Kohlers Trail in Lakeway (TX)</td>\n",
       "      <td>Normal</td>\n",
       "      <td>Dog</td>\n",
       "      <td>Intact Male</td>\n",
       "      <td>4 months</td>\n",
       "      <td>Labrador Retriever Mix</td>\n",
       "      <td>Tan</td>\n",
       "    </tr>\n",
       "    <tr>\n",
       "      <th>A731765</th>\n",
       "      <th>Stray</th>\n",
       "      <td>NaN</td>\n",
       "      <td>07/27/2016 12:16:00 PM</td>\n",
       "      <td>07/27/2016 12:16:00 PM</td>\n",
       "      <td>16205 N 973 in Austin (TX)</td>\n",
       "      <td>Normal</td>\n",
       "      <td>Dog</td>\n",
       "      <td>Intact Male</td>\n",
       "      <td>9 months</td>\n",
       "      <td>Labrador Retriever</td>\n",
       "      <td>Black/White</td>\n",
       "    </tr>\n",
       "    <tr>\n",
       "      <th>A731787</th>\n",
       "      <th>Stray</th>\n",
       "      <td>NaN</td>\n",
       "      <td>07/27/2016 03:06:00 PM</td>\n",
       "      <td>07/27/2016 03:06:00 PM</td>\n",
       "      <td>5630 Wagon Train Rd in Austin (TX)</td>\n",
       "      <td>Normal</td>\n",
       "      <td>Dog</td>\n",
       "      <td>Intact Male</td>\n",
       "      <td>1 month</td>\n",
       "      <td>Labrador Retriever Mix</td>\n",
       "      <td>Black</td>\n",
       "    </tr>\n",
       "    <tr>\n",
       "      <th>A731788</th>\n",
       "      <th>Stray</th>\n",
       "      <td>NaN</td>\n",
       "      <td>07/27/2016 03:06:00 PM</td>\n",
       "      <td>07/27/2016 03:06:00 PM</td>\n",
       "      <td>5630 Wagon Train Rd in Austin (TX)</td>\n",
       "      <td>Normal</td>\n",
       "      <td>Dog</td>\n",
       "      <td>Intact Male</td>\n",
       "      <td>1 month</td>\n",
       "      <td>Labrador Retriever Mix</td>\n",
       "      <td>Black/White</td>\n",
       "    </tr>\n",
       "    <tr>\n",
       "      <th>A731789</th>\n",
       "      <th>Stray</th>\n",
       "      <td>NaN</td>\n",
       "      <td>07/27/2016 03:06:00 PM</td>\n",
       "      <td>07/27/2016 03:06:00 PM</td>\n",
       "      <td>5630 Wagon Train Rd in Austin (TX)</td>\n",
       "      <td>Normal</td>\n",
       "      <td>Dog</td>\n",
       "      <td>Intact Female</td>\n",
       "      <td>1 month</td>\n",
       "      <td>Labrador Retriever Mix</td>\n",
       "      <td>Black</td>\n",
       "    </tr>\n",
       "    <tr>\n",
       "      <th>A731790</th>\n",
       "      <th>Stray</th>\n",
       "      <td>NaN</td>\n",
       "      <td>07/27/2016 03:06:00 PM</td>\n",
       "      <td>07/27/2016 03:06:00 PM</td>\n",
       "      <td>5630 Wagon Train Rd in Austin (TX)</td>\n",
       "      <td>Normal</td>\n",
       "      <td>Dog</td>\n",
       "      <td>Intact Female</td>\n",
       "      <td>1 month</td>\n",
       "      <td>Labrador Retriever Mix</td>\n",
       "      <td>Black</td>\n",
       "    </tr>\n",
       "    <tr>\n",
       "      <th>A731792</th>\n",
       "      <th>Stray</th>\n",
       "      <td>NaN</td>\n",
       "      <td>07/27/2016 03:06:00 PM</td>\n",
       "      <td>07/27/2016 03:06:00 PM</td>\n",
       "      <td>5630 Wagon Train Rd in Austin (TX)</td>\n",
       "      <td>Normal</td>\n",
       "      <td>Dog</td>\n",
       "      <td>Intact Female</td>\n",
       "      <td>1 month</td>\n",
       "      <td>Labrador Retriever Mix</td>\n",
       "      <td>Black</td>\n",
       "    </tr>\n",
       "    <tr>\n",
       "      <th>A731793</th>\n",
       "      <th>Stray</th>\n",
       "      <td>Trip</td>\n",
       "      <td>07/27/2016 03:06:00 PM</td>\n",
       "      <td>07/27/2016 03:06:00 PM</td>\n",
       "      <td>5630 Wagon Train Rd in Austin (TX)</td>\n",
       "      <td>Normal</td>\n",
       "      <td>Dog</td>\n",
       "      <td>Intact Male</td>\n",
       "      <td>1 month</td>\n",
       "      <td>Labrador Retriever Mix</td>\n",
       "      <td>Black</td>\n",
       "    </tr>\n",
       "    <tr>\n",
       "      <th>A731794</th>\n",
       "      <th>Stray</th>\n",
       "      <td>NaN</td>\n",
       "      <td>07/27/2016 03:06:00 PM</td>\n",
       "      <td>07/27/2016 03:06:00 PM</td>\n",
       "      <td>5630 Wagon Train Rd in Austin (TX)</td>\n",
       "      <td>Normal</td>\n",
       "      <td>Dog</td>\n",
       "      <td>Intact Male</td>\n",
       "      <td>1 month</td>\n",
       "      <td>Labrador Retriever Mix</td>\n",
       "      <td>Black</td>\n",
       "    </tr>\n",
       "    <tr>\n",
       "      <th>A731798</th>\n",
       "      <th>Stray</th>\n",
       "      <td>*Mojo</td>\n",
       "      <td>07/27/2016 03:50:00 PM</td>\n",
       "      <td>07/27/2016 03:50:00 PM</td>\n",
       "      <td>11513 Lockhart Rd in Travis (TX)</td>\n",
       "      <td>Normal</td>\n",
       "      <td>Dog</td>\n",
       "      <td>Intact Male</td>\n",
       "      <td>7 months</td>\n",
       "      <td>Labrador Retriever Mix</td>\n",
       "      <td>Red</td>\n",
       "    </tr>\n",
       "    <tr>\n",
       "      <th>A731849</th>\n",
       "      <th>Stray</th>\n",
       "      <td>Kiddo</td>\n",
       "      <td>07/28/2016 12:03:00 PM</td>\n",
       "      <td>07/28/2016 12:03:00 PM</td>\n",
       "      <td>S Congress Ave And W Stassney Ln in Austin (TX)</td>\n",
       "      <td>Normal</td>\n",
       "      <td>Dog</td>\n",
       "      <td>Intact Female</td>\n",
       "      <td>10 years</td>\n",
       "      <td>Labrador Retriever Mix</td>\n",
       "      <td>Black</td>\n",
       "    </tr>\n",
       "    <tr>\n",
       "      <th>A731875</th>\n",
       "      <th>Stray</th>\n",
       "      <td>*Jackson</td>\n",
       "      <td>07/28/2016 03:56:00 PM</td>\n",
       "      <td>07/28/2016 03:56:00 PM</td>\n",
       "      <td>Athens St And Liberty St in Manor (TX)</td>\n",
       "      <td>Normal</td>\n",
       "      <td>Dog</td>\n",
       "      <td>Neutered Male</td>\n",
       "      <td>2 years</td>\n",
       "      <td>Labrador Retriever Mix</td>\n",
       "      <td>Yellow</td>\n",
       "    </tr>\n",
       "    <tr>\n",
       "      <th>A731921</th>\n",
       "      <th>Stray</th>\n",
       "      <td>Drifter</td>\n",
       "      <td>07/29/2016 11:57:00 AM</td>\n",
       "      <td>07/29/2016 11:57:00 AM</td>\n",
       "      <td>Hillbrook Dr And Hillbrook Cir in Austin (TX)</td>\n",
       "      <td>Normal</td>\n",
       "      <td>Dog</td>\n",
       "      <td>Intact Male</td>\n",
       "      <td>13 years</td>\n",
       "      <td>Labrador Retriever Mix</td>\n",
       "      <td>Tan/White</td>\n",
       "    </tr>\n",
       "    <tr>\n",
       "      <th>A731963</th>\n",
       "      <th>Stray</th>\n",
       "      <td>NaN</td>\n",
       "      <td>07/30/2016 11:07:00 AM</td>\n",
       "      <td>07/30/2016 11:07:00 AM</td>\n",
       "      <td>10606 Old Lochart in Austin (TX)</td>\n",
       "      <td>Normal</td>\n",
       "      <td>Dog</td>\n",
       "      <td>Intact Male</td>\n",
       "      <td>1 year</td>\n",
       "      <td>Labrador Retriever Mix</td>\n",
       "      <td>White/Cream</td>\n",
       "    </tr>\n",
       "    <tr>\n",
       "      <th>A731987</th>\n",
       "      <th>Stray</th>\n",
       "      <td>NaN</td>\n",
       "      <td>07/30/2016 03:06:00 PM</td>\n",
       "      <td>07/30/2016 03:06:00 PM</td>\n",
       "      <td>14915 Hornsby Hill in Travis (TX)</td>\n",
       "      <td>Normal</td>\n",
       "      <td>Dog</td>\n",
       "      <td>Intact Female</td>\n",
       "      <td>2 years</td>\n",
       "      <td>Labrador Retriever Mix</td>\n",
       "      <td>Black/Brown</td>\n",
       "    </tr>\n",
       "    <tr>\n",
       "      <th>A732017</th>\n",
       "      <th>Stray</th>\n",
       "      <td>NaN</td>\n",
       "      <td>07/31/2016 11:43:00 AM</td>\n",
       "      <td>07/31/2016 11:43:00 AM</td>\n",
       "      <td>Outside Jurisdiction</td>\n",
       "      <td>Nursing</td>\n",
       "      <td>Dog</td>\n",
       "      <td>Intact Female</td>\n",
       "      <td>4 weeks</td>\n",
       "      <td>Labrador Retriever Mix</td>\n",
       "      <td>Buff/Tan</td>\n",
       "    </tr>\n",
       "    <tr>\n",
       "      <th>A732018</th>\n",
       "      <th>Stray</th>\n",
       "      <td>NaN</td>\n",
       "      <td>07/31/2016 11:43:00 AM</td>\n",
       "      <td>07/31/2016 11:43:00 AM</td>\n",
       "      <td>Outside Jurisdiction</td>\n",
       "      <td>Nursing</td>\n",
       "      <td>Dog</td>\n",
       "      <td>Intact Female</td>\n",
       "      <td>4 weeks</td>\n",
       "      <td>Labrador Retriever Mix</td>\n",
       "      <td>Buff/Tan</td>\n",
       "    </tr>\n",
       "    <tr>\n",
       "      <th>A732019</th>\n",
       "      <th>Stray</th>\n",
       "      <td>NaN</td>\n",
       "      <td>07/31/2016 11:43:00 AM</td>\n",
       "      <td>07/31/2016 11:43:00 AM</td>\n",
       "      <td>Outside Jurisdiction</td>\n",
       "      <td>Nursing</td>\n",
       "      <td>Dog</td>\n",
       "      <td>Intact Female</td>\n",
       "      <td>4 weeks</td>\n",
       "      <td>Labrador Retriever Mix</td>\n",
       "      <td>Buff/Tan</td>\n",
       "    </tr>\n",
       "    <tr>\n",
       "      <th>A732020</th>\n",
       "      <th>Stray</th>\n",
       "      <td>NaN</td>\n",
       "      <td>07/31/2016 11:43:00 AM</td>\n",
       "      <td>07/31/2016 11:43:00 AM</td>\n",
       "      <td>Outside Jurisdiction</td>\n",
       "      <td>Nursing</td>\n",
       "      <td>Dog</td>\n",
       "      <td>Intact Female</td>\n",
       "      <td>4 weeks</td>\n",
       "      <td>Labrador Retriever Mix</td>\n",
       "      <td>White</td>\n",
       "    </tr>\n",
       "    <tr>\n",
       "      <th>A732048</th>\n",
       "      <th>Stray</th>\n",
       "      <td>NaN</td>\n",
       "      <td>08/01/2016 12:13:00 PM</td>\n",
       "      <td>08/01/2016 12:13:00 PM</td>\n",
       "      <td>7201 Levander Loop in Austin (TX)</td>\n",
       "      <td>Normal</td>\n",
       "      <td>Dog</td>\n",
       "      <td>Intact Female</td>\n",
       "      <td>3 years</td>\n",
       "      <td>Labrador Retriever Mix</td>\n",
       "      <td>Black</td>\n",
       "    </tr>\n",
       "    <tr>\n",
       "      <th>A732050</th>\n",
       "      <th>Stray</th>\n",
       "      <td>NaN</td>\n",
       "      <td>08/01/2016 12:09:00 PM</td>\n",
       "      <td>08/01/2016 12:09:00 PM</td>\n",
       "      <td>1201 E Rundberg Ln in Austin (TX)</td>\n",
       "      <td>Normal</td>\n",
       "      <td>Dog</td>\n",
       "      <td>Intact Female</td>\n",
       "      <td>5 months</td>\n",
       "      <td>Labrador Retriever Mix</td>\n",
       "      <td>Black</td>\n",
       "    </tr>\n",
       "    <tr>\n",
       "      <th>A732072</th>\n",
       "      <th>Stray</th>\n",
       "      <td>Max</td>\n",
       "      <td>08/01/2016 04:42:00 PM</td>\n",
       "      <td>08/01/2016 04:42:00 PM</td>\n",
       "      <td>Harris Branch Pkwy &amp; Gregg Ln in Manor (TX)</td>\n",
       "      <td>Normal</td>\n",
       "      <td>Dog</td>\n",
       "      <td>Neutered Male</td>\n",
       "      <td>8 months</td>\n",
       "      <td>Labrador Retriever Mix</td>\n",
       "      <td>Black/White</td>\n",
       "    </tr>\n",
       "  </tbody>\n",
       "</table>\n",
       "<p>2846 rows × 10 columns</p>\n",
       "</div>"
      ],
      "text/plain": [
       "                                      Name                DateTime  \\\n",
       "Animal ID Intake Type                                                \n",
       "A221448   Stray                     Tucker  10/27/2013 11:17:00 AM   \n",
       "A245945   Stray                     Boomer  07/03/2014 05:55:00 PM   \n",
       "          Stray                     Boomer  05/20/2015 10:34:00 PM   \n",
       "A254503   Stray                      Daisy  11/09/2014 11:04:00 AM   \n",
       "A256412   Stray                       Beau  10/06/2013 11:33:00 AM   \n",
       "A268022   Euthanasia Request         China  08/03/2015 12:03:00 PM   \n",
       "A281542   Owner Surrender           George  12/23/2013 01:23:00 PM   \n",
       "A308771   Stray                       Lili  03/01/2014 04:44:00 PM   \n",
       "A329835   Stray                      Molly  11/09/2013 04:45:00 PM   \n",
       "A329968   Stray                      Romeo  10/21/2013 03:06:00 PM   \n",
       "A337859   Euthanasia Request         Benny  07/25/2014 11:00:00 AM   \n",
       "A339103   Stray                        Ani  04/21/2015 07:15:00 AM   \n",
       "A342480   Stray                       Lucy  05/17/2015 01:37:00 PM   \n",
       "A345209   Stray                      Chula  11/23/2014 01:00:00 PM   \n",
       "          Stray                      Chula  11/26/2014 10:17:00 PM   \n",
       "A349480   Public Assist              Daisy  12/15/2013 11:18:00 AM   \n",
       "A352555   Public Assist             Harley  08/08/2014 04:20:00 AM   \n",
       "A353259   Stray                         Bj  05/08/2016 12:57:00 PM   \n",
       "A362707   Owner Surrender       Girly Girl  01/27/2016 12:27:00 PM   \n",
       "A365172   Owner Surrender           Diablo  08/26/2014 12:53:00 PM   \n",
       "A373687   Owner Surrender            Rosie  03/20/2014 12:31:00 PM   \n",
       "A380320   Euthanasia Request        Scooby  02/03/2014 12:41:00 PM   \n",
       "A381173   Stray                     Pepper  08/06/2014 12:07:00 PM   \n",
       "A385442   Stray                      Clyde  01/11/2014 03:15:00 PM   \n",
       "A387083   Stray                     Goldie  02/01/2014 06:36:00 PM   \n",
       "A394547   Stray               Snickerdoodl  01/24/2015 04:14:00 PM   \n",
       "A412626   Owner Surrender             *Sam  03/13/2016 11:17:00 AM   \n",
       "A419781   Stray                      Zelda  10/24/2013 02:10:00 PM   \n",
       "A420464   Stray                       Loki  10/13/2013 09:48:00 AM   \n",
       "A430366   Stray                      Lucky  06/19/2015 05:40:00 PM   \n",
       "...                                    ...                     ...   \n",
       "A731380   Stray                        NaN  07/21/2016 12:36:00 PM   \n",
       "A731381   Stray                      *Jake  07/25/2016 02:05:00 PM   \n",
       "A731452   Stray                     *Oscar  07/22/2016 01:03:00 PM   \n",
       "A731533   Stray                    *Guerro  07/23/2016 03:22:00 PM   \n",
       "A731567   Public Assist            Natasha  07/24/2016 11:40:00 AM   \n",
       "A731571   Stray                       Emme  07/24/2016 12:48:00 PM   \n",
       "A731684   Stray                        NaN  07/26/2016 11:30:00 AM   \n",
       "A731715   Stray                   *Sweetie  07/26/2016 02:46:00 PM   \n",
       "A731716   Stray                 *Cutie Pie  07/26/2016 02:46:00 PM   \n",
       "A731765   Stray                        NaN  07/27/2016 12:16:00 PM   \n",
       "A731787   Stray                        NaN  07/27/2016 03:06:00 PM   \n",
       "A731788   Stray                        NaN  07/27/2016 03:06:00 PM   \n",
       "A731789   Stray                        NaN  07/27/2016 03:06:00 PM   \n",
       "A731790   Stray                        NaN  07/27/2016 03:06:00 PM   \n",
       "A731792   Stray                        NaN  07/27/2016 03:06:00 PM   \n",
       "A731793   Stray                       Trip  07/27/2016 03:06:00 PM   \n",
       "A731794   Stray                        NaN  07/27/2016 03:06:00 PM   \n",
       "A731798   Stray                      *Mojo  07/27/2016 03:50:00 PM   \n",
       "A731849   Stray                      Kiddo  07/28/2016 12:03:00 PM   \n",
       "A731875   Stray                   *Jackson  07/28/2016 03:56:00 PM   \n",
       "A731921   Stray                    Drifter  07/29/2016 11:57:00 AM   \n",
       "A731963   Stray                        NaN  07/30/2016 11:07:00 AM   \n",
       "A731987   Stray                        NaN  07/30/2016 03:06:00 PM   \n",
       "A732017   Stray                        NaN  07/31/2016 11:43:00 AM   \n",
       "A732018   Stray                        NaN  07/31/2016 11:43:00 AM   \n",
       "A732019   Stray                        NaN  07/31/2016 11:43:00 AM   \n",
       "A732020   Stray                        NaN  07/31/2016 11:43:00 AM   \n",
       "A732048   Stray                        NaN  08/01/2016 12:13:00 PM   \n",
       "A732050   Stray                        NaN  08/01/2016 12:09:00 PM   \n",
       "A732072   Stray                        Max  08/01/2016 04:42:00 PM   \n",
       "\n",
       "                                           MonthYear  \\\n",
       "Animal ID Intake Type                                  \n",
       "A221448   Stray               10/27/2013 11:17:00 AM   \n",
       "A245945   Stray               07/03/2014 05:55:00 PM   \n",
       "          Stray               05/20/2015 10:34:00 PM   \n",
       "A254503   Stray               11/09/2014 11:04:00 AM   \n",
       "A256412   Stray               10/06/2013 11:33:00 AM   \n",
       "A268022   Euthanasia Request  08/03/2015 12:03:00 PM   \n",
       "A281542   Owner Surrender     12/23/2013 01:23:00 PM   \n",
       "A308771   Stray               03/01/2014 04:44:00 PM   \n",
       "A329835   Stray               11/09/2013 04:45:00 PM   \n",
       "A329968   Stray               10/21/2013 03:06:00 PM   \n",
       "A337859   Euthanasia Request  07/25/2014 11:00:00 AM   \n",
       "A339103   Stray               04/21/2015 07:15:00 AM   \n",
       "A342480   Stray               05/17/2015 01:37:00 PM   \n",
       "A345209   Stray               11/23/2014 01:00:00 PM   \n",
       "          Stray               11/26/2014 10:17:00 PM   \n",
       "A349480   Public Assist       12/15/2013 11:18:00 AM   \n",
       "A352555   Public Assist       08/08/2014 04:20:00 AM   \n",
       "A353259   Stray               05/08/2016 12:57:00 PM   \n",
       "A362707   Owner Surrender     01/27/2016 12:27:00 PM   \n",
       "A365172   Owner Surrender     08/26/2014 12:53:00 PM   \n",
       "A373687   Owner Surrender     03/20/2014 12:31:00 PM   \n",
       "A380320   Euthanasia Request  02/03/2014 12:41:00 PM   \n",
       "A381173   Stray               08/06/2014 12:07:00 PM   \n",
       "A385442   Stray               01/11/2014 03:15:00 PM   \n",
       "A387083   Stray               02/01/2014 06:36:00 PM   \n",
       "A394547   Stray               01/24/2015 04:14:00 PM   \n",
       "A412626   Owner Surrender     03/13/2016 11:17:00 AM   \n",
       "A419781   Stray               10/24/2013 02:10:00 PM   \n",
       "A420464   Stray               10/13/2013 09:48:00 AM   \n",
       "A430366   Stray               06/19/2015 05:40:00 PM   \n",
       "...                                              ...   \n",
       "A731380   Stray               07/21/2016 12:36:00 PM   \n",
       "A731381   Stray               07/25/2016 02:05:00 PM   \n",
       "A731452   Stray               07/22/2016 01:03:00 PM   \n",
       "A731533   Stray               07/23/2016 03:22:00 PM   \n",
       "A731567   Public Assist       07/24/2016 11:40:00 AM   \n",
       "A731571   Stray               07/24/2016 12:48:00 PM   \n",
       "A731684   Stray               07/26/2016 11:30:00 AM   \n",
       "A731715   Stray               07/26/2016 02:46:00 PM   \n",
       "A731716   Stray               07/26/2016 02:46:00 PM   \n",
       "A731765   Stray               07/27/2016 12:16:00 PM   \n",
       "A731787   Stray               07/27/2016 03:06:00 PM   \n",
       "A731788   Stray               07/27/2016 03:06:00 PM   \n",
       "A731789   Stray               07/27/2016 03:06:00 PM   \n",
       "A731790   Stray               07/27/2016 03:06:00 PM   \n",
       "A731792   Stray               07/27/2016 03:06:00 PM   \n",
       "A731793   Stray               07/27/2016 03:06:00 PM   \n",
       "A731794   Stray               07/27/2016 03:06:00 PM   \n",
       "A731798   Stray               07/27/2016 03:50:00 PM   \n",
       "A731849   Stray               07/28/2016 12:03:00 PM   \n",
       "A731875   Stray               07/28/2016 03:56:00 PM   \n",
       "A731921   Stray               07/29/2016 11:57:00 AM   \n",
       "A731963   Stray               07/30/2016 11:07:00 AM   \n",
       "A731987   Stray               07/30/2016 03:06:00 PM   \n",
       "A732017   Stray               07/31/2016 11:43:00 AM   \n",
       "A732018   Stray               07/31/2016 11:43:00 AM   \n",
       "A732019   Stray               07/31/2016 11:43:00 AM   \n",
       "A732020   Stray               07/31/2016 11:43:00 AM   \n",
       "A732048   Stray               08/01/2016 12:13:00 PM   \n",
       "A732050   Stray               08/01/2016 12:09:00 PM   \n",
       "A732072   Stray               08/01/2016 04:42:00 PM   \n",
       "\n",
       "                                                                 Found Location  \\\n",
       "Animal ID Intake Type                                                             \n",
       "A221448   Stray                     Silver Spring Dr And Mesa Dr in Austin (TX)   \n",
       "A245945   Stray                               Garden And Mildred in Austin (TX)   \n",
       "          Stray                                7403 Blessing Ave in Austin (TX)   \n",
       "A254503   Stray                                  8603 Fathom Cir in Austin (TX)   \n",
       "A256412   Stray                              1001 Pres Arriba Rd in Austin (TX)   \n",
       "A268022   Euthanasia Request                               Outside Jurisdiction   \n",
       "A281542   Owner Surrender                                           Austin (TX)   \n",
       "A308771   Stray                                   Lamar And 31St in Austin (TX)   \n",
       "A329835   Stray                    Archdale And Decker Praire Ln in Austin (TX)   \n",
       "A329968   Stray                                    12500 Amherst in Austin (TX)   \n",
       "A337859   Euthanasia Request                                        Austin (TX)   \n",
       "A339103   Stray                            Travis Country Circle in Austin (TX)   \n",
       "A342480   Stray                            Laird Dr & Pequeno St in Austin (TX)   \n",
       "A345209   Stray                        Thaxton Road/Salt Springs in Austin (TX)   \n",
       "          Stray                                4106 N Lamar Blvd in Austin (TX)   \n",
       "A349480   Public Assist               12621 Hymeadow Dr Unit 205 in Austin (TX)   \n",
       "A352555   Public Assist                     6015 Kidneywood Trl. in Austin (TX)   \n",
       "A353259   Stray                                 11530 Loweswater in Austin (TX)   \n",
       "A362707   Owner Surrender                  7207 A Tumble Weed Dr in Austin (TX)   \n",
       "A365172   Owner Surrender                                           Austin (TX)   \n",
       "A373687   Owner Surrender                                           Austin (TX)   \n",
       "A380320   Euthanasia Request                                        Austin (TX)   \n",
       "A381173   Stray                                 8500 Cornwall Dr in Austin (TX)   \n",
       "A385442   Stray                        11116 Middle Fiskville Rd in Austin (TX)   \n",
       "A387083   Stray                                    12401 N Lamar in Austin (TX)   \n",
       "A394547   Stray                      Rowe Loop And Rowe Ln in Pflugerville (TX)   \n",
       "A412626   Owner Surrender                8520 New Hampshire Blvd in Austin (TX)   \n",
       "A419781   Stray                            Westcreek And Cana Cv in Austin (TX)   \n",
       "A420464   Stray                               183 And Jollyville in Austin (TX)   \n",
       "A430366   Stray                 Signal Hill Dr And Rimrock Trail in Austin (TX)   \n",
       "...                                                                         ...   \n",
       "A731380   Stray                         E 12Th St And Poquito St in Austin (TX)   \n",
       "A731381   Stray                                     11800 Lima Dr in Manor (TX)   \n",
       "A731452   Stray                        Schmidt Ln And Anderson Rd in Manor (TX)   \n",
       "A731533   Stray                                 8601 Vertex Blvd in Austin (TX)   \n",
       "A731567   Public Assist                               405 E 31St in Austin (TX)   \n",
       "A731571   Stray                      Natures Bend And E Yager Ln in Austin (TX)   \n",
       "A731684   Stray               13701 N Interstate 35 Frontage Rd in Pflugervi...   \n",
       "A731715   Stray                     Gebron Dr And Kohlers Trail in Lakeway (TX)   \n",
       "A731716   Stray                     Gebron Dr And Kohlers Trail in Lakeway (TX)   \n",
       "A731765   Stray                                      16205 N 973 in Austin (TX)   \n",
       "A731787   Stray                              5630 Wagon Train Rd in Austin (TX)   \n",
       "A731788   Stray                              5630 Wagon Train Rd in Austin (TX)   \n",
       "A731789   Stray                              5630 Wagon Train Rd in Austin (TX)   \n",
       "A731790   Stray                              5630 Wagon Train Rd in Austin (TX)   \n",
       "A731792   Stray                              5630 Wagon Train Rd in Austin (TX)   \n",
       "A731793   Stray                              5630 Wagon Train Rd in Austin (TX)   \n",
       "A731794   Stray                              5630 Wagon Train Rd in Austin (TX)   \n",
       "A731798   Stray                                11513 Lockhart Rd in Travis (TX)   \n",
       "A731849   Stray                 S Congress Ave And W Stassney Ln in Austin (TX)   \n",
       "A731875   Stray                          Athens St And Liberty St in Manor (TX)   \n",
       "A731921   Stray                   Hillbrook Dr And Hillbrook Cir in Austin (TX)   \n",
       "A731963   Stray                                10606 Old Lochart in Austin (TX)   \n",
       "A731987   Stray                               14915 Hornsby Hill in Travis (TX)   \n",
       "A732017   Stray                                            Outside Jurisdiction   \n",
       "A732018   Stray                                            Outside Jurisdiction   \n",
       "A732019   Stray                                            Outside Jurisdiction   \n",
       "A732020   Stray                                            Outside Jurisdiction   \n",
       "A732048   Stray                               7201 Levander Loop in Austin (TX)   \n",
       "A732050   Stray                               1201 E Rundberg Ln in Austin (TX)   \n",
       "A732072   Stray                     Harris Branch Pkwy & Gregg Ln in Manor (TX)   \n",
       "\n",
       "                             Intake Condition Animal Type Sex upon Intake  \\\n",
       "Animal ID Intake Type                                                       \n",
       "A221448   Stray                        Normal         Dog   Neutered Male   \n",
       "A245945   Stray                        Normal         Dog   Neutered Male   \n",
       "          Stray                        Normal         Dog   Neutered Male   \n",
       "A254503   Stray                        Normal         Dog   Spayed Female   \n",
       "A256412   Stray                       Injured         Dog     Intact Male   \n",
       "A268022   Euthanasia Request           Normal         Dog   Spayed Female   \n",
       "A281542   Owner Surrender              Normal         Dog   Neutered Male   \n",
       "A308771   Stray                        Normal         Dog   Spayed Female   \n",
       "A329835   Stray                        Normal         Dog   Spayed Female   \n",
       "A329968   Stray                        Normal         Dog   Neutered Male   \n",
       "A337859   Euthanasia Request             Aged         Dog   Neutered Male   \n",
       "A339103   Stray                        Normal         Dog   Spayed Female   \n",
       "A342480   Stray                        Normal         Dog   Spayed Female   \n",
       "A345209   Stray                        Normal         Dog   Spayed Female   \n",
       "          Stray                        Normal         Dog   Spayed Female   \n",
       "A349480   Public Assist                Normal         Dog   Spayed Female   \n",
       "A352555   Public Assist                Normal         Dog   Spayed Female   \n",
       "A353259   Stray                       Injured         Dog   Neutered Male   \n",
       "A362707   Owner Surrender                Sick         Dog   Spayed Female   \n",
       "A365172   Owner Surrender              Normal         Dog   Neutered Male   \n",
       "A373687   Owner Surrender              Normal         Dog   Spayed Female   \n",
       "A380320   Euthanasia Request           Normal         Dog   Neutered Male   \n",
       "A381173   Stray                        Normal         Dog   Spayed Female   \n",
       "A385442   Stray                        Normal         Dog   Neutered Male   \n",
       "A387083   Stray                        Normal         Dog   Spayed Female   \n",
       "A394547   Stray                        Normal         Dog   Spayed Female   \n",
       "A412626   Owner Surrender              Normal         Dog   Neutered Male   \n",
       "A419781   Stray                        Normal         Dog   Spayed Female   \n",
       "A420464   Stray                        Normal         Dog   Neutered Male   \n",
       "A430366   Stray                        Normal         Dog   Neutered Male   \n",
       "...                                       ...         ...             ...   \n",
       "A731380   Stray                        Normal         Dog     Intact Male   \n",
       "A731381   Stray                        Normal         Dog     Intact Male   \n",
       "A731452   Stray                        Normal         Dog     Intact Male   \n",
       "A731533   Stray                          Aged         Dog   Neutered Male   \n",
       "A731567   Public Assist                Normal         Dog   Spayed Female   \n",
       "A731571   Stray                        Normal         Dog   Intact Female   \n",
       "A731684   Stray                        Normal         Dog     Intact Male   \n",
       "A731715   Stray                        Normal         Dog   Intact Female   \n",
       "A731716   Stray                        Normal         Dog     Intact Male   \n",
       "A731765   Stray                        Normal         Dog     Intact Male   \n",
       "A731787   Stray                        Normal         Dog     Intact Male   \n",
       "A731788   Stray                        Normal         Dog     Intact Male   \n",
       "A731789   Stray                        Normal         Dog   Intact Female   \n",
       "A731790   Stray                        Normal         Dog   Intact Female   \n",
       "A731792   Stray                        Normal         Dog   Intact Female   \n",
       "A731793   Stray                        Normal         Dog     Intact Male   \n",
       "A731794   Stray                        Normal         Dog     Intact Male   \n",
       "A731798   Stray                        Normal         Dog     Intact Male   \n",
       "A731849   Stray                        Normal         Dog   Intact Female   \n",
       "A731875   Stray                        Normal         Dog   Neutered Male   \n",
       "A731921   Stray                        Normal         Dog     Intact Male   \n",
       "A731963   Stray                        Normal         Dog     Intact Male   \n",
       "A731987   Stray                        Normal         Dog   Intact Female   \n",
       "A732017   Stray                       Nursing         Dog   Intact Female   \n",
       "A732018   Stray                       Nursing         Dog   Intact Female   \n",
       "A732019   Stray                       Nursing         Dog   Intact Female   \n",
       "A732020   Stray                       Nursing         Dog   Intact Female   \n",
       "A732048   Stray                        Normal         Dog   Intact Female   \n",
       "A732050   Stray                        Normal         Dog   Intact Female   \n",
       "A732072   Stray                        Normal         Dog   Neutered Male   \n",
       "\n",
       "                             Age upon Intake                   Breed  \\\n",
       "Animal ID Intake Type                                                  \n",
       "A221448   Stray                     12 years  Labrador Retriever Mix   \n",
       "A245945   Stray                     14 years  Labrador Retriever Mix   \n",
       "          Stray                     15 years  Labrador Retriever Mix   \n",
       "A254503   Stray                     17 years  Labrador Retriever Mix   \n",
       "A256412   Stray                     16 years  Labrador Retriever Mix   \n",
       "A268022   Euthanasia Request        13 years  Labrador Retriever Mix   \n",
       "A281542   Owner Surrender           12 years  Labrador Retriever Mix   \n",
       "A308771   Stray                     14 years  Labrador Retriever Mix   \n",
       "A329835   Stray                     10 years  Labrador Retriever Mix   \n",
       "A329968   Stray                     14 years      Labrador Retriever   \n",
       "A337859   Euthanasia Request        14 years  Labrador Retriever Mix   \n",
       "A339103   Stray                     11 years  Labrador Retriever Mix   \n",
       "A342480   Stray                     14 years  Labrador Retriever Mix   \n",
       "A345209   Stray                     10 years  Labrador Retriever Mix   \n",
       "          Stray                     10 years  Labrador Retriever Mix   \n",
       "A349480   Public Assist             11 years  Labrador Retriever Mix   \n",
       "A352555   Public Assist             13 years  Labrador Retriever Mix   \n",
       "A353259   Stray                     14 years      Labrador Retriever   \n",
       "A362707   Owner Surrender           11 years  Labrador Retriever Mix   \n",
       "A365172   Owner Surrender           10 years  Labrador Retriever Mix   \n",
       "A373687   Owner Surrender            9 years  Labrador Retriever Mix   \n",
       "A380320   Euthanasia Request         9 years  Labrador Retriever Mix   \n",
       "A381173   Stray                     14 years  Labrador Retriever Mix   \n",
       "A385442   Stray                     10 years  Labrador Retriever Mix   \n",
       "A387083   Stray                      9 years  Labrador Retriever Mix   \n",
       "A394547   Stray                      9 years  Labrador Retriever Mix   \n",
       "A412626   Owner Surrender           12 years  Labrador Retriever Mix   \n",
       "A419781   Stray                      7 years  Labrador Retriever Mix   \n",
       "A420464   Stray                      7 years  Labrador Retriever Mix   \n",
       "A430366   Stray                      9 years  Labrador Retriever Mix   \n",
       "...                                      ...                     ...   \n",
       "A731380   Stray                     4 months  Labrador Retriever Mix   \n",
       "A731381   Stray                     5 months  Labrador Retriever Mix   \n",
       "A731452   Stray                      2 years  Labrador Retriever Mix   \n",
       "A731533   Stray                      7 years  Labrador Retriever Mix   \n",
       "A731567   Public Assist              3 years  Labrador Retriever Mix   \n",
       "A731571   Stray                      2 years  Labrador Retriever Mix   \n",
       "A731684   Stray                      1 month  Labrador Retriever Mix   \n",
       "A731715   Stray                     4 months  Labrador Retriever Mix   \n",
       "A731716   Stray                     4 months  Labrador Retriever Mix   \n",
       "A731765   Stray                     9 months      Labrador Retriever   \n",
       "A731787   Stray                      1 month  Labrador Retriever Mix   \n",
       "A731788   Stray                      1 month  Labrador Retriever Mix   \n",
       "A731789   Stray                      1 month  Labrador Retriever Mix   \n",
       "A731790   Stray                      1 month  Labrador Retriever Mix   \n",
       "A731792   Stray                      1 month  Labrador Retriever Mix   \n",
       "A731793   Stray                      1 month  Labrador Retriever Mix   \n",
       "A731794   Stray                      1 month  Labrador Retriever Mix   \n",
       "A731798   Stray                     7 months  Labrador Retriever Mix   \n",
       "A731849   Stray                     10 years  Labrador Retriever Mix   \n",
       "A731875   Stray                      2 years  Labrador Retriever Mix   \n",
       "A731921   Stray                     13 years  Labrador Retriever Mix   \n",
       "A731963   Stray                       1 year  Labrador Retriever Mix   \n",
       "A731987   Stray                      2 years  Labrador Retriever Mix   \n",
       "A732017   Stray                      4 weeks  Labrador Retriever Mix   \n",
       "A732018   Stray                      4 weeks  Labrador Retriever Mix   \n",
       "A732019   Stray                      4 weeks  Labrador Retriever Mix   \n",
       "A732020   Stray                      4 weeks  Labrador Retriever Mix   \n",
       "A732048   Stray                      3 years  Labrador Retriever Mix   \n",
       "A732050   Stray                     5 months  Labrador Retriever Mix   \n",
       "A732072   Stray                     8 months  Labrador Retriever Mix   \n",
       "\n",
       "                                            Color  \n",
       "Animal ID Intake Type                              \n",
       "A221448   Stray                       Brown/White  \n",
       "A245945   Stray                               Tan  \n",
       "          Stray                               Tan  \n",
       "A254503   Stray                               Tan  \n",
       "A256412   Stray                            Yellow  \n",
       "A268022   Euthanasia Request                  Tan  \n",
       "A281542   Owner Surrender     Black/Brown Brindle  \n",
       "A308771   Stray                             Brown  \n",
       "A329835   Stray                       Brown/Black  \n",
       "A329968   Stray                            Yellow  \n",
       "A337859   Euthanasia Request                White  \n",
       "A339103   Stray                       Brown/White  \n",
       "A342480   Stray                           Red/Tan  \n",
       "A345209   Stray                               Tan  \n",
       "          Stray                               Tan  \n",
       "A349480   Public Assist                 Chocolate  \n",
       "A352555   Public Assist                       Tan  \n",
       "A353259   Stray                               Tan  \n",
       "A362707   Owner Surrender                   Black  \n",
       "A365172   Owner Surrender             Black/White  \n",
       "A373687   Owner Surrender               Red/Black  \n",
       "A380320   Euthanasia Request                  Red  \n",
       "A381173   Stray                       Brown/White  \n",
       "A385442   Stray                         Cream/Tan  \n",
       "A387083   Stray                               Tan  \n",
       "A394547   Stray                   Chocolate/White  \n",
       "A412626   Owner Surrender             Black/White  \n",
       "A419781   Stray                               Red  \n",
       "A420464   Stray                       Black/White  \n",
       "A430366   Stray                             Black  \n",
       "...                                           ...  \n",
       "A731380   Stray                               Tan  \n",
       "A731381   Stray                             Black  \n",
       "A731452   Stray                               Tan  \n",
       "A731533   Stray                            Yellow  \n",
       "A731567   Public Assist                  Tricolor  \n",
       "A731571   Stray                             Black  \n",
       "A731684   Stray                       Black/White  \n",
       "A731715   Stray                             Black  \n",
       "A731716   Stray                               Tan  \n",
       "A731765   Stray                       Black/White  \n",
       "A731787   Stray                             Black  \n",
       "A731788   Stray                       Black/White  \n",
       "A731789   Stray                             Black  \n",
       "A731790   Stray                             Black  \n",
       "A731792   Stray                             Black  \n",
       "A731793   Stray                             Black  \n",
       "A731794   Stray                             Black  \n",
       "A731798   Stray                               Red  \n",
       "A731849   Stray                             Black  \n",
       "A731875   Stray                            Yellow  \n",
       "A731921   Stray                         Tan/White  \n",
       "A731963   Stray                       White/Cream  \n",
       "A731987   Stray                       Black/Brown  \n",
       "A732017   Stray                          Buff/Tan  \n",
       "A732018   Stray                          Buff/Tan  \n",
       "A732019   Stray                          Buff/Tan  \n",
       "A732020   Stray                             White  \n",
       "A732048   Stray                             Black  \n",
       "A732050   Stray                             Black  \n",
       "A732072   Stray                       Black/White  \n",
       "\n",
       "[2846 rows x 10 columns]"
      ]
     },
     "execution_count": 51,
     "metadata": {},
     "output_type": "execute_result"
    }
   ],
   "source": [
    "labs"
   ]
  },
  {
   "cell_type": "code",
   "execution_count": 52,
   "metadata": {
    "collapsed": false
   },
   "outputs": [
    {
     "data": {
      "text/html": [
       "<div>\n",
       "<table border=\"1\" class=\"dataframe\">\n",
       "  <thead>\n",
       "    <tr style=\"text-align: right;\">\n",
       "      <th></th>\n",
       "      <th>Name</th>\n",
       "      <th>DateTime</th>\n",
       "      <th>MonthYear</th>\n",
       "      <th>Found Location</th>\n",
       "      <th>Intake Condition</th>\n",
       "      <th>Animal Type</th>\n",
       "      <th>Sex upon Intake</th>\n",
       "      <th>Age upon Intake</th>\n",
       "      <th>Breed</th>\n",
       "      <th>Color</th>\n",
       "    </tr>\n",
       "    <tr>\n",
       "      <th>Intake Type</th>\n",
       "      <th></th>\n",
       "      <th></th>\n",
       "      <th></th>\n",
       "      <th></th>\n",
       "      <th></th>\n",
       "      <th></th>\n",
       "      <th></th>\n",
       "      <th></th>\n",
       "      <th></th>\n",
       "      <th></th>\n",
       "    </tr>\n",
       "  </thead>\n",
       "  <tbody>\n",
       "    <tr>\n",
       "      <th>Stray</th>\n",
       "      <td>Boomer</td>\n",
       "      <td>07/03/2014 05:55:00 PM</td>\n",
       "      <td>07/03/2014 05:55:00 PM</td>\n",
       "      <td>Garden And Mildred in Austin (TX)</td>\n",
       "      <td>Normal</td>\n",
       "      <td>Dog</td>\n",
       "      <td>Neutered Male</td>\n",
       "      <td>14 years</td>\n",
       "      <td>Labrador Retriever Mix</td>\n",
       "      <td>Tan</td>\n",
       "    </tr>\n",
       "    <tr>\n",
       "      <th>Stray</th>\n",
       "      <td>Boomer</td>\n",
       "      <td>05/20/2015 10:34:00 PM</td>\n",
       "      <td>05/20/2015 10:34:00 PM</td>\n",
       "      <td>7403 Blessing Ave in Austin (TX)</td>\n",
       "      <td>Normal</td>\n",
       "      <td>Dog</td>\n",
       "      <td>Neutered Male</td>\n",
       "      <td>15 years</td>\n",
       "      <td>Labrador Retriever Mix</td>\n",
       "      <td>Tan</td>\n",
       "    </tr>\n",
       "  </tbody>\n",
       "</table>\n",
       "</div>"
      ],
      "text/plain": [
       "               Name                DateTime               MonthYear  \\\n",
       "Intake Type                                                           \n",
       "Stray        Boomer  07/03/2014 05:55:00 PM  07/03/2014 05:55:00 PM   \n",
       "Stray        Boomer  05/20/2015 10:34:00 PM  05/20/2015 10:34:00 PM   \n",
       "\n",
       "                                Found Location Intake Condition Animal Type  \\\n",
       "Intake Type                                                                   \n",
       "Stray        Garden And Mildred in Austin (TX)           Normal         Dog   \n",
       "Stray         7403 Blessing Ave in Austin (TX)           Normal         Dog   \n",
       "\n",
       "            Sex upon Intake Age upon Intake                   Breed Color  \n",
       "Intake Type                                                                \n",
       "Stray         Neutered Male        14 years  Labrador Retriever Mix   Tan  \n",
       "Stray         Neutered Male        15 years  Labrador Retriever Mix   Tan  "
      ]
     },
     "execution_count": 52,
     "metadata": {},
     "output_type": "execute_result"
    }
   ],
   "source": [
    "labs.loc['A245945']"
   ]
  },
  {
   "cell_type": "code",
   "execution_count": null,
   "metadata": {
    "collapsed": true
   },
   "outputs": [],
   "source": []
  },
  {
   "cell_type": "code",
   "execution_count": 61,
   "metadata": {
    "collapsed": false
   },
   "outputs": [
    {
     "data": {
      "text/plain": [
       "<matplotlib.axes._subplots.AxesSubplot at 0x118f5a390>"
      ]
     },
     "execution_count": 61,
     "metadata": {},
     "output_type": "execute_result"
    },
    {
     "data": {
      "image/png": "[encoded data removed]",
      "text/plain": [
       "<matplotlib.figure.Figure at 0x11cbc9c90>"
      ]
     },
     "metadata": {},
     "output_type": "display_data"
    }
   ],
   "source": [
    "labradors.groupby(['Intake Type', 'Breed']).size().plot(kind='bar', figsize=(12,7))\n"
   ]
  },
  {
   "cell_type": "code",
   "execution_count": 64,
   "metadata": {
    "collapsed": false
   },
   "outputs": [
    {
     "data": {
      "text/html": [
       "<div>\n",
       "<table border=\"1\" class=\"dataframe\">\n",
       "  <thead>\n",
       "    <tr style=\"text-align: right;\">\n",
       "      <th></th>\n",
       "      <th>Intake Type</th>\n",
       "      <th>Breed</th>\n",
       "      <th>0</th>\n",
       "    </tr>\n",
       "  </thead>\n",
       "  <tbody>\n",
       "    <tr>\n",
       "      <th>0</th>\n",
       "      <td>Euthanasia Request</td>\n",
       "      <td>Labrador Retriever Mix</td>\n",
       "      <td>23</td>\n",
       "    </tr>\n",
       "    <tr>\n",
       "      <th>1</th>\n",
       "      <td>Owner Surrender</td>\n",
       "      <td>Labrador Retriever</td>\n",
       "      <td>21</td>\n",
       "    </tr>\n",
       "    <tr>\n",
       "      <th>2</th>\n",
       "      <td>Owner Surrender</td>\n",
       "      <td>Labrador Retriever Mix</td>\n",
       "      <td>434</td>\n",
       "    </tr>\n",
       "    <tr>\n",
       "      <th>3</th>\n",
       "      <td>Public Assist</td>\n",
       "      <td>Labrador Retriever</td>\n",
       "      <td>11</td>\n",
       "    </tr>\n",
       "    <tr>\n",
       "      <th>4</th>\n",
       "      <td>Public Assist</td>\n",
       "      <td>Labrador Retriever Mix</td>\n",
       "      <td>177</td>\n",
       "    </tr>\n",
       "    <tr>\n",
       "      <th>5</th>\n",
       "      <td>Stray</td>\n",
       "      <td>Labrador Retriever</td>\n",
       "      <td>117</td>\n",
       "    </tr>\n",
       "    <tr>\n",
       "      <th>6</th>\n",
       "      <td>Stray</td>\n",
       "      <td>Labrador Retriever Mix</td>\n",
       "      <td>2063</td>\n",
       "    </tr>\n",
       "  </tbody>\n",
       "</table>\n",
       "</div>"
      ],
      "text/plain": [
       "          Intake Type                   Breed     0\n",
       "0  Euthanasia Request  Labrador Retriever Mix    23\n",
       "1     Owner Surrender      Labrador Retriever    21\n",
       "2     Owner Surrender  Labrador Retriever Mix   434\n",
       "3       Public Assist      Labrador Retriever    11\n",
       "4       Public Assist  Labrador Retriever Mix   177\n",
       "5               Stray      Labrador Retriever   117\n",
       "6               Stray  Labrador Retriever Mix  2063"
      ]
     },
     "execution_count": 64,
     "metadata": {},
     "output_type": "execute_result"
    }
   ],
   "source": [
    "labsintakegrp = labradors.groupby(['Intake Type', 'Breed']).size().reset_index()\n",
    "labsintakegrp"
   ]
  },
  {
   "cell_type": "code",
   "execution_count": 79,
   "metadata": {
    "collapsed": false
   },
   "outputs": [
    {
     "data": {
      "text/html": [
       "<div>\n",
       "<table border=\"1\" class=\"dataframe\">\n",
       "  <thead>\n",
       "    <tr style=\"text-align: right;\">\n",
       "      <th></th>\n",
       "      <th>Intake Type</th>\n",
       "      <th>Breed</th>\n",
       "      <th>0</th>\n",
       "      <th>Number</th>\n",
       "    </tr>\n",
       "  </thead>\n",
       "  <tbody>\n",
       "    <tr>\n",
       "      <th>0</th>\n",
       "      <td>Euthanasia Request</td>\n",
       "      <td>Labrador Retriever Mix</td>\n",
       "      <td>23</td>\n",
       "      <td>23</td>\n",
       "    </tr>\n",
       "    <tr>\n",
       "      <th>1</th>\n",
       "      <td>Owner Surrender</td>\n",
       "      <td>Labrador Retriever</td>\n",
       "      <td>21</td>\n",
       "      <td>21</td>\n",
       "    </tr>\n",
       "    <tr>\n",
       "      <th>2</th>\n",
       "      <td>Owner Surrender</td>\n",
       "      <td>Labrador Retriever Mix</td>\n",
       "      <td>434</td>\n",
       "      <td>434</td>\n",
       "    </tr>\n",
       "    <tr>\n",
       "      <th>3</th>\n",
       "      <td>Public Assist</td>\n",
       "      <td>Labrador Retriever</td>\n",
       "      <td>11</td>\n",
       "      <td>11</td>\n",
       "    </tr>\n",
       "    <tr>\n",
       "      <th>4</th>\n",
       "      <td>Public Assist</td>\n",
       "      <td>Labrador Retriever Mix</td>\n",
       "      <td>177</td>\n",
       "      <td>177</td>\n",
       "    </tr>\n",
       "    <tr>\n",
       "      <th>5</th>\n",
       "      <td>Stray</td>\n",
       "      <td>Labrador Retriever</td>\n",
       "      <td>117</td>\n",
       "      <td>117</td>\n",
       "    </tr>\n",
       "    <tr>\n",
       "      <th>6</th>\n",
       "      <td>Stray</td>\n",
       "      <td>Labrador Retriever Mix</td>\n",
       "      <td>2063</td>\n",
       "      <td>2063</td>\n",
       "    </tr>\n",
       "  </tbody>\n",
       "</table>\n",
       "</div>"
      ],
      "text/plain": [
       "          Intake Type                   Breed     0  Number\n",
       "0  Euthanasia Request  Labrador Retriever Mix    23      23\n",
       "1     Owner Surrender      Labrador Retriever    21      21\n",
       "2     Owner Surrender  Labrador Retriever Mix   434     434\n",
       "3       Public Assist      Labrador Retriever    11      11\n",
       "4       Public Assist  Labrador Retriever Mix   177     177\n",
       "5               Stray      Labrador Retriever   117     117\n",
       "6               Stray  Labrador Retriever Mix  2063    2063"
      ]
     },
     "execution_count": 79,
     "metadata": {},
     "output_type": "execute_result"
    }
   ],
   "source": [
    "labsintakegrp['Number'] = labsintakegrp[0]\n",
    "labsintakegrp"
   ]
  },
  {
   "cell_type": "code",
   "execution_count": 80,
   "metadata": {
    "collapsed": true
   },
   "outputs": [],
   "source": [
    "del labsintakegrp[0]"
   ]
  },
  {
   "cell_type": "code",
   "execution_count": 81,
   "metadata": {
    "collapsed": false
   },
   "outputs": [
    {
     "data": {
      "text/html": [
       "<div>\n",
       "<table border=\"1\" class=\"dataframe\">\n",
       "  <thead>\n",
       "    <tr style=\"text-align: right;\">\n",
       "      <th></th>\n",
       "      <th>Intake Type</th>\n",
       "      <th>Breed</th>\n",
       "      <th>Number</th>\n",
       "    </tr>\n",
       "  </thead>\n",
       "  <tbody>\n",
       "    <tr>\n",
       "      <th>0</th>\n",
       "      <td>Euthanasia Request</td>\n",
       "      <td>Labrador Retriever Mix</td>\n",
       "      <td>23</td>\n",
       "    </tr>\n",
       "    <tr>\n",
       "      <th>1</th>\n",
       "      <td>Owner Surrender</td>\n",
       "      <td>Labrador Retriever</td>\n",
       "      <td>21</td>\n",
       "    </tr>\n",
       "    <tr>\n",
       "      <th>2</th>\n",
       "      <td>Owner Surrender</td>\n",
       "      <td>Labrador Retriever Mix</td>\n",
       "      <td>434</td>\n",
       "    </tr>\n",
       "    <tr>\n",
       "      <th>3</th>\n",
       "      <td>Public Assist</td>\n",
       "      <td>Labrador Retriever</td>\n",
       "      <td>11</td>\n",
       "    </tr>\n",
       "    <tr>\n",
       "      <th>4</th>\n",
       "      <td>Public Assist</td>\n",
       "      <td>Labrador Retriever Mix</td>\n",
       "      <td>177</td>\n",
       "    </tr>\n",
       "    <tr>\n",
       "      <th>5</th>\n",
       "      <td>Stray</td>\n",
       "      <td>Labrador Retriever</td>\n",
       "      <td>117</td>\n",
       "    </tr>\n",
       "    <tr>\n",
       "      <th>6</th>\n",
       "      <td>Stray</td>\n",
       "      <td>Labrador Retriever Mix</td>\n",
       "      <td>2063</td>\n",
       "    </tr>\n",
       "  </tbody>\n",
       "</table>\n",
       "</div>"
      ],
      "text/plain": [
       "          Intake Type                   Breed  Number\n",
       "0  Euthanasia Request  Labrador Retriever Mix      23\n",
       "1     Owner Surrender      Labrador Retriever      21\n",
       "2     Owner Surrender  Labrador Retriever Mix     434\n",
       "3       Public Assist      Labrador Retriever      11\n",
       "4       Public Assist  Labrador Retriever Mix     177\n",
       "5               Stray      Labrador Retriever     117\n",
       "6               Stray  Labrador Retriever Mix    2063"
      ]
     },
     "execution_count": 81,
     "metadata": {},
     "output_type": "execute_result"
    }
   ],
   "source": [
    "labsintakegrp"
   ]
  },
  {
   "cell_type": "code",
   "execution_count": 75,
   "metadata": {
    "collapsed": false
   },
   "outputs": [
    {
     "data": {
      "image/png": "[encoded data removed]",
      "text/plain": [
       "<matplotlib.figure.Figure at 0x11de3f810>"
      ]
     },
     "metadata": {},
     "output_type": "display_data"
    }
   ],
   "source": [
    "# set the figure size\n",
    "fig = plt.subplots(figsize=(10,6))\n",
    "\n",
    "# use seaborn, 'hue' is the key option\n",
    "# naming the chart (p in this case) allows you to set options on the chart\n",
    "p = sns.barplot(x=\"Intake Type\", y=0, hue=\"Breed\", data=labsintakegrp)\n",
    "sns.despine(left=True, bottom=True)\n",
    "\n",
    "# set options on the chart\n",
    "p.set_xlabel('Intake Type')\n",
    "p.set_ylabel('Number')\n",
    "p.set_title(\"Labs vs Lab Mixes\", fontsize=15)\n",
    "\n",
    "# plot the chart\n",
    "plt.legend()\n",
    "plt.show()\n"
   ]
  },
  {
   "cell_type": "code",
   "execution_count": null,
   "metadata": {
    "collapsed": true
   },
   "outputs": [],
   "source": []
  },
  {
   "cell_type": "code",
   "execution_count": 77,
   "metadata": {
    "collapsed": false
   },
   "outputs": [
    {
     "data": {
      "text/plain": [
       "Intake Type  0        Euthanasia Request\n",
       "             1           Owner Surrender\n",
       "             2           Owner Surrender\n",
       "             3             Public Assist\n",
       "             4             Public Assist\n",
       "             5                     Stray\n",
       "             6                     Stray\n",
       "Breed        0    Labrador Retriever Mix\n",
       "             1        Labrador Retriever\n",
       "             2    Labrador Retriever Mix\n",
       "             3        Labrador Retriever\n",
       "             4    Labrador Retriever Mix\n",
       "             5        Labrador Retriever\n",
       "             6    Labrador Retriever Mix\n",
       "0            0                        23\n",
       "             1                        21\n",
       "             2                       434\n",
       "             3                        11\n",
       "             4                       177\n",
       "             5                       117\n",
       "             6                      2063\n",
       "dtype: object"
      ]
     },
     "execution_count": 77,
     "metadata": {},
     "output_type": "execute_result"
    }
   ],
   "source": [
    "labsintakegrp.unstack(0)"
   ]
  },
  {
   "cell_type": "code",
   "execution_count": null,
   "metadata": {
    "collapsed": true
   },
   "outputs": [],
   "source": []
  },
  {
   "cell_type": "code",
   "execution_count": null,
   "metadata": {
    "collapsed": true
   },
   "outputs": [],
   "source": []
  },
  {
   "cell_type": "code",
   "execution_count": null,
   "metadata": {
    "collapsed": true
   },
   "outputs": [],
   "source": []
  },
  {
   "cell_type": "code",
   "execution_count": null,
   "metadata": {
    "collapsed": true
   },
   "outputs": [],
   "source": []
  },
  {
   "cell_type": "markdown",
   "metadata": {},
   "source": [
    "## Cat DataFrame"
   ]
  },
  {
   "cell_type": "markdown",
   "metadata": {},
   "source": [
    "### Intakes among Cats"
   ]
  },
  {
   "cell_type": "code",
   "execution_count": 49,
   "metadata": {
    "collapsed": false,
    "scrolled": true
   },
   "outputs": [
    {
     "data": {
      "text/plain": [
       "<matplotlib.text.Text at 0x11d3d8ed0>"
      ]
     },
     "execution_count": 49,
     "metadata": {},
     "output_type": "execute_result"
    },
    {
     "data": {
      "image/png": "[encoded data removed]",
      "text/plain": [
       "<matplotlib.figure.Figure at 0x11cbb0910>"
      ]
     },
     "metadata": {},
     "output_type": "display_data"
    }
   ],
   "source": [
    "cats_intake[\"Intake Type\"].value_counts().plot(kind='bar', figsize=(10,5), color ='purple')\n",
    "plt.xlabel(\"Intake Type\")\n",
    "plt.ylabel(\"Counts\")\n",
    "plt.title(\"Distribution of Cat Intake Types \\n Austin Animal Center\", fontsize=15)"
   ]
  },
  {
   "cell_type": "code",
   "execution_count": null,
   "metadata": {
    "collapsed": true
   },
   "outputs": [],
   "source": []
  },
  {
   "cell_type": "code",
   "execution_count": null,
   "metadata": {
    "collapsed": true
   },
   "outputs": [],
   "source": []
  },
  {
   "cell_type": "markdown",
   "metadata": {
    "collapsed": true
   },
   "source": [
    "# Animal Outcomes"
   ]
  },
  {
   "cell_type": "markdown",
   "metadata": {},
   "source": [
    "Description from Austin Open Data Portal (https://data.austintexas.gov/Health/Austin-Animal-Center-Outcomes-Version-1-DEMO/9t4d-g238)\n",
    "\n",
    "Austin Animal Center Outcomes Version 1 DEMO\n",
    "\n",
    "Animal Center Outcomes from Oct, 1st 2013 to present. Animal Center Outcomes from Oct, 1st 2013 to present. Outcomes represent the status of animals as they leave the Animal Center. All animals receive a unique Animal ID during intake. Annually over 90% of animals entering the center, are adopted, transferred to rescue or returned to their owners. The Outcomes data set reflects that Austin, TX. is the largest \"No Kill\" city in the country.\n",
    "\n",
    "This data set replaces all previous Animal Center Outcomes data sets.\n",
    "\n",
    "THIS DATA SET IS STILL IN BETA."
   ]
  },
  {
   "cell_type": "code",
   "execution_count": 65,
   "metadata": {
    "collapsed": true
   },
   "outputs": [],
   "source": [
    "animaloutcome_df = pd.read_csv('austin_animal_center_outcomes_version_1_demo.csv')"
   ]
  },
  {
   "cell_type": "code",
   "execution_count": 66,
   "metadata": {
    "collapsed": false
   },
   "outputs": [
    {
     "data": {
      "text/html": [
       "<div>\n",
       "<table border=\"1\" class=\"dataframe\">\n",
       "  <thead>\n",
       "    <tr style=\"text-align: right;\">\n",
       "      <th></th>\n",
       "      <th>Animal ID</th>\n",
       "      <th>Name</th>\n",
       "      <th>DateTime</th>\n",
       "      <th>MonthYear</th>\n",
       "      <th>Date of Birth</th>\n",
       "      <th>Outcome Type</th>\n",
       "      <th>Outcome Subtype</th>\n",
       "      <th>Animal Type</th>\n",
       "      <th>Sex upon Outcome</th>\n",
       "      <th>Age upon Outcome</th>\n",
       "      <th>Breed</th>\n",
       "      <th>Color</th>\n",
       "    </tr>\n",
       "  </thead>\n",
       "  <tbody>\n",
       "    <tr>\n",
       "      <th>0</th>\n",
       "      <td>A659834</td>\n",
       "      <td>*Dudley</td>\n",
       "      <td>10/01/2013 09:31:00 AM</td>\n",
       "      <td>10/01/2013 09:31:00 AM</td>\n",
       "      <td>07/23/2013</td>\n",
       "      <td>Adoption</td>\n",
       "      <td>Foster</td>\n",
       "      <td>Dog</td>\n",
       "      <td>Neutered Male</td>\n",
       "      <td>2 months</td>\n",
       "      <td>Labrador Retriever Mix</td>\n",
       "      <td>Black</td>\n",
       "    </tr>\n",
       "    <tr>\n",
       "      <th>1</th>\n",
       "      <td>A664235</td>\n",
       "      <td>NaN</td>\n",
       "      <td>10/01/2013 10:39:00 AM</td>\n",
       "      <td>10/01/2013 10:39:00 AM</td>\n",
       "      <td>09/24/2013</td>\n",
       "      <td>Transfer</td>\n",
       "      <td>Partner</td>\n",
       "      <td>Cat</td>\n",
       "      <td>Unknown</td>\n",
       "      <td>1 week</td>\n",
       "      <td>Domestic Shorthair Mix</td>\n",
       "      <td>Orange/White</td>\n",
       "    </tr>\n",
       "    <tr>\n",
       "      <th>2</th>\n",
       "      <td>A664236</td>\n",
       "      <td>NaN</td>\n",
       "      <td>10/01/2013 10:44:00 AM</td>\n",
       "      <td>10/01/2013 10:44:00 AM</td>\n",
       "      <td>09/24/2013</td>\n",
       "      <td>Transfer</td>\n",
       "      <td>Partner</td>\n",
       "      <td>Cat</td>\n",
       "      <td>Unknown</td>\n",
       "      <td>1 week</td>\n",
       "      <td>Domestic Shorthair Mix</td>\n",
       "      <td>Orange/White</td>\n",
       "    </tr>\n",
       "    <tr>\n",
       "      <th>3</th>\n",
       "      <td>A664237</td>\n",
       "      <td>NaN</td>\n",
       "      <td>10/01/2013 10:44:00 AM</td>\n",
       "      <td>10/01/2013 10:44:00 AM</td>\n",
       "      <td>09/24/2013</td>\n",
       "      <td>Transfer</td>\n",
       "      <td>Partner</td>\n",
       "      <td>Cat</td>\n",
       "      <td>Unknown</td>\n",
       "      <td>1 week</td>\n",
       "      <td>Domestic Shorthair Mix</td>\n",
       "      <td>Orange/White</td>\n",
       "    </tr>\n",
       "    <tr>\n",
       "      <th>4</th>\n",
       "      <td>A664223</td>\n",
       "      <td>Moby</td>\n",
       "      <td>10/01/2013 11:03:00 AM</td>\n",
       "      <td>10/01/2013 11:03:00 AM</td>\n",
       "      <td>09/30/2009</td>\n",
       "      <td>Return to Owner</td>\n",
       "      <td>NaN</td>\n",
       "      <td>Dog</td>\n",
       "      <td>Neutered Male</td>\n",
       "      <td>4 years</td>\n",
       "      <td>Bulldog Mix</td>\n",
       "      <td>White</td>\n",
       "    </tr>\n",
       "  </tbody>\n",
       "</table>\n",
       "</div>"
      ],
      "text/plain": [
       "  Animal ID     Name                DateTime               MonthYear  \\\n",
       "0   A659834  *Dudley  10/01/2013 09:31:00 AM  10/01/2013 09:31:00 AM   \n",
       "1   A664235      NaN  10/01/2013 10:39:00 AM  10/01/2013 10:39:00 AM   \n",
       "2   A664236      NaN  10/01/2013 10:44:00 AM  10/01/2013 10:44:00 AM   \n",
       "3   A664237      NaN  10/01/2013 10:44:00 AM  10/01/2013 10:44:00 AM   \n",
       "4   A664223     Moby  10/01/2013 11:03:00 AM  10/01/2013 11:03:00 AM   \n",
       "\n",
       "  Date of Birth     Outcome Type Outcome Subtype Animal Type Sex upon Outcome  \\\n",
       "0    07/23/2013         Adoption          Foster         Dog    Neutered Male   \n",
       "1    09/24/2013         Transfer         Partner         Cat          Unknown   \n",
       "2    09/24/2013         Transfer         Partner         Cat          Unknown   \n",
       "3    09/24/2013         Transfer         Partner         Cat          Unknown   \n",
       "4    09/30/2009  Return to Owner             NaN         Dog    Neutered Male   \n",
       "\n",
       "  Age upon Outcome                   Breed         Color  \n",
       "0         2 months  Labrador Retriever Mix         Black  \n",
       "1           1 week  Domestic Shorthair Mix  Orange/White  \n",
       "2           1 week  Domestic Shorthair Mix  Orange/White  \n",
       "3           1 week  Domestic Shorthair Mix  Orange/White  \n",
       "4          4 years             Bulldog Mix         White  "
      ]
     },
     "execution_count": 66,
     "metadata": {},
     "output_type": "execute_result"
    }
   ],
   "source": [
    "animaloutcome_df.head()"
   ]
  },
  {
   "cell_type": "code",
   "execution_count": 67,
   "metadata": {
    "collapsed": false
   },
   "outputs": [
    {
     "data": {
      "text/plain": [
       "A706536    10\n",
       "A694501     8\n",
       "A671704     7\n",
       "A683108     7\n",
       "A616444     6\n",
       "A688610     6\n",
       "A695857     6\n",
       "A593537     6\n",
       "A701901     6\n",
       "A690234     5\n",
       "A681167     5\n",
       "A593109     5\n",
       "A623561     5\n",
       "A703649     5\n",
       "A691218     5\n",
       "A623219     5\n",
       "A667894     5\n",
       "A613676     5\n",
       "A664228     5\n",
       "A719117     5\n",
       "A668183     5\n",
       "A663819     5\n",
       "A677853     5\n",
       "A701879     5\n",
       "A704004     5\n",
       "A700121     5\n",
       "A707114     5\n",
       "A704287     5\n",
       "A712510     5\n",
       "A462580     5\n",
       "           ..\n",
       "A708143     1\n",
       "A689918     1\n",
       "A689919     1\n",
       "A718801     1\n",
       "A711727     1\n",
       "A718803     1\n",
       "A717461     1\n",
       "A694709     1\n",
       "A731532     1\n",
       "A719231     1\n",
       "A731194     1\n",
       "A704674     1\n",
       "A704673     1\n",
       "A704672     1\n",
       "A704671     1\n",
       "A704670     1\n",
       "A716585     1\n",
       "A720489     1\n",
       "A708144     1\n",
       "A704679     1\n",
       "A731530     1\n",
       "A694705     1\n",
       "A699552     1\n",
       "A694707     1\n",
       "A694706     1\n",
       "A694701     1\n",
       "A699556     1\n",
       "A699555     1\n",
       "A699554     1\n",
       "A728984     1\n",
       "Name: Animal ID, dtype: int64"
      ]
     },
     "execution_count": 67,
     "metadata": {},
     "output_type": "execute_result"
    }
   ],
   "source": [
    "animaloutcome_df[\"Animal ID\"].value_counts()"
   ]
  },
  {
   "cell_type": "code",
   "execution_count": 68,
   "metadata": {
    "collapsed": true
   },
   "outputs": [],
   "source": [
    "animaloutcome_df_dupsremoved = animaloutcome_df.drop_duplicates()"
   ]
  },
  {
   "cell_type": "code",
   "execution_count": 69,
   "metadata": {
    "collapsed": false
   },
   "outputs": [
    {
     "data": {
      "text/plain": [
       "51998"
      ]
     },
     "execution_count": 69,
     "metadata": {},
     "output_type": "execute_result"
    }
   ],
   "source": [
    "len(animaloutcome_df_dupsremoved)"
   ]
  },
  {
   "cell_type": "code",
   "execution_count": 70,
   "metadata": {
    "collapsed": false
   },
   "outputs": [
    {
     "data": {
      "text/plain": [
       "52005"
      ]
     },
     "execution_count": 70,
     "metadata": {},
     "output_type": "execute_result"
    }
   ],
   "source": [
    "len(animaloutcome_df)"
   ]
  },
  {
   "cell_type": "code",
   "execution_count": 71,
   "metadata": {
    "collapsed": true
   },
   "outputs": [],
   "source": [
    "animaloutcomes_df = animaloutcome_df_dupsremoved"
   ]
  },
  {
   "cell_type": "markdown",
   "metadata": {},
   "source": [
    "### Animal Types"
   ]
  },
  {
   "cell_type": "code",
   "execution_count": 72,
   "metadata": {
    "collapsed": false
   },
   "outputs": [
    {
     "data": {
      "text/plain": [
       "Dog          29519\n",
       "Cat          19472\n",
       "Other         2793\n",
       "Bird           206\n",
       "Livestock        8\n",
       "Name: Animal Type, dtype: int64"
      ]
     },
     "execution_count": 72,
     "metadata": {},
     "output_type": "execute_result"
    }
   ],
   "source": [
    "animaloutcomes_df[\"Animal Type\"].value_counts()"
   ]
  },
  {
   "cell_type": "code",
   "execution_count": 75,
   "metadata": {
    "collapsed": false
   },
   "outputs": [
    {
     "data": {
      "text/html": [
       "<div>\n",
       "<table border=\"1\" class=\"dataframe\">\n",
       "  <thead>\n",
       "    <tr style=\"text-align: right;\">\n",
       "      <th></th>\n",
       "      <th>Animal ID</th>\n",
       "      <th>Name</th>\n",
       "      <th>DateTime</th>\n",
       "      <th>MonthYear</th>\n",
       "      <th>Date of Birth</th>\n",
       "      <th>Outcome Type</th>\n",
       "      <th>Outcome Subtype</th>\n",
       "      <th>Animal Type</th>\n",
       "      <th>Sex upon Outcome</th>\n",
       "      <th>Age upon Outcome</th>\n",
       "      <th>Breed</th>\n",
       "      <th>Color</th>\n",
       "    </tr>\n",
       "  </thead>\n",
       "  <tbody>\n",
       "    <tr>\n",
       "      <th>0</th>\n",
       "      <td>A659834</td>\n",
       "      <td>*Dudley</td>\n",
       "      <td>10/01/2013 09:31:00 AM</td>\n",
       "      <td>10/01/2013 09:31:00 AM</td>\n",
       "      <td>07/23/2013</td>\n",
       "      <td>Adoption</td>\n",
       "      <td>Foster</td>\n",
       "      <td>Dog</td>\n",
       "      <td>Neutered Male</td>\n",
       "      <td>2 months</td>\n",
       "      <td>Labrador Retriever Mix</td>\n",
       "      <td>Black</td>\n",
       "    </tr>\n",
       "    <tr>\n",
       "      <th>4</th>\n",
       "      <td>A664223</td>\n",
       "      <td>Moby</td>\n",
       "      <td>10/01/2013 11:03:00 AM</td>\n",
       "      <td>10/01/2013 11:03:00 AM</td>\n",
       "      <td>09/30/2009</td>\n",
       "      <td>Return to Owner</td>\n",
       "      <td>NaN</td>\n",
       "      <td>Dog</td>\n",
       "      <td>Neutered Male</td>\n",
       "      <td>4 years</td>\n",
       "      <td>Bulldog Mix</td>\n",
       "      <td>White</td>\n",
       "    </tr>\n",
       "    <tr>\n",
       "      <th>5</th>\n",
       "      <td>A663646</td>\n",
       "      <td>NaN</td>\n",
       "      <td>10/01/2013 11:12:00 AM</td>\n",
       "      <td>10/01/2013 11:12:00 AM</td>\n",
       "      <td>09/22/2010</td>\n",
       "      <td>Transfer</td>\n",
       "      <td>Partner</td>\n",
       "      <td>Dog</td>\n",
       "      <td>Neutered Male</td>\n",
       "      <td>3 years</td>\n",
       "      <td>Toy Poodle Mix</td>\n",
       "      <td>White</td>\n",
       "    </tr>\n",
       "    <tr>\n",
       "      <th>6</th>\n",
       "      <td>A663888</td>\n",
       "      <td>NaN</td>\n",
       "      <td>10/01/2013 11:13:00 AM</td>\n",
       "      <td>10/01/2013 11:13:00 AM</td>\n",
       "      <td>09/25/2011</td>\n",
       "      <td>Transfer</td>\n",
       "      <td>Partner</td>\n",
       "      <td>Dog</td>\n",
       "      <td>Spayed Female</td>\n",
       "      <td>2 years</td>\n",
       "      <td>Boxer Mix</td>\n",
       "      <td>Red/White</td>\n",
       "    </tr>\n",
       "    <tr>\n",
       "      <th>7</th>\n",
       "      <td>A663572</td>\n",
       "      <td>*Starla</td>\n",
       "      <td>10/01/2013 11:42:00 AM</td>\n",
       "      <td>10/01/2013 11:42:00 AM</td>\n",
       "      <td>09/21/2010</td>\n",
       "      <td>Adoption</td>\n",
       "      <td>NaN</td>\n",
       "      <td>Dog</td>\n",
       "      <td>Spayed Female</td>\n",
       "      <td>3 years</td>\n",
       "      <td>Anatol Shepherd Mix</td>\n",
       "      <td>White/Brown</td>\n",
       "    </tr>\n",
       "  </tbody>\n",
       "</table>\n",
       "</div>"
      ],
      "text/plain": [
       "  Animal ID     Name                DateTime               MonthYear  \\\n",
       "0   A659834  *Dudley  10/01/2013 09:31:00 AM  10/01/2013 09:31:00 AM   \n",
       "4   A664223     Moby  10/01/2013 11:03:00 AM  10/01/2013 11:03:00 AM   \n",
       "5   A663646      NaN  10/01/2013 11:12:00 AM  10/01/2013 11:12:00 AM   \n",
       "6   A663888      NaN  10/01/2013 11:13:00 AM  10/01/2013 11:13:00 AM   \n",
       "7   A663572  *Starla  10/01/2013 11:42:00 AM  10/01/2013 11:42:00 AM   \n",
       "\n",
       "  Date of Birth     Outcome Type Outcome Subtype Animal Type Sex upon Outcome  \\\n",
       "0    07/23/2013         Adoption          Foster         Dog    Neutered Male   \n",
       "4    09/30/2009  Return to Owner             NaN         Dog    Neutered Male   \n",
       "5    09/22/2010         Transfer         Partner         Dog    Neutered Male   \n",
       "6    09/25/2011         Transfer         Partner         Dog    Spayed Female   \n",
       "7    09/21/2010         Adoption             NaN         Dog    Spayed Female   \n",
       "\n",
       "  Age upon Outcome                   Breed        Color  \n",
       "0         2 months  Labrador Retriever Mix        Black  \n",
       "4          4 years             Bulldog Mix        White  \n",
       "5          3 years          Toy Poodle Mix        White  \n",
       "6          2 years               Boxer Mix    Red/White  \n",
       "7          3 years     Anatol Shepherd Mix  White/Brown  "
      ]
     },
     "execution_count": 75,
     "metadata": {},
     "output_type": "execute_result"
    }
   ],
   "source": [
    "dog_outcomes = animaloutcomes_df[animaloutcomes_df[\"Animal Type\"] == \"Dog\"]\n",
    "dog_outcome.head()"
   ]
  },
  {
   "cell_type": "code",
   "execution_count": 76,
   "metadata": {
    "collapsed": false
   },
   "outputs": [
    {
     "data": {
      "text/html": [
       "<div>\n",
       "<table border=\"1\" class=\"dataframe\">\n",
       "  <thead>\n",
       "    <tr style=\"text-align: right;\">\n",
       "      <th></th>\n",
       "      <th>Animal ID</th>\n",
       "      <th>Name</th>\n",
       "      <th>DateTime</th>\n",
       "      <th>MonthYear</th>\n",
       "      <th>Date of Birth</th>\n",
       "      <th>Outcome Type</th>\n",
       "      <th>Outcome Subtype</th>\n",
       "      <th>Animal Type</th>\n",
       "      <th>Sex upon Outcome</th>\n",
       "      <th>Age upon Outcome</th>\n",
       "      <th>Breed</th>\n",
       "      <th>Color</th>\n",
       "    </tr>\n",
       "  </thead>\n",
       "  <tbody>\n",
       "    <tr>\n",
       "      <th>1</th>\n",
       "      <td>A664235</td>\n",
       "      <td>NaN</td>\n",
       "      <td>10/01/2013 10:39:00 AM</td>\n",
       "      <td>10/01/2013 10:39:00 AM</td>\n",
       "      <td>09/24/2013</td>\n",
       "      <td>Transfer</td>\n",
       "      <td>Partner</td>\n",
       "      <td>Cat</td>\n",
       "      <td>Unknown</td>\n",
       "      <td>1 week</td>\n",
       "      <td>Domestic Shorthair Mix</td>\n",
       "      <td>Orange/White</td>\n",
       "    </tr>\n",
       "    <tr>\n",
       "      <th>2</th>\n",
       "      <td>A664236</td>\n",
       "      <td>NaN</td>\n",
       "      <td>10/01/2013 10:44:00 AM</td>\n",
       "      <td>10/01/2013 10:44:00 AM</td>\n",
       "      <td>09/24/2013</td>\n",
       "      <td>Transfer</td>\n",
       "      <td>Partner</td>\n",
       "      <td>Cat</td>\n",
       "      <td>Unknown</td>\n",
       "      <td>1 week</td>\n",
       "      <td>Domestic Shorthair Mix</td>\n",
       "      <td>Orange/White</td>\n",
       "    </tr>\n",
       "    <tr>\n",
       "      <th>3</th>\n",
       "      <td>A664237</td>\n",
       "      <td>NaN</td>\n",
       "      <td>10/01/2013 10:44:00 AM</td>\n",
       "      <td>10/01/2013 10:44:00 AM</td>\n",
       "      <td>09/24/2013</td>\n",
       "      <td>Transfer</td>\n",
       "      <td>Partner</td>\n",
       "      <td>Cat</td>\n",
       "      <td>Unknown</td>\n",
       "      <td>1 week</td>\n",
       "      <td>Domestic Shorthair Mix</td>\n",
       "      <td>Orange/White</td>\n",
       "    </tr>\n",
       "    <tr>\n",
       "      <th>9</th>\n",
       "      <td>A656894</td>\n",
       "      <td>Jake</td>\n",
       "      <td>10/01/2013 11:53:00 AM</td>\n",
       "      <td>10/01/2013 11:53:00 AM</td>\n",
       "      <td>04/22/2013</td>\n",
       "      <td>Adoption</td>\n",
       "      <td>NaN</td>\n",
       "      <td>Cat</td>\n",
       "      <td>Neutered Male</td>\n",
       "      <td>5 months</td>\n",
       "      <td>Domestic Shorthair Mix</td>\n",
       "      <td>Black</td>\n",
       "    </tr>\n",
       "    <tr>\n",
       "      <th>10</th>\n",
       "      <td>A661795</td>\n",
       "      <td>Blakie</td>\n",
       "      <td>10/01/2013 11:53:00 AM</td>\n",
       "      <td>10/01/2013 11:53:00 AM</td>\n",
       "      <td>03/25/2013</td>\n",
       "      <td>Adoption</td>\n",
       "      <td>NaN</td>\n",
       "      <td>Cat</td>\n",
       "      <td>Spayed Female</td>\n",
       "      <td>6 months</td>\n",
       "      <td>Domestic Shorthair Mix</td>\n",
       "      <td>Tortie</td>\n",
       "    </tr>\n",
       "  </tbody>\n",
       "</table>\n",
       "</div>"
      ],
      "text/plain": [
       "   Animal ID    Name                DateTime               MonthYear  \\\n",
       "1    A664235     NaN  10/01/2013 10:39:00 AM  10/01/2013 10:39:00 AM   \n",
       "2    A664236     NaN  10/01/2013 10:44:00 AM  10/01/2013 10:44:00 AM   \n",
       "3    A664237     NaN  10/01/2013 10:44:00 AM  10/01/2013 10:44:00 AM   \n",
       "9    A656894    Jake  10/01/2013 11:53:00 AM  10/01/2013 11:53:00 AM   \n",
       "10   A661795  Blakie  10/01/2013 11:53:00 AM  10/01/2013 11:53:00 AM   \n",
       "\n",
       "   Date of Birth Outcome Type Outcome Subtype Animal Type Sex upon Outcome  \\\n",
       "1     09/24/2013     Transfer         Partner         Cat          Unknown   \n",
       "2     09/24/2013     Transfer         Partner         Cat          Unknown   \n",
       "3     09/24/2013     Transfer         Partner         Cat          Unknown   \n",
       "9     04/22/2013     Adoption             NaN         Cat    Neutered Male   \n",
       "10    03/25/2013     Adoption             NaN         Cat    Spayed Female   \n",
       "\n",
       "   Age upon Outcome                   Breed         Color  \n",
       "1            1 week  Domestic Shorthair Mix  Orange/White  \n",
       "2            1 week  Domestic Shorthair Mix  Orange/White  \n",
       "3            1 week  Domestic Shorthair Mix  Orange/White  \n",
       "9          5 months  Domestic Shorthair Mix         Black  \n",
       "10         6 months  Domestic Shorthair Mix        Tortie  "
      ]
     },
     "execution_count": 76,
     "metadata": {},
     "output_type": "execute_result"
    }
   ],
   "source": [
    "cat_outcomes = animaloutcomes_df[animaloutcomes_df[\"Animal Type\"] == \"Cat\"]\n",
    "cat_outcome.head()"
   ]
  },
  {
   "cell_type": "markdown",
   "metadata": {
    "collapsed": true
   },
   "source": [
    "### Animal Type Outcomes Distribution"
   ]
  },
  {
   "cell_type": "code",
   "execution_count": 77,
   "metadata": {
    "collapsed": false
   },
   "outputs": [
    {
     "data": {
      "text/plain": [
       "<matplotlib.text.Text at 0x11f214b10>"
      ]
     },
     "execution_count": 77,
     "metadata": {},
     "output_type": "execute_result"
    },
    {
     "data": {
      "image/png": "[encoded data removed]",
      "text/plain": [
       "<matplotlib.figure.Figure at 0x11d9b5950>"
      ]
     },
     "metadata": {},
     "output_type": "display_data"
    }
   ],
   "source": [
    "animaloutcomes_df[\"Animal Type\"].value_counts(normalize=True).plot(kind='bar', figsize=(10,5))\n",
    "plt.xlabel('Animal Type')\n",
    "plt.ylabel('Fraction')\n",
    "plt.title('Distribution of Animal Outcomes \\n Austin Animal Center \\n Austin, TX USA', fontsize=15)"
   ]
  },
  {
   "cell_type": "markdown",
   "metadata": {},
   "source": [
    "### Outcome Type Distribution"
   ]
  },
  {
   "cell_type": "code",
   "execution_count": 78,
   "metadata": {
    "collapsed": false
   },
   "outputs": [
    {
     "data": {
      "text/plain": [
       "Adoption           20940\n",
       "Transfer           16310\n",
       "Return to Owner     9513\n",
       "Euthanasia          4534\n",
       "Died                 441\n",
       "Disposal             197\n",
       "Missing               32\n",
       "Relocate              12\n",
       "Name: Outcome Type, dtype: int64"
      ]
     },
     "execution_count": 78,
     "metadata": {},
     "output_type": "execute_result"
    }
   ],
   "source": [
    "animaloutcomes_df[\"Outcome Type\"].value_counts()"
   ]
  },
  {
   "cell_type": "code",
   "execution_count": 79,
   "metadata": {
    "collapsed": false
   },
   "outputs": [
    {
     "data": {
      "text/plain": [
       "<matplotlib.text.Text at 0x121248d90>"
      ]
     },
     "execution_count": 79,
     "metadata": {},
     "output_type": "execute_result"
    },
    {
     "data": {
      "image/png": "[encoded data removed]",
      "text/plain": [
       "<matplotlib.figure.Figure at 0x121131410>"
      ]
     },
     "metadata": {},
     "output_type": "display_data"
    }
   ],
   "source": [
    "animaloutcomes_df[\"Outcome Type\"].value_counts(normalize=True).plot(kind='bar', figsize=(10, 5))\n",
    "plt.xlabel('Outcome Type')\n",
    "plt.ylabel('Fraction')\n",
    "plt.title('Outcome Type Distribution of Animals \\n Austin Animal Center', fontsize=15)"
   ]
  },
  {
   "cell_type": "markdown",
   "metadata": {},
   "source": [
    "### Which is adopted more, cats or dogs?"
   ]
  },
  {
   "cell_type": "code",
   "execution_count": 80,
   "metadata": {
    "collapsed": false
   },
   "outputs": [
    {
     "name": "stdout",
     "output_type": "stream",
     "text": [
      "20940\n",
      "  Animal ID     Name                DateTime               MonthYear  \\\n",
      "0   A659834  *Dudley  10/01/2013 09:31:00 AM  10/01/2013 09:31:00 AM   \n",
      "7   A663572  *Starla  10/01/2013 11:42:00 AM  10/01/2013 11:42:00 AM   \n",
      "\n",
      "  Date of Birth Outcome Type Outcome Subtype Animal Type Sex upon Outcome  \\\n",
      "0    07/23/2013     Adoption          Foster         Dog    Neutered Male   \n",
      "7    09/21/2010     Adoption             NaN         Dog    Spayed Female   \n",
      "\n",
      "  Age upon Outcome                   Breed        Color  \n",
      "0         2 months  Labrador Retriever Mix        Black  \n",
      "7          3 years     Anatol Shepherd Mix  White/Brown  \n"
     ]
    }
   ],
   "source": [
    "adoption = animaloutcomes_df[animaloutcomes_df['Outcome Type'] == 'Adoption']\n",
    "print len(adoption)\n",
    "print adoption.head(2)"
   ]
  },
  {
   "cell_type": "code",
   "execution_count": 83,
   "metadata": {
    "collapsed": false
   },
   "outputs": [
    {
     "data": {
      "text/plain": [
       "<matplotlib.text.Text at 0x11d872a90>"
      ]
     },
     "execution_count": 83,
     "metadata": {},
     "output_type": "execute_result"
    },
    {
     "data": {
      "image/png": "[encoded data removed]",
      "text/plain": [
       "<matplotlib.figure.Figure at 0x11bc0d490>"
      ]
     },
     "metadata": {},
     "output_type": "display_data"
    }
   ],
   "source": [
    "adoption[\"Animal Type\"].value_counts(normalize=True).plot(kind='bar', figsize=(10,5))\n",
    "plt.title(\"Animals Adopted from Austin Animal Center\", fontsize=15)\n",
    "plt.xlabel(\"Animal\")\n",
    "plt.ylabel(\"Fraction\")"
   ]
  },
  {
   "cell_type": "code",
   "execution_count": 84,
   "metadata": {
    "collapsed": true
   },
   "outputs": [],
   "source": [
    "# There are more dogs to begin with anyway"
   ]
  },
  {
   "cell_type": "markdown",
   "metadata": {
    "collapsed": true
   },
   "source": [
    "### Looking at Duplicate Dog Adoptions"
   ]
  },
  {
   "cell_type": "code",
   "execution_count": 107,
   "metadata": {
    "collapsed": false
   },
   "outputs": [
    {
     "data": {
      "text/html": [
       "<div>\n",
       "<table border=\"1\" class=\"dataframe\">\n",
       "  <thead>\n",
       "    <tr style=\"text-align: right;\">\n",
       "      <th></th>\n",
       "      <th>Animal ID</th>\n",
       "      <th>Name</th>\n",
       "      <th>DateTime</th>\n",
       "      <th>MonthYear</th>\n",
       "      <th>Date of Birth</th>\n",
       "      <th>Outcome Type</th>\n",
       "      <th>Outcome Subtype</th>\n",
       "      <th>Animal Type</th>\n",
       "      <th>Sex upon Outcome</th>\n",
       "      <th>Age upon Outcome</th>\n",
       "      <th>Breed</th>\n",
       "      <th>Color</th>\n",
       "    </tr>\n",
       "  </thead>\n",
       "  <tbody>\n",
       "    <tr>\n",
       "      <th>0</th>\n",
       "      <td>A659834</td>\n",
       "      <td>*Dudley</td>\n",
       "      <td>10/01/2013 09:31:00 AM</td>\n",
       "      <td>10/01/2013 09:31:00 AM</td>\n",
       "      <td>07/23/2013</td>\n",
       "      <td>Adoption</td>\n",
       "      <td>Foster</td>\n",
       "      <td>Dog</td>\n",
       "      <td>Neutered Male</td>\n",
       "      <td>2 months</td>\n",
       "      <td>Labrador Retriever Mix</td>\n",
       "      <td>Black</td>\n",
       "    </tr>\n",
       "    <tr>\n",
       "      <th>4</th>\n",
       "      <td>A664223</td>\n",
       "      <td>Moby</td>\n",
       "      <td>10/01/2013 11:03:00 AM</td>\n",
       "      <td>10/01/2013 11:03:00 AM</td>\n",
       "      <td>09/30/2009</td>\n",
       "      <td>Return to Owner</td>\n",
       "      <td>NaN</td>\n",
       "      <td>Dog</td>\n",
       "      <td>Neutered Male</td>\n",
       "      <td>4 years</td>\n",
       "      <td>Bulldog Mix</td>\n",
       "      <td>White</td>\n",
       "    </tr>\n",
       "    <tr>\n",
       "      <th>5</th>\n",
       "      <td>A663646</td>\n",
       "      <td>NaN</td>\n",
       "      <td>10/01/2013 11:12:00 AM</td>\n",
       "      <td>10/01/2013 11:12:00 AM</td>\n",
       "      <td>09/22/2010</td>\n",
       "      <td>Transfer</td>\n",
       "      <td>Partner</td>\n",
       "      <td>Dog</td>\n",
       "      <td>Neutered Male</td>\n",
       "      <td>3 years</td>\n",
       "      <td>Toy Poodle Mix</td>\n",
       "      <td>White</td>\n",
       "    </tr>\n",
       "    <tr>\n",
       "      <th>6</th>\n",
       "      <td>A663888</td>\n",
       "      <td>NaN</td>\n",
       "      <td>10/01/2013 11:13:00 AM</td>\n",
       "      <td>10/01/2013 11:13:00 AM</td>\n",
       "      <td>09/25/2011</td>\n",
       "      <td>Transfer</td>\n",
       "      <td>Partner</td>\n",
       "      <td>Dog</td>\n",
       "      <td>Spayed Female</td>\n",
       "      <td>2 years</td>\n",
       "      <td>Boxer Mix</td>\n",
       "      <td>Red/White</td>\n",
       "    </tr>\n",
       "    <tr>\n",
       "      <th>7</th>\n",
       "      <td>A663572</td>\n",
       "      <td>*Starla</td>\n",
       "      <td>10/01/2013 11:42:00 AM</td>\n",
       "      <td>10/01/2013 11:42:00 AM</td>\n",
       "      <td>09/21/2010</td>\n",
       "      <td>Adoption</td>\n",
       "      <td>NaN</td>\n",
       "      <td>Dog</td>\n",
       "      <td>Spayed Female</td>\n",
       "      <td>3 years</td>\n",
       "      <td>Anatol Shepherd Mix</td>\n",
       "      <td>White/Brown</td>\n",
       "    </tr>\n",
       "  </tbody>\n",
       "</table>\n",
       "</div>"
      ],
      "text/plain": [
       "  Animal ID     Name                DateTime               MonthYear  \\\n",
       "0   A659834  *Dudley  10/01/2013 09:31:00 AM  10/01/2013 09:31:00 AM   \n",
       "4   A664223     Moby  10/01/2013 11:03:00 AM  10/01/2013 11:03:00 AM   \n",
       "5   A663646      NaN  10/01/2013 11:12:00 AM  10/01/2013 11:12:00 AM   \n",
       "6   A663888      NaN  10/01/2013 11:13:00 AM  10/01/2013 11:13:00 AM   \n",
       "7   A663572  *Starla  10/01/2013 11:42:00 AM  10/01/2013 11:42:00 AM   \n",
       "\n",
       "  Date of Birth     Outcome Type Outcome Subtype Animal Type Sex upon Outcome  \\\n",
       "0    07/23/2013         Adoption          Foster         Dog    Neutered Male   \n",
       "4    09/30/2009  Return to Owner             NaN         Dog    Neutered Male   \n",
       "5    09/22/2010         Transfer         Partner         Dog    Neutered Male   \n",
       "6    09/25/2011         Transfer         Partner         Dog    Spayed Female   \n",
       "7    09/21/2010         Adoption             NaN         Dog    Spayed Female   \n",
       "\n",
       "  Age upon Outcome                   Breed        Color  \n",
       "0         2 months  Labrador Retriever Mix        Black  \n",
       "4          4 years             Bulldog Mix        White  \n",
       "5          3 years          Toy Poodle Mix        White  \n",
       "6          2 years               Boxer Mix    Red/White  \n",
       "7          3 years     Anatol Shepherd Mix  White/Brown  "
      ]
     },
     "execution_count": 107,
     "metadata": {},
     "output_type": "execute_result"
    }
   ],
   "source": [
    "dog_outcomes.head()"
   ]
  },
  {
   "cell_type": "code",
   "execution_count": 108,
   "metadata": {
    "collapsed": false
   },
   "outputs": [
    {
     "data": {
      "text/plain": [
       "A706536    10\n",
       "A694501     8\n",
       "A683108     7\n",
       "A671704     7\n",
       "A593537     6\n",
       "A695857     6\n",
       "A616444     6\n",
       "A688610     6\n",
       "A701901     6\n",
       "A593109     5\n",
       "A700121     5\n",
       "A681167     5\n",
       "A613676     5\n",
       "A623219     5\n",
       "A689279     5\n",
       "A668183     5\n",
       "A664228     5\n",
       "A700396     5\n",
       "A669782     5\n",
       "A670612     5\n",
       "A691218     5\n",
       "A712510     5\n",
       "A707114     5\n",
       "A698638     5\n",
       "A701879     5\n",
       "A663819     5\n",
       "A703649     5\n",
       "A719117     5\n",
       "A623561     5\n",
       "A621164     5\n",
       "           ..\n",
       "A717975     1\n",
       "A694124     1\n",
       "A284639     1\n",
       "A726790     1\n",
       "A718622     1\n",
       "A701916     1\n",
       "A715537     1\n",
       "A710720     1\n",
       "A730398     1\n",
       "A710723     1\n",
       "A699080     1\n",
       "A695695     1\n",
       "A729680     1\n",
       "A729681     1\n",
       "A729683     1\n",
       "A729685     1\n",
       "A729686     1\n",
       "A676056     1\n",
       "A676057     1\n",
       "A676054     1\n",
       "A676052     1\n",
       "A676051     1\n",
       "A695753     1\n",
       "A727772     1\n",
       "A722305     1\n",
       "A722307     1\n",
       "A722300     1\n",
       "A680183     1\n",
       "A641632     1\n",
       "A725894     1\n",
       "Name: Animal ID, dtype: int64"
      ]
     },
     "execution_count": 108,
     "metadata": {},
     "output_type": "execute_result"
    }
   ],
   "source": [
    "dog_outcomes[\"Animal ID\"].value_counts()"
   ]
  },
  {
   "cell_type": "code",
   "execution_count": 109,
   "metadata": {
    "collapsed": false
   },
   "outputs": [
    {
     "data": {
      "text/html": [
       "<div>\n",
       "<table border=\"1\" class=\"dataframe\">\n",
       "  <thead>\n",
       "    <tr style=\"text-align: right;\">\n",
       "      <th></th>\n",
       "      <th>Animal ID</th>\n",
       "      <th>Name</th>\n",
       "      <th>DateTime</th>\n",
       "      <th>MonthYear</th>\n",
       "      <th>Date of Birth</th>\n",
       "      <th>Outcome Type</th>\n",
       "      <th>Outcome Subtype</th>\n",
       "      <th>Animal Type</th>\n",
       "      <th>Sex upon Outcome</th>\n",
       "      <th>Age upon Outcome</th>\n",
       "      <th>Breed</th>\n",
       "      <th>Color</th>\n",
       "    </tr>\n",
       "  </thead>\n",
       "  <tbody>\n",
       "    <tr>\n",
       "      <th>32182</th>\n",
       "      <td>A706536</td>\n",
       "      <td>Butch</td>\n",
       "      <td>07/03/2015 12:49:00 PM</td>\n",
       "      <td>07/03/2015 12:49:00 PM</td>\n",
       "      <td>06/30/2010</td>\n",
       "      <td>Return to Owner</td>\n",
       "      <td>NaN</td>\n",
       "      <td>Dog</td>\n",
       "      <td>Neutered Male</td>\n",
       "      <td>5 years</td>\n",
       "      <td>English Bulldog</td>\n",
       "      <td>Tan/White</td>\n",
       "    </tr>\n",
       "    <tr>\n",
       "      <th>33259</th>\n",
       "      <td>A706536</td>\n",
       "      <td>Butch</td>\n",
       "      <td>07/20/2015 12:50:00 PM</td>\n",
       "      <td>07/20/2015 12:50:00 PM</td>\n",
       "      <td>06/30/2010</td>\n",
       "      <td>Return to Owner</td>\n",
       "      <td>NaN</td>\n",
       "      <td>Dog</td>\n",
       "      <td>Neutered Male</td>\n",
       "      <td>5 years</td>\n",
       "      <td>English Bulldog</td>\n",
       "      <td>Tan/White</td>\n",
       "    </tr>\n",
       "    <tr>\n",
       "      <th>33830</th>\n",
       "      <td>A706536</td>\n",
       "      <td>Butch</td>\n",
       "      <td>07/30/2015 04:27:00 PM</td>\n",
       "      <td>07/30/2015 04:27:00 PM</td>\n",
       "      <td>06/30/2010</td>\n",
       "      <td>Return to Owner</td>\n",
       "      <td>NaN</td>\n",
       "      <td>Dog</td>\n",
       "      <td>Neutered Male</td>\n",
       "      <td>5 years</td>\n",
       "      <td>English Bulldog</td>\n",
       "      <td>Tan/White</td>\n",
       "    </tr>\n",
       "    <tr>\n",
       "      <th>38634</th>\n",
       "      <td>A706536</td>\n",
       "      <td>Butch</td>\n",
       "      <td>10/28/2015 11:34:00 AM</td>\n",
       "      <td>10/28/2015 11:34:00 AM</td>\n",
       "      <td>06/30/2010</td>\n",
       "      <td>Return to Owner</td>\n",
       "      <td>NaN</td>\n",
       "      <td>Dog</td>\n",
       "      <td>Neutered Male</td>\n",
       "      <td>5 years</td>\n",
       "      <td>English Bulldog</td>\n",
       "      <td>Tan/White</td>\n",
       "    </tr>\n",
       "    <tr>\n",
       "      <th>41445</th>\n",
       "      <td>A706536</td>\n",
       "      <td>Butch</td>\n",
       "      <td>12/26/2015 01:41:00 PM</td>\n",
       "      <td>12/26/2015 01:41:00 PM</td>\n",
       "      <td>06/30/2010</td>\n",
       "      <td>Return to Owner</td>\n",
       "      <td>NaN</td>\n",
       "      <td>Dog</td>\n",
       "      <td>Neutered Male</td>\n",
       "      <td>5 years</td>\n",
       "      <td>English Bulldog</td>\n",
       "      <td>Tan/White</td>\n",
       "    </tr>\n",
       "    <tr>\n",
       "      <th>42159</th>\n",
       "      <td>A706536</td>\n",
       "      <td>Butch</td>\n",
       "      <td>01/11/2016 12:46:00 PM</td>\n",
       "      <td>01/11/2016 12:46:00 PM</td>\n",
       "      <td>06/30/2010</td>\n",
       "      <td>Return to Owner</td>\n",
       "      <td>NaN</td>\n",
       "      <td>Dog</td>\n",
       "      <td>Neutered Male</td>\n",
       "      <td>5 years</td>\n",
       "      <td>English Bulldog</td>\n",
       "      <td>Tan/White</td>\n",
       "    </tr>\n",
       "    <tr>\n",
       "      <th>43733</th>\n",
       "      <td>A706536</td>\n",
       "      <td>Butch</td>\n",
       "      <td>02/19/2016 07:15:00 PM</td>\n",
       "      <td>02/19/2016 07:15:00 PM</td>\n",
       "      <td>06/30/2010</td>\n",
       "      <td>Return to Owner</td>\n",
       "      <td>NaN</td>\n",
       "      <td>Dog</td>\n",
       "      <td>Neutered Male</td>\n",
       "      <td>5 years</td>\n",
       "      <td>English Bulldog</td>\n",
       "      <td>Tan/White</td>\n",
       "    </tr>\n",
       "    <tr>\n",
       "      <th>43833</th>\n",
       "      <td>A706536</td>\n",
       "      <td>Butch</td>\n",
       "      <td>02/22/2016 10:49:00 AM</td>\n",
       "      <td>02/22/2016 10:49:00 AM</td>\n",
       "      <td>06/30/2010</td>\n",
       "      <td>Return to Owner</td>\n",
       "      <td>NaN</td>\n",
       "      <td>Dog</td>\n",
       "      <td>Neutered Male</td>\n",
       "      <td>5 years</td>\n",
       "      <td>English Bulldog</td>\n",
       "      <td>Tan/White</td>\n",
       "    </tr>\n",
       "    <tr>\n",
       "      <th>44949</th>\n",
       "      <td>A706536</td>\n",
       "      <td>Butch</td>\n",
       "      <td>03/18/2016 07:32:00 PM</td>\n",
       "      <td>03/18/2016 07:32:00 PM</td>\n",
       "      <td>06/30/2010</td>\n",
       "      <td>Return to Owner</td>\n",
       "      <td>NaN</td>\n",
       "      <td>Dog</td>\n",
       "      <td>Neutered Male</td>\n",
       "      <td>5 years</td>\n",
       "      <td>English Bulldog</td>\n",
       "      <td>Tan/White</td>\n",
       "    </tr>\n",
       "    <tr>\n",
       "      <th>45477</th>\n",
       "      <td>A706536</td>\n",
       "      <td>Butch</td>\n",
       "      <td>03/29/2016 02:23:00 PM</td>\n",
       "      <td>03/29/2016 02:23:00 PM</td>\n",
       "      <td>06/30/2010</td>\n",
       "      <td>Return to Owner</td>\n",
       "      <td>NaN</td>\n",
       "      <td>Dog</td>\n",
       "      <td>Neutered Male</td>\n",
       "      <td>5 years</td>\n",
       "      <td>English Bulldog</td>\n",
       "      <td>Tan/White</td>\n",
       "    </tr>\n",
       "  </tbody>\n",
       "</table>\n",
       "</div>"
      ],
      "text/plain": [
       "      Animal ID   Name                DateTime               MonthYear  \\\n",
       "32182   A706536  Butch  07/03/2015 12:49:00 PM  07/03/2015 12:49:00 PM   \n",
       "33259   A706536  Butch  07/20/2015 12:50:00 PM  07/20/2015 12:50:00 PM   \n",
       "33830   A706536  Butch  07/30/2015 04:27:00 PM  07/30/2015 04:27:00 PM   \n",
       "38634   A706536  Butch  10/28/2015 11:34:00 AM  10/28/2015 11:34:00 AM   \n",
       "41445   A706536  Butch  12/26/2015 01:41:00 PM  12/26/2015 01:41:00 PM   \n",
       "42159   A706536  Butch  01/11/2016 12:46:00 PM  01/11/2016 12:46:00 PM   \n",
       "43733   A706536  Butch  02/19/2016 07:15:00 PM  02/19/2016 07:15:00 PM   \n",
       "43833   A706536  Butch  02/22/2016 10:49:00 AM  02/22/2016 10:49:00 AM   \n",
       "44949   A706536  Butch  03/18/2016 07:32:00 PM  03/18/2016 07:32:00 PM   \n",
       "45477   A706536  Butch  03/29/2016 02:23:00 PM  03/29/2016 02:23:00 PM   \n",
       "\n",
       "      Date of Birth     Outcome Type Outcome Subtype Animal Type  \\\n",
       "32182    06/30/2010  Return to Owner             NaN         Dog   \n",
       "33259    06/30/2010  Return to Owner             NaN         Dog   \n",
       "33830    06/30/2010  Return to Owner             NaN         Dog   \n",
       "38634    06/30/2010  Return to Owner             NaN         Dog   \n",
       "41445    06/30/2010  Return to Owner             NaN         Dog   \n",
       "42159    06/30/2010  Return to Owner             NaN         Dog   \n",
       "43733    06/30/2010  Return to Owner             NaN         Dog   \n",
       "43833    06/30/2010  Return to Owner             NaN         Dog   \n",
       "44949    06/30/2010  Return to Owner             NaN         Dog   \n",
       "45477    06/30/2010  Return to Owner             NaN         Dog   \n",
       "\n",
       "      Sex upon Outcome Age upon Outcome            Breed      Color  \n",
       "32182    Neutered Male          5 years  English Bulldog  Tan/White  \n",
       "33259    Neutered Male          5 years  English Bulldog  Tan/White  \n",
       "33830    Neutered Male          5 years  English Bulldog  Tan/White  \n",
       "38634    Neutered Male          5 years  English Bulldog  Tan/White  \n",
       "41445    Neutered Male          5 years  English Bulldog  Tan/White  \n",
       "42159    Neutered Male          5 years  English Bulldog  Tan/White  \n",
       "43733    Neutered Male          5 years  English Bulldog  Tan/White  \n",
       "43833    Neutered Male          5 years  English Bulldog  Tan/White  \n",
       "44949    Neutered Male          5 years  English Bulldog  Tan/White  \n",
       "45477    Neutered Male          5 years  English Bulldog  Tan/White  "
      ]
     },
     "execution_count": 109,
     "metadata": {},
     "output_type": "execute_result"
    }
   ],
   "source": [
    "dog_outcomes[dog_outcomes[\"Animal ID\"] == 'A706536']"
   ]
  },
  {
   "cell_type": "code",
   "execution_count": null,
   "metadata": {
    "collapsed": true
   },
   "outputs": [],
   "source": []
  },
  {
   "cell_type": "code",
   "execution_count": null,
   "metadata": {
    "collapsed": true
   },
   "outputs": [],
   "source": []
  },
  {
   "cell_type": "code",
   "execution_count": null,
   "metadata": {
    "collapsed": true
   },
   "outputs": [],
   "source": []
  },
  {
   "cell_type": "code",
   "execution_count": null,
   "metadata": {
    "collapsed": true
   },
   "outputs": [],
   "source": []
  },
  {
   "cell_type": "markdown",
   "metadata": {},
   "source": [
    "### Among dogs adopted, what is the most predominant breed?"
   ]
  },
  {
   "cell_type": "code",
   "execution_count": 85,
   "metadata": {
    "collapsed": true
   },
   "outputs": [],
   "source": [
    "dogs_adoption = dog_outcomes[dog_outcomes[\"Outcome Type\"] == \"Adoption\"]"
   ]
  },
  {
   "cell_type": "code",
   "execution_count": 86,
   "metadata": {
    "collapsed": false
   },
   "outputs": [
    {
     "data": {
      "text/plain": [
       "12966"
      ]
     },
     "execution_count": 86,
     "metadata": {},
     "output_type": "execute_result"
    }
   ],
   "source": [
    "len(dogs_adoption)"
   ]
  },
  {
   "cell_type": "code",
   "execution_count": 87,
   "metadata": {
    "collapsed": false
   },
   "outputs": [
    {
     "data": {
      "text/plain": [
       "<matplotlib.text.Text at 0x11d87e690>"
      ]
     },
     "execution_count": 87,
     "metadata": {},
     "output_type": "execute_result"
    },
    {
     "data": {
      "image/png": "[encoded data removed]",
      "text/plain": [
       "<matplotlib.figure.Figure at 0x11e4bf150>"
      ]
     },
     "metadata": {},
     "output_type": "display_data"
    }
   ],
   "source": [
    "dogs_adoption.Breed.value_counts(normalize=True).head(10).plot(kind='bar', figsize=(10, 5))\n",
    "plt.title('Top 10 Breeds Adopted From Austin Animal Center', fontsize=15)\n",
    "plt.ylabel('Fraction')\n",
    "plt.xlabel('Breed')"
   ]
  },
  {
   "cell_type": "code",
   "execution_count": 88,
   "metadata": {
    "collapsed": false
   },
   "outputs": [
    {
     "data": {
      "text/plain": [
       "<matplotlib.text.Text at 0x11db58510>"
      ]
     },
     "execution_count": 88,
     "metadata": {},
     "output_type": "execute_result"
    },
    {
     "data": {
      "image/png": "[encoded data removed]",
      "text/plain": [
       "<matplotlib.figure.Figure at 0x11a521650>"
      ]
     },
     "metadata": {},
     "output_type": "display_data"
    }
   ],
   "source": [
    "dogs_adoption.Breed.value_counts().head(10).plot(kind='bar', figsize=(10, 5))\n",
    "plt.title('Top 10 Breeds Adopted From the Austin, TX Animal Center', fontsize=15)\n",
    "plt.ylabel('Count')\n",
    "plt.xlabel('Breed')"
   ]
  },
  {
   "cell_type": "markdown",
   "metadata": {},
   "source": [
    "### Predominant Dog Breeds Returned to Owner"
   ]
  },
  {
   "cell_type": "code",
   "execution_count": 90,
   "metadata": {
    "collapsed": true
   },
   "outputs": [],
   "source": [
    "returntoowner = dog_outcomes[dog_outcome[\"Outcome Type\"] == \"Return to Owner\"]"
   ]
  },
  {
   "cell_type": "code",
   "execution_count": 91,
   "metadata": {
    "collapsed": false
   },
   "outputs": [
    {
     "data": {
      "text/plain": [
       "<matplotlib.text.Text at 0x120fe6c90>"
      ]
     },
     "execution_count": 91,
     "metadata": {},
     "output_type": "execute_result"
    },
    {
     "data": {
      "image/png": "[encoded data removed]",
      "text/plain": [
       "<matplotlib.figure.Figure at 0x12108d750>"
      ]
     },
     "metadata": {},
     "output_type": "display_data"
    }
   ],
   "source": [
    "returntoowner.Breed.value_counts(normalize=True).head(10).plot(kind='bar', figsize=(10, 5))\n",
    "plt.title('Top 10 Dog Breeds Returned to Owner from the Austin Animal Center', fontsize=15)\n",
    "plt.ylabel('Fraction')\n",
    "plt.xlabel('Breed')"
   ]
  },
  {
   "cell_type": "code",
   "execution_count": 92,
   "metadata": {
    "collapsed": false
   },
   "outputs": [
    {
     "data": {
      "text/plain": [
       "8580"
      ]
     },
     "execution_count": 92,
     "metadata": {},
     "output_type": "execute_result"
    }
   ],
   "source": [
    "len(returntoowner)"
   ]
  },
  {
   "cell_type": "markdown",
   "metadata": {
    "collapsed": true
   },
   "source": [
    "## Merging the intakes and outcomes"
   ]
  },
  {
   "cell_type": "code",
   "execution_count": 93,
   "metadata": {
    "collapsed": false
   },
   "outputs": [],
   "source": [
    "intake_outcome1 = animaloutcomes_df.merge(animalintake_df, on=\"Animal ID\", how='inner')"
   ]
  },
  {
   "cell_type": "code",
   "execution_count": 94,
   "metadata": {
    "collapsed": false
   },
   "outputs": [
    {
     "data": {
      "text/plain": [
       "61361"
      ]
     },
     "execution_count": 94,
     "metadata": {},
     "output_type": "execute_result"
    }
   ],
   "source": [
    "len(intake_outcome1)"
   ]
  },
  {
   "cell_type": "code",
   "execution_count": 95,
   "metadata": {
    "collapsed": false
   },
   "outputs": [
    {
     "data": {
      "text/plain": [
       "51998"
      ]
     },
     "execution_count": 95,
     "metadata": {},
     "output_type": "execute_result"
    }
   ],
   "source": [
    "len(animaloutcomes_df)"
   ]
  },
  {
   "cell_type": "code",
   "execution_count": 98,
   "metadata": {
    "collapsed": false
   },
   "outputs": [
    {
     "data": {
      "text/plain": [
       "52052"
      ]
     },
     "execution_count": 98,
     "metadata": {},
     "output_type": "execute_result"
    }
   ],
   "source": [
    "len(animalintakes_df)"
   ]
  },
  {
   "cell_type": "code",
   "execution_count": 99,
   "metadata": {
    "collapsed": false
   },
   "outputs": [
    {
     "data": {
      "text/plain": [
       "61340"
      ]
     },
     "execution_count": 99,
     "metadata": {},
     "output_type": "execute_result"
    }
   ],
   "source": [
    "len(intake_outcome1.drop_duplicates())"
   ]
  },
  {
   "cell_type": "code",
   "execution_count": 100,
   "metadata": {
    "collapsed": true
   },
   "outputs": [],
   "source": [
    "intake_outcome2 = animaloutcomes_df.merge(animalintake_df, on=\"Animal ID\", how='outer')"
   ]
  },
  {
   "cell_type": "code",
   "execution_count": 101,
   "metadata": {
    "collapsed": false
   },
   "outputs": [
    {
     "data": {
      "text/plain": [
       "63077"
      ]
     },
     "execution_count": 101,
     "metadata": {},
     "output_type": "execute_result"
    }
   ],
   "source": [
    "len(intake_outcome2)"
   ]
  },
  {
   "cell_type": "code",
   "execution_count": 102,
   "metadata": {
    "collapsed": true
   },
   "outputs": [],
   "source": [
    "intake_outcome3 = animaloutcomes_df.merge(animalintake_df, on=\"Animal ID\", how='left')"
   ]
  },
  {
   "cell_type": "code",
   "execution_count": 103,
   "metadata": {
    "collapsed": false
   },
   "outputs": [
    {
     "data": {
      "text/plain": [
       "62190"
      ]
     },
     "execution_count": 103,
     "metadata": {},
     "output_type": "execute_result"
    }
   ],
   "source": [
    "len(intake_outcome3)"
   ]
  },
  {
   "cell_type": "code",
   "execution_count": 104,
   "metadata": {
    "collapsed": true
   },
   "outputs": [],
   "source": [
    "intake_outcome4 = animaloutcomes_df.merge(animalintake_df, on=\"Animal ID\", how='right')"
   ]
  },
  {
   "cell_type": "code",
   "execution_count": 105,
   "metadata": {
    "collapsed": false
   },
   "outputs": [
    {
     "data": {
      "text/plain": [
       "62248"
      ]
     },
     "execution_count": 105,
     "metadata": {},
     "output_type": "execute_result"
    }
   ],
   "source": [
    "len(intake_outcome4)"
   ]
  },
  {
   "cell_type": "code",
   "execution_count": 106,
   "metadata": {
    "collapsed": false
   },
   "outputs": [
    {
     "data": {
      "text/plain": [
       "A706536    100\n",
       "A694501     64\n",
       "A671704     49\n",
       "A683108     49\n",
       "A593537     36\n",
       "Name: Animal ID, dtype: int64"
      ]
     },
     "execution_count": 106,
     "metadata": {},
     "output_type": "execute_result"
    }
   ],
   "source": [
    "intake_outcome1[\"Animal ID\"].value_counts().head()"
   ]
  },
  {
   "cell_type": "code",
   "execution_count": 110,
   "metadata": {
    "collapsed": true
   },
   "outputs": [],
   "source": [
    "# How come Butch appears 100x?"
   ]
  },
  {
   "cell_type": "code",
   "execution_count": 113,
   "metadata": {
    "collapsed": false
   },
   "outputs": [],
   "source": [
    "butch = intake_outcome1[intake_outcome1[\"Animal ID\"] == 'A706536']"
   ]
  },
  {
   "cell_type": "code",
   "execution_count": 114,
   "metadata": {
    "collapsed": false
   },
   "outputs": [
    {
     "data": {
      "text/html": [
       "<div>\n",
       "<table border=\"1\" class=\"dataframe\">\n",
       "  <thead>\n",
       "    <tr style=\"text-align: right;\">\n",
       "      <th></th>\n",
       "      <th>Animal ID</th>\n",
       "      <th>Name_x</th>\n",
       "      <th>DateTime_x</th>\n",
       "      <th>MonthYear_x</th>\n",
       "      <th>Date of Birth</th>\n",
       "      <th>Outcome Type</th>\n",
       "      <th>Outcome Subtype</th>\n",
       "      <th>Animal Type_x</th>\n",
       "      <th>Sex upon Outcome</th>\n",
       "      <th>Age upon Outcome</th>\n",
       "      <th>...</th>\n",
       "      <th>DateTime_y</th>\n",
       "      <th>MonthYear_y</th>\n",
       "      <th>Found Location</th>\n",
       "      <th>Intake Type</th>\n",
       "      <th>Intake Condition</th>\n",
       "      <th>Animal Type_y</th>\n",
       "      <th>Sex upon Intake</th>\n",
       "      <th>Age upon Intake</th>\n",
       "      <th>Breed_y</th>\n",
       "      <th>Color_y</th>\n",
       "    </tr>\n",
       "  </thead>\n",
       "  <tbody>\n",
       "    <tr>\n",
       "      <th>39861</th>\n",
       "      <td>A706536</td>\n",
       "      <td>Butch</td>\n",
       "      <td>07/03/2015 12:49:00 PM</td>\n",
       "      <td>07/03/2015 12:49:00 PM</td>\n",
       "      <td>06/30/2010</td>\n",
       "      <td>Return to Owner</td>\n",
       "      <td>NaN</td>\n",
       "      <td>Dog</td>\n",
       "      <td>Neutered Male</td>\n",
       "      <td>5 years</td>\n",
       "      <td>...</td>\n",
       "      <td>06/30/2015 10:55:00 AM</td>\n",
       "      <td>06/30/2015 10:55:00 AM</td>\n",
       "      <td>2820 S Lamar in Austin (TX)</td>\n",
       "      <td>Public Assist</td>\n",
       "      <td>Normal</td>\n",
       "      <td>Dog</td>\n",
       "      <td>Neutered Male</td>\n",
       "      <td>5 years</td>\n",
       "      <td>English Bulldog</td>\n",
       "      <td>Tan/White</td>\n",
       "    </tr>\n",
       "    <tr>\n",
       "      <th>39862</th>\n",
       "      <td>A706536</td>\n",
       "      <td>Butch</td>\n",
       "      <td>07/03/2015 12:49:00 PM</td>\n",
       "      <td>07/03/2015 12:49:00 PM</td>\n",
       "      <td>06/30/2010</td>\n",
       "      <td>Return to Owner</td>\n",
       "      <td>NaN</td>\n",
       "      <td>Dog</td>\n",
       "      <td>Neutered Male</td>\n",
       "      <td>5 years</td>\n",
       "      <td>...</td>\n",
       "      <td>07/20/2015 10:19:00 AM</td>\n",
       "      <td>07/20/2015 10:19:00 AM</td>\n",
       "      <td>5100 West Us Hwy 290 Svrd Wb in Austin (TX)</td>\n",
       "      <td>Public Assist</td>\n",
       "      <td>Normal</td>\n",
       "      <td>Dog</td>\n",
       "      <td>Neutered Male</td>\n",
       "      <td>5 years</td>\n",
       "      <td>English Bulldog</td>\n",
       "      <td>Tan/White</td>\n",
       "    </tr>\n",
       "    <tr>\n",
       "      <th>39863</th>\n",
       "      <td>A706536</td>\n",
       "      <td>Butch</td>\n",
       "      <td>07/03/2015 12:49:00 PM</td>\n",
       "      <td>07/03/2015 12:49:00 PM</td>\n",
       "      <td>06/30/2010</td>\n",
       "      <td>Return to Owner</td>\n",
       "      <td>NaN</td>\n",
       "      <td>Dog</td>\n",
       "      <td>Neutered Male</td>\n",
       "      <td>5 years</td>\n",
       "      <td>...</td>\n",
       "      <td>07/27/2015 04:02:00 PM</td>\n",
       "      <td>07/27/2015 04:02:00 PM</td>\n",
       "      <td>5100 West Ben White Blvd in Austin (TX)</td>\n",
       "      <td>Public Assist</td>\n",
       "      <td>Normal</td>\n",
       "      <td>Dog</td>\n",
       "      <td>Neutered Male</td>\n",
       "      <td>5 years</td>\n",
       "      <td>English Bulldog</td>\n",
       "      <td>Tan/White</td>\n",
       "    </tr>\n",
       "    <tr>\n",
       "      <th>39864</th>\n",
       "      <td>A706536</td>\n",
       "      <td>Butch</td>\n",
       "      <td>07/03/2015 12:49:00 PM</td>\n",
       "      <td>07/03/2015 12:49:00 PM</td>\n",
       "      <td>06/30/2010</td>\n",
       "      <td>Return to Owner</td>\n",
       "      <td>NaN</td>\n",
       "      <td>Dog</td>\n",
       "      <td>Neutered Male</td>\n",
       "      <td>5 years</td>\n",
       "      <td>...</td>\n",
       "      <td>10/21/2015 05:07:00 PM</td>\n",
       "      <td>10/21/2015 05:07:00 PM</td>\n",
       "      <td>Austin (TX)</td>\n",
       "      <td>Public Assist</td>\n",
       "      <td>Normal</td>\n",
       "      <td>Dog</td>\n",
       "      <td>Neutered Male</td>\n",
       "      <td>5 years</td>\n",
       "      <td>English Bulldog</td>\n",
       "      <td>Tan/White</td>\n",
       "    </tr>\n",
       "    <tr>\n",
       "      <th>39865</th>\n",
       "      <td>A706536</td>\n",
       "      <td>Butch</td>\n",
       "      <td>07/03/2015 12:49:00 PM</td>\n",
       "      <td>07/03/2015 12:49:00 PM</td>\n",
       "      <td>06/30/2010</td>\n",
       "      <td>Return to Owner</td>\n",
       "      <td>NaN</td>\n",
       "      <td>Dog</td>\n",
       "      <td>Neutered Male</td>\n",
       "      <td>5 years</td>\n",
       "      <td>...</td>\n",
       "      <td>12/20/2015 02:06:00 PM</td>\n",
       "      <td>12/20/2015 02:06:00 PM</td>\n",
       "      <td>5100 Us-290 in Austin (TX)</td>\n",
       "      <td>Public Assist</td>\n",
       "      <td>Normal</td>\n",
       "      <td>Dog</td>\n",
       "      <td>Neutered Male</td>\n",
       "      <td>5 years</td>\n",
       "      <td>English Bulldog</td>\n",
       "      <td>Tan/White</td>\n",
       "    </tr>\n",
       "  </tbody>\n",
       "</table>\n",
       "<p>5 rows × 23 columns</p>\n",
       "</div>"
      ],
      "text/plain": [
       "      Animal ID Name_x              DateTime_x             MonthYear_x  \\\n",
       "39861   A706536  Butch  07/03/2015 12:49:00 PM  07/03/2015 12:49:00 PM   \n",
       "39862   A706536  Butch  07/03/2015 12:49:00 PM  07/03/2015 12:49:00 PM   \n",
       "39863   A706536  Butch  07/03/2015 12:49:00 PM  07/03/2015 12:49:00 PM   \n",
       "39864   A706536  Butch  07/03/2015 12:49:00 PM  07/03/2015 12:49:00 PM   \n",
       "39865   A706536  Butch  07/03/2015 12:49:00 PM  07/03/2015 12:49:00 PM   \n",
       "\n",
       "      Date of Birth     Outcome Type Outcome Subtype Animal Type_x  \\\n",
       "39861    06/30/2010  Return to Owner             NaN           Dog   \n",
       "39862    06/30/2010  Return to Owner             NaN           Dog   \n",
       "39863    06/30/2010  Return to Owner             NaN           Dog   \n",
       "39864    06/30/2010  Return to Owner             NaN           Dog   \n",
       "39865    06/30/2010  Return to Owner             NaN           Dog   \n",
       "\n",
       "      Sex upon Outcome Age upon Outcome    ...                  DateTime_y  \\\n",
       "39861    Neutered Male          5 years    ...      06/30/2015 10:55:00 AM   \n",
       "39862    Neutered Male          5 years    ...      07/20/2015 10:19:00 AM   \n",
       "39863    Neutered Male          5 years    ...      07/27/2015 04:02:00 PM   \n",
       "39864    Neutered Male          5 years    ...      10/21/2015 05:07:00 PM   \n",
       "39865    Neutered Male          5 years    ...      12/20/2015 02:06:00 PM   \n",
       "\n",
       "                  MonthYear_y                               Found Location  \\\n",
       "39861  06/30/2015 10:55:00 AM                  2820 S Lamar in Austin (TX)   \n",
       "39862  07/20/2015 10:19:00 AM  5100 West Us Hwy 290 Svrd Wb in Austin (TX)   \n",
       "39863  07/27/2015 04:02:00 PM      5100 West Ben White Blvd in Austin (TX)   \n",
       "39864  10/21/2015 05:07:00 PM                                  Austin (TX)   \n",
       "39865  12/20/2015 02:06:00 PM                   5100 Us-290 in Austin (TX)   \n",
       "\n",
       "         Intake Type Intake Condition Animal Type_y Sex upon Intake  \\\n",
       "39861  Public Assist           Normal           Dog   Neutered Male   \n",
       "39862  Public Assist           Normal           Dog   Neutered Male   \n",
       "39863  Public Assist           Normal           Dog   Neutered Male   \n",
       "39864  Public Assist           Normal           Dog   Neutered Male   \n",
       "39865  Public Assist           Normal           Dog   Neutered Male   \n",
       "\n",
       "      Age upon Intake          Breed_y    Color_y  \n",
       "39861         5 years  English Bulldog  Tan/White  \n",
       "39862         5 years  English Bulldog  Tan/White  \n",
       "39863         5 years  English Bulldog  Tan/White  \n",
       "39864         5 years  English Bulldog  Tan/White  \n",
       "39865         5 years  English Bulldog  Tan/White  \n",
       "\n",
       "[5 rows x 23 columns]"
      ]
     },
     "execution_count": 114,
     "metadata": {},
     "output_type": "execute_result"
    }
   ],
   "source": [
    "butch.head()"
   ]
  },
  {
   "cell_type": "markdown",
   "metadata": {},
   "source": [
    "## How many unique Animal IDs are there in the merged DF?"
   ]
  },
  {
   "cell_type": "code",
   "execution_count": 116,
   "metadata": {
    "collapsed": false
   },
   "outputs": [
    {
     "data": {
      "text/plain": [
       "47025"
      ]
     },
     "execution_count": 116,
     "metadata": {},
     "output_type": "execute_result"
    }
   ],
   "source": [
    "len(intake_outcome1[\"Animal ID\"].unique())"
   ]
  },
  {
   "cell_type": "markdown",
   "metadata": {},
   "source": [
    "#### Finding out how many animals were taken in more than once:"
   ]
  },
  {
   "cell_type": "code",
   "execution_count": 117,
   "metadata": {
    "collapsed": false
   },
   "outputs": [
    {
     "data": {
      "text/plain": [
       "47912"
      ]
     },
     "execution_count": 117,
     "metadata": {},
     "output_type": "execute_result"
    }
   ],
   "source": [
    "len(animalintakes_df[\"Animal ID\"].unique())"
   ]
  },
  {
   "cell_type": "code",
   "execution_count": 119,
   "metadata": {
    "collapsed": false
   },
   "outputs": [
    {
     "data": {
      "text/plain": [
       "52052"
      ]
     },
     "execution_count": 119,
     "metadata": {},
     "output_type": "execute_result"
    }
   ],
   "source": [
    "len(animalintakes_df)"
   ]
  },
  {
   "cell_type": "code",
   "execution_count": 120,
   "metadata": {
    "collapsed": false
   },
   "outputs": [
    {
     "data": {
      "text/plain": [
       "4140"
      ]
     },
     "execution_count": 120,
     "metadata": {},
     "output_type": "execute_result"
    }
   ],
   "source": [
    "len(animalintakes_df) - len(animalintakes_df[\"Animal ID\"].unique())"
   ]
  },
  {
   "cell_type": "code",
   "execution_count": 122,
   "metadata": {
    "collapsed": true
   },
   "outputs": [],
   "source": [
    "# 4140 animals were taken in multiple times"
   ]
  },
  {
   "cell_type": "code",
   "execution_count": null,
   "metadata": {
    "collapsed": true
   },
   "outputs": [],
   "source": []
  },
  {
   "cell_type": "markdown",
   "metadata": {},
   "source": [
    "#### Finding out how many animals were adopted more than once:"
   ]
  },
  {
   "cell_type": "code",
   "execution_count": 118,
   "metadata": {
    "collapsed": false
   },
   "outputs": [
    {
     "data": {
      "text/plain": [
       "47854"
      ]
     },
     "execution_count": 118,
     "metadata": {},
     "output_type": "execute_result"
    }
   ],
   "source": [
    "len(animaloutcomes_df[\"Animal ID\"].unique())"
   ]
  },
  {
   "cell_type": "code",
   "execution_count": 123,
   "metadata": {
    "collapsed": false
   },
   "outputs": [
    {
     "data": {
      "text/plain": [
       "4144"
      ]
     },
     "execution_count": 123,
     "metadata": {},
     "output_type": "execute_result"
    }
   ],
   "source": [
    "len(animaloutcomes_df) - len(animaloutcomes_df[\"Animal ID\"].unique())"
   ]
  },
  {
   "cell_type": "code",
   "execution_count": null,
   "metadata": {
    "collapsed": true
   },
   "outputs": [],
   "source": []
  },
  {
   "cell_type": "markdown",
   "metadata": {},
   "source": [
    "#### The numbers are near. Animals were taken in and adopted multiple times. \n",
    "\n",
    "#### How many animals go in and out multiple times?\n",
    "\n",
    "#### How to remove these animals from the dataframes?"
   ]
  },
  {
   "cell_type": "code",
   "execution_count": null,
   "metadata": {
    "collapsed": true
   },
   "outputs": [],
   "source": []
  },
  {
   "cell_type": "markdown",
   "metadata": {},
   "source": [
    "# Things to do next:\n",
    "\n",
    "- Remove the animals that are repeatedly taken in and adopted from the intake and outcome dataframes\n",
    "- Do the analysis separately on these grooups of animals"
   ]
  },
  {
   "cell_type": "code",
   "execution_count": 124,
   "metadata": {
    "collapsed": false
   },
   "outputs": [
    {
     "data": {
      "text/html": [
       "<div>\n",
       "<table border=\"1\" class=\"dataframe\">\n",
       "  <thead>\n",
       "    <tr style=\"text-align: right;\">\n",
       "      <th></th>\n",
       "      <th>Animal ID</th>\n",
       "      <th>Name</th>\n",
       "      <th>DateTime</th>\n",
       "      <th>MonthYear</th>\n",
       "      <th>Found Location</th>\n",
       "      <th>Intake Type</th>\n",
       "      <th>Intake Condition</th>\n",
       "      <th>Animal Type</th>\n",
       "      <th>Sex upon Intake</th>\n",
       "      <th>Age upon Intake</th>\n",
       "      <th>Breed</th>\n",
       "      <th>Color</th>\n",
       "    </tr>\n",
       "  </thead>\n",
       "  <tbody>\n",
       "    <tr>\n",
       "      <th>11047</th>\n",
       "      <td>A592454</td>\n",
       "      <td>*Mabel</td>\n",
       "      <td>05/23/2014 05:00:00 PM</td>\n",
       "      <td>05/23/2014 05:00:00 PM</td>\n",
       "      <td>1724 Bunche Rd in Austin (TX)</td>\n",
       "      <td>Stray</td>\n",
       "      <td>Normal</td>\n",
       "      <td>Dog</td>\n",
       "      <td>Spayed Female</td>\n",
       "      <td>5 years</td>\n",
       "      <td>Pit Bull Mix</td>\n",
       "      <td>Brown Brindle</td>\n",
       "    </tr>\n",
       "    <tr>\n",
       "      <th>47058</th>\n",
       "      <td>A592454</td>\n",
       "      <td>*Mabel</td>\n",
       "      <td>05/02/2016 07:53:00 PM</td>\n",
       "      <td>05/02/2016 07:53:00 PM</td>\n",
       "      <td>Austin (TX)</td>\n",
       "      <td>Public Assist</td>\n",
       "      <td>Normal</td>\n",
       "      <td>Dog</td>\n",
       "      <td>Spayed Female</td>\n",
       "      <td>7 years</td>\n",
       "      <td>Pit Bull Mix</td>\n",
       "      <td>Brown Brindle</td>\n",
       "    </tr>\n",
       "  </tbody>\n",
       "</table>\n",
       "</div>"
      ],
      "text/plain": [
       "      Animal ID    Name                DateTime               MonthYear  \\\n",
       "11047   A592454  *Mabel  05/23/2014 05:00:00 PM  05/23/2014 05:00:00 PM   \n",
       "47058   A592454  *Mabel  05/02/2016 07:53:00 PM  05/02/2016 07:53:00 PM   \n",
       "\n",
       "                      Found Location    Intake Type Intake Condition  \\\n",
       "11047  1724 Bunche Rd in Austin (TX)          Stray           Normal   \n",
       "47058                    Austin (TX)  Public Assist           Normal   \n",
       "\n",
       "      Animal Type Sex upon Intake Age upon Intake         Breed          Color  \n",
       "11047         Dog   Spayed Female         5 years  Pit Bull Mix  Brown Brindle  \n",
       "47058         Dog   Spayed Female         7 years  Pit Bull Mix  Brown Brindle  "
      ]
     },
     "execution_count": 124,
     "metadata": {},
     "output_type": "execute_result"
    }
   ],
   "source": [
    "animalintakes_df[animalintakes_df[\"Animal ID\"] == 'A592454']"
   ]
  },
  {
   "cell_type": "code",
   "execution_count": 125,
   "metadata": {
    "collapsed": false
   },
   "outputs": [
    {
     "data": {
      "text/html": [
       "<div>\n",
       "<table border=\"1\" class=\"dataframe\">\n",
       "  <thead>\n",
       "    <tr style=\"text-align: right;\">\n",
       "      <th></th>\n",
       "      <th>Animal ID</th>\n",
       "      <th>Name</th>\n",
       "      <th>DateTime</th>\n",
       "      <th>MonthYear</th>\n",
       "      <th>Found Location</th>\n",
       "      <th>Intake Type</th>\n",
       "      <th>Intake Condition</th>\n",
       "      <th>Animal Type</th>\n",
       "      <th>Sex upon Intake</th>\n",
       "      <th>Age upon Intake</th>\n",
       "      <th>Breed</th>\n",
       "      <th>Color</th>\n",
       "    </tr>\n",
       "  </thead>\n",
       "  <tbody>\n",
       "    <tr>\n",
       "      <th>9571</th>\n",
       "      <td>A672093</td>\n",
       "      <td>Boss</td>\n",
       "      <td>05/03/2014 10:26:00 PM</td>\n",
       "      <td>05/03/2014 10:26:00 PM</td>\n",
       "      <td>Halmark Dr. in Austin (TX)</td>\n",
       "      <td>Stray</td>\n",
       "      <td>Normal</td>\n",
       "      <td>Dog</td>\n",
       "      <td>Intact Male</td>\n",
       "      <td>7 months</td>\n",
       "      <td>Pit Bull Mix</td>\n",
       "      <td>Tan</td>\n",
       "    </tr>\n",
       "    <tr>\n",
       "      <th>30322</th>\n",
       "      <td>A672093</td>\n",
       "      <td>Boss</td>\n",
       "      <td>06/03/2015 11:36:00 AM</td>\n",
       "      <td>06/03/2015 11:36:00 AM</td>\n",
       "      <td>Austin (TX)</td>\n",
       "      <td>Owner Surrender</td>\n",
       "      <td>Normal</td>\n",
       "      <td>Dog</td>\n",
       "      <td>Intact Male</td>\n",
       "      <td>1 year</td>\n",
       "      <td>Pit Bull Mix</td>\n",
       "      <td>Tan</td>\n",
       "    </tr>\n",
       "    <tr>\n",
       "      <th>50616</th>\n",
       "      <td>A672093</td>\n",
       "      <td>Boss</td>\n",
       "      <td>07/01/2016 08:33:00 AM</td>\n",
       "      <td>07/01/2016 08:33:00 AM</td>\n",
       "      <td>S Pleasant Valley And Riverside in Austin (TX)</td>\n",
       "      <td>Stray</td>\n",
       "      <td>Normal</td>\n",
       "      <td>Dog</td>\n",
       "      <td>Neutered Male</td>\n",
       "      <td>2 years</td>\n",
       "      <td>Pit Bull Mix</td>\n",
       "      <td>Tan</td>\n",
       "    </tr>\n",
       "  </tbody>\n",
       "</table>\n",
       "</div>"
      ],
      "text/plain": [
       "      Animal ID  Name                DateTime               MonthYear  \\\n",
       "9571    A672093  Boss  05/03/2014 10:26:00 PM  05/03/2014 10:26:00 PM   \n",
       "30322   A672093  Boss  06/03/2015 11:36:00 AM  06/03/2015 11:36:00 AM   \n",
       "50616   A672093  Boss  07/01/2016 08:33:00 AM  07/01/2016 08:33:00 AM   \n",
       "\n",
       "                                       Found Location      Intake Type  \\\n",
       "9571                       Halmark Dr. in Austin (TX)            Stray   \n",
       "30322                                     Austin (TX)  Owner Surrender   \n",
       "50616  S Pleasant Valley And Riverside in Austin (TX)            Stray   \n",
       "\n",
       "      Intake Condition Animal Type Sex upon Intake Age upon Intake  \\\n",
       "9571            Normal         Dog     Intact Male        7 months   \n",
       "30322           Normal         Dog     Intact Male          1 year   \n",
       "50616           Normal         Dog   Neutered Male         2 years   \n",
       "\n",
       "              Breed Color  \n",
       "9571   Pit Bull Mix   Tan  \n",
       "30322  Pit Bull Mix   Tan  \n",
       "50616  Pit Bull Mix   Tan  "
      ]
     },
     "execution_count": 125,
     "metadata": {},
     "output_type": "execute_result"
    }
   ],
   "source": [
    "animalintakes_df[animalintakes_df[\"Animal ID\"] == 'A672093']"
   ]
  },
  {
   "cell_type": "code",
   "execution_count": 126,
   "metadata": {
    "collapsed": false
   },
   "outputs": [
    {
     "data": {
      "text/html": [
       "<div>\n",
       "<table border=\"1\" class=\"dataframe\">\n",
       "  <thead>\n",
       "    <tr style=\"text-align: right;\">\n",
       "      <th></th>\n",
       "      <th>Animal ID</th>\n",
       "      <th>Name</th>\n",
       "      <th>DateTime</th>\n",
       "      <th>MonthYear</th>\n",
       "      <th>Found Location</th>\n",
       "      <th>Intake Type</th>\n",
       "      <th>Intake Condition</th>\n",
       "      <th>Animal Type</th>\n",
       "      <th>Sex upon Intake</th>\n",
       "      <th>Age upon Intake</th>\n",
       "      <th>Breed</th>\n",
       "      <th>Color</th>\n",
       "    </tr>\n",
       "  </thead>\n",
       "  <tbody>\n",
       "    <tr>\n",
       "      <th>6316</th>\n",
       "      <td>A673271</td>\n",
       "      <td>Tera</td>\n",
       "      <td>02/21/2014 11:54:00 AM</td>\n",
       "      <td>02/21/2014 11:54:00 AM</td>\n",
       "      <td>Austin (TX)</td>\n",
       "      <td>Owner Surrender</td>\n",
       "      <td>Normal</td>\n",
       "      <td>Dog</td>\n",
       "      <td>Intact Female</td>\n",
       "      <td>7 months</td>\n",
       "      <td>German Shepherd/Labrador Retriever</td>\n",
       "      <td>Black/Brown</td>\n",
       "    </tr>\n",
       "    <tr>\n",
       "      <th>28080</th>\n",
       "      <td>A673271</td>\n",
       "      <td>Tera</td>\n",
       "      <td>05/01/2015 04:44:00 PM</td>\n",
       "      <td>05/01/2015 04:44:00 PM</td>\n",
       "      <td>5510 South Pleasent Valley in Austin (TX)</td>\n",
       "      <td>Stray</td>\n",
       "      <td>Normal</td>\n",
       "      <td>Dog</td>\n",
       "      <td>Spayed Female</td>\n",
       "      <td>1 year</td>\n",
       "      <td>German Shepherd/Labrador Retriever</td>\n",
       "      <td>Black/Brown</td>\n",
       "    </tr>\n",
       "    <tr>\n",
       "      <th>44829</th>\n",
       "      <td>A673271</td>\n",
       "      <td>Tera</td>\n",
       "      <td>03/20/2016 06:01:00 PM</td>\n",
       "      <td>03/20/2016 06:01:00 PM</td>\n",
       "      <td>Austin (TX)</td>\n",
       "      <td>Owner Surrender</td>\n",
       "      <td>Normal</td>\n",
       "      <td>Dog</td>\n",
       "      <td>Spayed Female</td>\n",
       "      <td>2 years</td>\n",
       "      <td>German Shepherd/Labrador Retriever</td>\n",
       "      <td>Black/Brown</td>\n",
       "    </tr>\n",
       "    <tr>\n",
       "      <th>46360</th>\n",
       "      <td>A673271</td>\n",
       "      <td>Tera</td>\n",
       "      <td>04/21/2016 01:42:00 PM</td>\n",
       "      <td>04/21/2016 01:42:00 PM</td>\n",
       "      <td>Outside Jurisdiction</td>\n",
       "      <td>Owner Surrender</td>\n",
       "      <td>Normal</td>\n",
       "      <td>Dog</td>\n",
       "      <td>Spayed Female</td>\n",
       "      <td>2 years</td>\n",
       "      <td>German Shepherd/Labrador Retriever</td>\n",
       "      <td>Black/Brown</td>\n",
       "    </tr>\n",
       "    <tr>\n",
       "      <th>49291</th>\n",
       "      <td>A673271</td>\n",
       "      <td>Tera</td>\n",
       "      <td>06/06/2016 12:02:00 PM</td>\n",
       "      <td>06/06/2016 12:02:00 PM</td>\n",
       "      <td>Outside Jurisdiction</td>\n",
       "      <td>Owner Surrender</td>\n",
       "      <td>Normal</td>\n",
       "      <td>Dog</td>\n",
       "      <td>Spayed Female</td>\n",
       "      <td>2 years</td>\n",
       "      <td>German Shepherd/Labrador Retriever</td>\n",
       "      <td>Black/Brown</td>\n",
       "    </tr>\n",
       "  </tbody>\n",
       "</table>\n",
       "</div>"
      ],
      "text/plain": [
       "      Animal ID  Name                DateTime               MonthYear  \\\n",
       "6316    A673271  Tera  02/21/2014 11:54:00 AM  02/21/2014 11:54:00 AM   \n",
       "28080   A673271  Tera  05/01/2015 04:44:00 PM  05/01/2015 04:44:00 PM   \n",
       "44829   A673271  Tera  03/20/2016 06:01:00 PM  03/20/2016 06:01:00 PM   \n",
       "46360   A673271  Tera  04/21/2016 01:42:00 PM  04/21/2016 01:42:00 PM   \n",
       "49291   A673271  Tera  06/06/2016 12:02:00 PM  06/06/2016 12:02:00 PM   \n",
       "\n",
       "                                  Found Location      Intake Type  \\\n",
       "6316                                 Austin (TX)  Owner Surrender   \n",
       "28080  5510 South Pleasent Valley in Austin (TX)            Stray   \n",
       "44829                                Austin (TX)  Owner Surrender   \n",
       "46360                       Outside Jurisdiction  Owner Surrender   \n",
       "49291                       Outside Jurisdiction  Owner Surrender   \n",
       "\n",
       "      Intake Condition Animal Type Sex upon Intake Age upon Intake  \\\n",
       "6316            Normal         Dog   Intact Female        7 months   \n",
       "28080           Normal         Dog   Spayed Female          1 year   \n",
       "44829           Normal         Dog   Spayed Female         2 years   \n",
       "46360           Normal         Dog   Spayed Female         2 years   \n",
       "49291           Normal         Dog   Spayed Female         2 years   \n",
       "\n",
       "                                    Breed        Color  \n",
       "6316   German Shepherd/Labrador Retriever  Black/Brown  \n",
       "28080  German Shepherd/Labrador Retriever  Black/Brown  \n",
       "44829  German Shepherd/Labrador Retriever  Black/Brown  \n",
       "46360  German Shepherd/Labrador Retriever  Black/Brown  \n",
       "49291  German Shepherd/Labrador Retriever  Black/Brown  "
      ]
     },
     "execution_count": 126,
     "metadata": {},
     "output_type": "execute_result"
    }
   ],
   "source": [
    "animalintakes_df[animalintakes_df[\"Animal ID\"] == 'A673271']"
   ]
  },
  {
   "cell_type": "code",
   "execution_count": 127,
   "metadata": {
    "collapsed": false
   },
   "outputs": [
    {
     "data": {
      "text/html": [
       "<div>\n",
       "<table border=\"1\" class=\"dataframe\">\n",
       "  <thead>\n",
       "    <tr style=\"text-align: right;\">\n",
       "      <th></th>\n",
       "      <th>Animal ID</th>\n",
       "      <th>Name</th>\n",
       "      <th>DateTime</th>\n",
       "      <th>MonthYear</th>\n",
       "      <th>Found Location</th>\n",
       "      <th>Intake Type</th>\n",
       "      <th>Intake Condition</th>\n",
       "      <th>Animal Type</th>\n",
       "      <th>Sex upon Intake</th>\n",
       "      <th>Age upon Intake</th>\n",
       "      <th>Breed</th>\n",
       "      <th>Color</th>\n",
       "    </tr>\n",
       "  </thead>\n",
       "  <tbody>\n",
       "    <tr>\n",
       "      <th>7615</th>\n",
       "      <td>A675019</td>\n",
       "      <td>Scout</td>\n",
       "      <td>03/21/2014 03:00:00 PM</td>\n",
       "      <td>03/21/2014 03:00:00 PM</td>\n",
       "      <td>300 E 11Th St in Austin (TX)</td>\n",
       "      <td>Stray</td>\n",
       "      <td>Normal</td>\n",
       "      <td>Dog</td>\n",
       "      <td>Neutered Male</td>\n",
       "      <td>1 year</td>\n",
       "      <td>Labrador Retriever Mix</td>\n",
       "      <td>Red/White</td>\n",
       "    </tr>\n",
       "    <tr>\n",
       "      <th>43527</th>\n",
       "      <td>A675019</td>\n",
       "      <td>Scout</td>\n",
       "      <td>02/20/2016 02:03:00 PM</td>\n",
       "      <td>02/20/2016 02:03:00 PM</td>\n",
       "      <td>3211 Panorama Vista Dr in Austin (TX)</td>\n",
       "      <td>Stray</td>\n",
       "      <td>Normal</td>\n",
       "      <td>Dog</td>\n",
       "      <td>Neutered Male</td>\n",
       "      <td>3 years</td>\n",
       "      <td>Labrador Retriever Mix</td>\n",
       "      <td>Red/White</td>\n",
       "    </tr>\n",
       "  </tbody>\n",
       "</table>\n",
       "</div>"
      ],
      "text/plain": [
       "      Animal ID   Name                DateTime               MonthYear  \\\n",
       "7615    A675019  Scout  03/21/2014 03:00:00 PM  03/21/2014 03:00:00 PM   \n",
       "43527   A675019  Scout  02/20/2016 02:03:00 PM  02/20/2016 02:03:00 PM   \n",
       "\n",
       "                              Found Location Intake Type Intake Condition  \\\n",
       "7615            300 E 11Th St in Austin (TX)       Stray           Normal   \n",
       "43527  3211 Panorama Vista Dr in Austin (TX)       Stray           Normal   \n",
       "\n",
       "      Animal Type Sex upon Intake Age upon Intake                   Breed  \\\n",
       "7615          Dog   Neutered Male          1 year  Labrador Retriever Mix   \n",
       "43527         Dog   Neutered Male         3 years  Labrador Retriever Mix   \n",
       "\n",
       "           Color  \n",
       "7615   Red/White  \n",
       "43527  Red/White  "
      ]
     },
     "execution_count": 127,
     "metadata": {},
     "output_type": "execute_result"
    }
   ],
   "source": [
    "animalintakes_df[animalintakes_df[\"Animal ID\"] == 'A675019']"
   ]
  },
  {
   "cell_type": "code",
   "execution_count": 128,
   "metadata": {
    "collapsed": false
   },
   "outputs": [
    {
     "data": {
      "text/html": [
       "<div>\n",
       "<table border=\"1\" class=\"dataframe\">\n",
       "  <thead>\n",
       "    <tr style=\"text-align: right;\">\n",
       "      <th></th>\n",
       "      <th>Animal ID</th>\n",
       "      <th>Name</th>\n",
       "      <th>DateTime</th>\n",
       "      <th>MonthYear</th>\n",
       "      <th>Found Location</th>\n",
       "      <th>Intake Type</th>\n",
       "      <th>Intake Condition</th>\n",
       "      <th>Animal Type</th>\n",
       "      <th>Sex upon Intake</th>\n",
       "      <th>Age upon Intake</th>\n",
       "      <th>Breed</th>\n",
       "      <th>Color</th>\n",
       "    </tr>\n",
       "  </thead>\n",
       "  <tbody>\n",
       "    <tr>\n",
       "      <th>48993</th>\n",
       "      <td>A715661</td>\n",
       "      <td>*Treble</td>\n",
       "      <td>06/01/2016 11:40:00 AM</td>\n",
       "      <td>06/01/2016 11:40:00 AM</td>\n",
       "      <td>1012 Arthur Stiles in Austin (TX)</td>\n",
       "      <td>Stray</td>\n",
       "      <td>Normal</td>\n",
       "      <td>Dog</td>\n",
       "      <td>Intact Female</td>\n",
       "      <td>1 year</td>\n",
       "      <td>Pit Bull Mix</td>\n",
       "      <td>Brown Brindle/White</td>\n",
       "    </tr>\n",
       "  </tbody>\n",
       "</table>\n",
       "</div>"
      ],
      "text/plain": [
       "      Animal ID     Name                DateTime               MonthYear  \\\n",
       "48993   A715661  *Treble  06/01/2016 11:40:00 AM  06/01/2016 11:40:00 AM   \n",
       "\n",
       "                          Found Location Intake Type Intake Condition  \\\n",
       "48993  1012 Arthur Stiles in Austin (TX)       Stray           Normal   \n",
       "\n",
       "      Animal Type Sex upon Intake Age upon Intake         Breed  \\\n",
       "48993         Dog   Intact Female          1 year  Pit Bull Mix   \n",
       "\n",
       "                     Color  \n",
       "48993  Brown Brindle/White  "
      ]
     },
     "execution_count": 128,
     "metadata": {},
     "output_type": "execute_result"
    }
   ],
   "source": [
    "animalintakes_df[animalintakes_df[\"Animal ID\"] == 'A715661']"
   ]
  },
  {
   "cell_type": "code",
   "execution_count": null,
   "metadata": {
    "collapsed": true
   },
   "outputs": [],
   "source": [
    "animalintakes_df[animalintakes_df[\"Animal ID\"] == 'A592454']"
   ]
  },
  {
   "cell_type": "code",
   "execution_count": null,
   "metadata": {
    "collapsed": true
   },
   "outputs": [],
   "source": [
    "animalintakes_df[animalintakes_df[\"Animal ID\"] == 'A592454']"
   ]
  }
 ],
 "metadata": {
  "kernelspec": {
   "display_name": "Python 2",
   "language": "python",
   "name": "python2"
  },
  "language_info": {
   "codemirror_mode": {
    "name": "ipython",
    "version": 2
   },
   "file_extension": ".py",
   "mimetype": "text/x-python",
   "name": "python",
   "nbconvert_exporter": "python",
   "pygments_lexer": "ipython2",
   "version": "2.7.11"
  }
 },
 "nbformat": 4,
 "nbformat_minor": 0
}
