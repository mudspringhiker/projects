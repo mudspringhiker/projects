{
 "cells": [
  {
   "cell_type": "markdown",
   "metadata": {},
   "source": [
    "# Problem Set 3"
   ]
  },
  {
   "cell_type": "markdown",
   "metadata": {},
   "source": [
    "Let's assume that you combined the code from the previous 2 exercises with code\n",
    "from the lesson on how to build requests, and downloaded all the data locally.\n",
    "The files are in a directory \"data\", named after the carrier and airport:\n",
    "\"{}-{}.html\".format(carrier, airport), for example \"FL-ATL.html\".\n",
    "\n",
    "The table with flight info has a table class=\"dataTDRight\". Your task is to\n",
    "extract the flight data from that table as a list of dictionaries, each\n",
    "dictionary containing relevant data from the file and table row. This is an\n",
    "example of the data structure you should return:\n",
    "\n",
    "data = [{\"courier\": \"FL\",\n",
    "         \"airport\": \"ATL\",\n",
    "         \"year\": 2012,\n",
    "         \"month\": 12,\n",
    "         \"flights\": {\"domestic\": 100,\n",
    "                     \"international\": 100}\n",
    "        },\n",
    "         {\"courier\": \"...\"}\n",
    "]\n",
    "\n",
    "Note - year, month, and the flight data should be integers.\n",
    "You should skip the rows that contain the TOTAL data for a year.\n",
    "\n",
    "There are couple of helper functions to deal with the data files.\n",
    "Please do not change them for grading purposes.\n",
    "All your changes should be in the 'process_file' function."
   ]
  },
  {
   "cell_type": "code",
   "execution_count": 1,
   "metadata": {
    "collapsed": true
   },
   "outputs": [],
   "source": [
    "from bs4 import BeautifulSoup"
   ]
  },
  {
   "cell_type": "code",
   "execution_count": 2,
   "metadata": {
    "collapsed": true
   },
   "outputs": [],
   "source": [
    "datadir = 'data'"
   ]
  },
  {
   "cell_type": "code",
   "execution_count": 3,
   "metadata": {
    "collapsed": true
   },
   "outputs": [],
   "source": [
    "f = 'FL-ATL.html'"
   ]
  },
  {
   "cell_type": "code",
   "execution_count": 5,
   "metadata": {
    "collapsed": false
   },
   "outputs": [],
   "source": [
    "with open(\"{}/{}\".format(datadir, f), \"r\") as html:\n",
    "    soup = BeautifulSoup(html, 'lxml')"
   ]
  },
  {
   "cell_type": "code",
   "execution_count": 26,
   "metadata": {
    "collapsed": true
   },
   "outputs": [],
   "source": [
    "data = []"
   ]
  },
  {
   "cell_type": "code",
   "execution_count": 27,
   "metadata": {
    "collapsed": true
   },
   "outputs": [],
   "source": [
    "info = {}"
   ]
  },
  {
   "cell_type": "code",
   "execution_count": 28,
   "metadata": {
    "collapsed": true
   },
   "outputs": [],
   "source": [
    "info[\"courier\"], info[\"airport\"] = f[:6].split('-')"
   ]
  },
  {
   "cell_type": "code",
   "execution_count": 29,
   "metadata": {
    "collapsed": false
   },
   "outputs": [
    {
     "data": {
      "text/plain": [
       "{'airport': 'ATL', 'courier': 'FL'}"
      ]
     },
     "execution_count": 29,
     "metadata": {},
     "output_type": "execute_result"
    }
   ],
   "source": [
    "info"
   ]
  },
  {
   "cell_type": "code",
   "execution_count": 10,
   "metadata": {
    "collapsed": false
   },
   "outputs": [
    {
     "data": {
      "text/plain": [
       "<table border=\"1\" cellpadding=\"4\" cellspacing=\"1\" class=\"dataTDRight\" id=\"DataGrid1\" rules=\"all\" style=\"width:750px;\">\\n<tr class=\"libraryTHY2_Center\" style=\"color:White;background-color:#5D95C9;\">\\n<td>Year</td><td>Month</td><td>DOMESTIC</td><td>INTERNATIONAL</td><td>TOTAL</td>\\n</tr><tr class=\"dataTDRight\">\\n<td style=\"font-family: Verdana, Geneva, Arial, Helvetica, sans-serif;\">2002</td><td style=\"font-family: Verdana, Geneva, Arial, Helvetica, sans-serif;\">10</td><td style=\"font-family: Verdana, Geneva, Arial, Helvetica, sans-serif;\">815,489</td><td style=\"font-family: Verdana, Geneva, Arial, Helvetica, sans-serif;\">92,565</td><td style=\"font-family: Verdana, Geneva, Arial, Helvetica, sans-serif;\">908,054</td>\\n</tr><tr class=\"dataTDRight\" style=\"background-color:#EFEFEF;\">\\n<td style=\"font-family: Verdana, Geneva, Arial, Helvetica, sans-serif;\">2002</td><td style=\"font-family: Verdana, Geneva, Arial, Helvetica, sans-serif;\">11</td><td style=\"font-family: Verdana, Geneva, Arial, Helvetica, sans-serif;\">766,775</td><td style=\"font-family: Verdana, Geneva, Arial, Helvetica, sans-serif;\">91,342</td><td style=\"font-family: Verdana, Geneva, Arial, Helvetica, sans-serif;\">858,117</td>\\n</tr><tr class=\"dataTDRight\">\\n<td style=\"font-family: Verdana, Geneva, Arial, Helvetica, sans-serif;\">2002</td><td style=\"font-family: Verdana, Geneva, Arial, Helvetica, sans-serif;\">12</td><td style=\"font-family: Verdana, Geneva, Arial, Helvetica, sans-serif;\">782,175</td><td style=\"font-family: Verdana, Geneva, Arial, Helvetica, sans-serif;\">96,881</td><td style=\"font-family: Verdana, Geneva, Arial, Helvetica, sans-serif;\">879,056</td>\\n</tr><tr class=\"dataTDRight\" style=\"background-color:LightYellow;\">\\n<td style=\"font-family: Verdana, Geneva, Arial, Helvetica, sans-serif;\"><b>2002</b></td><td style=\"font-family: Verdana, Geneva, Arial, Helvetica, sans-serif;\"><b>TOTAL</b></td><td style=\"font-family: Verdana, Geneva, Arial, Helvetica, sans-serif;\"><b>8,085,083</b></td><td style=\"font-family: Verdana, Geneva, Arial, Helvetica, sans-serif;\"><b>1,023,994</b></td><td style=\"font-family: Verdana, Geneva, Arial, Helvetica, sans-serif;\"><b>9,109,077</b></td>\\n</tr>\\n</table>"
      ]
     },
     "execution_count": 10,
     "metadata": {},
     "output_type": "execute_result"
    }
   ],
   "source": [
    "table = soup.find('table', class_='dataTDRight')\n",
    "table"
   ]
  },
  {
   "cell_type": "code",
   "execution_count": 11,
   "metadata": {
    "collapsed": false
   },
   "outputs": [],
   "source": [
    "rows = soup.table('tr', class_='dataTDRight')"
   ]
  },
  {
   "cell_type": "code",
   "execution_count": 12,
   "metadata": {
    "collapsed": false
   },
   "outputs": [
    {
     "data": {
      "text/plain": [
       "[<tr class=\"dataTDRight\">\\n<td style=\"font-family: Verdana, Geneva, Arial, Helvetica, sans-serif;\">2002</td><td style=\"font-family: Verdana, Geneva, Arial, Helvetica, sans-serif;\">10</td><td style=\"font-family: Verdana, Geneva, Arial, Helvetica, sans-serif;\">815,489</td><td style=\"font-family: Verdana, Geneva, Arial, Helvetica, sans-serif;\">92,565</td><td style=\"font-family: Verdana, Geneva, Arial, Helvetica, sans-serif;\">908,054</td>\\n</tr>,\n",
       " <tr class=\"dataTDRight\" style=\"background-color:#EFEFEF;\">\\n<td style=\"font-family: Verdana, Geneva, Arial, Helvetica, sans-serif;\">2002</td><td style=\"font-family: Verdana, Geneva, Arial, Helvetica, sans-serif;\">11</td><td style=\"font-family: Verdana, Geneva, Arial, Helvetica, sans-serif;\">766,775</td><td style=\"font-family: Verdana, Geneva, Arial, Helvetica, sans-serif;\">91,342</td><td style=\"font-family: Verdana, Geneva, Arial, Helvetica, sans-serif;\">858,117</td>\\n</tr>,\n",
       " <tr class=\"dataTDRight\">\\n<td style=\"font-family: Verdana, Geneva, Arial, Helvetica, sans-serif;\">2002</td><td style=\"font-family: Verdana, Geneva, Arial, Helvetica, sans-serif;\">12</td><td style=\"font-family: Verdana, Geneva, Arial, Helvetica, sans-serif;\">782,175</td><td style=\"font-family: Verdana, Geneva, Arial, Helvetica, sans-serif;\">96,881</td><td style=\"font-family: Verdana, Geneva, Arial, Helvetica, sans-serif;\">879,056</td>\\n</tr>,\n",
       " <tr class=\"dataTDRight\" style=\"background-color:LightYellow;\">\\n<td style=\"font-family: Verdana, Geneva, Arial, Helvetica, sans-serif;\"><b>2002</b></td><td style=\"font-family: Verdana, Geneva, Arial, Helvetica, sans-serif;\"><b>TOTAL</b></td><td style=\"font-family: Verdana, Geneva, Arial, Helvetica, sans-serif;\"><b>8,085,083</b></td><td style=\"font-family: Verdana, Geneva, Arial, Helvetica, sans-serif;\"><b>1,023,994</b></td><td style=\"font-family: Verdana, Geneva, Arial, Helvetica, sans-serif;\"><b>9,109,077</b></td>\\n</tr>]"
      ]
     },
     "execution_count": 12,
     "metadata": {},
     "output_type": "execute_result"
    }
   ],
   "source": [
    "rows"
   ]
  },
  {
   "cell_type": "code",
   "execution_count": 13,
   "metadata": {
    "collapsed": false
   },
   "outputs": [],
   "source": [
    "updatedrows = rows[:-1]"
   ]
  },
  {
   "cell_type": "code",
   "execution_count": 14,
   "metadata": {
    "collapsed": false
   },
   "outputs": [
    {
     "data": {
      "text/plain": [
       "[<tr class=\"dataTDRight\">\\n<td style=\"font-family: Verdana, Geneva, Arial, Helvetica, sans-serif;\">2002</td><td style=\"font-family: Verdana, Geneva, Arial, Helvetica, sans-serif;\">10</td><td style=\"font-family: Verdana, Geneva, Arial, Helvetica, sans-serif;\">815,489</td><td style=\"font-family: Verdana, Geneva, Arial, Helvetica, sans-serif;\">92,565</td><td style=\"font-family: Verdana, Geneva, Arial, Helvetica, sans-serif;\">908,054</td>\\n</tr>,\n",
       " <tr class=\"dataTDRight\" style=\"background-color:#EFEFEF;\">\\n<td style=\"font-family: Verdana, Geneva, Arial, Helvetica, sans-serif;\">2002</td><td style=\"font-family: Verdana, Geneva, Arial, Helvetica, sans-serif;\">11</td><td style=\"font-family: Verdana, Geneva, Arial, Helvetica, sans-serif;\">766,775</td><td style=\"font-family: Verdana, Geneva, Arial, Helvetica, sans-serif;\">91,342</td><td style=\"font-family: Verdana, Geneva, Arial, Helvetica, sans-serif;\">858,117</td>\\n</tr>,\n",
       " <tr class=\"dataTDRight\">\\n<td style=\"font-family: Verdana, Geneva, Arial, Helvetica, sans-serif;\">2002</td><td style=\"font-family: Verdana, Geneva, Arial, Helvetica, sans-serif;\">12</td><td style=\"font-family: Verdana, Geneva, Arial, Helvetica, sans-serif;\">782,175</td><td style=\"font-family: Verdana, Geneva, Arial, Helvetica, sans-serif;\">96,881</td><td style=\"font-family: Verdana, Geneva, Arial, Helvetica, sans-serif;\">879,056</td>\\n</tr>]"
      ]
     },
     "execution_count": 14,
     "metadata": {},
     "output_type": "execute_result"
    }
   ],
   "source": [
    "updatedrows"
   ]
  },
  {
   "cell_type": "code",
   "execution_count": 30,
   "metadata": {
    "collapsed": false
   },
   "outputs": [],
   "source": [
    "for row in updatedrows:\n",
    "    cells = row.find_all('td')\n",
    "    info = {\"courier\" : info[\"courier\"],\n",
    "            \"airport\" : info[\"airport\"],\n",
    "            \"Year\" : int(cells[0].text),\n",
    "            \"Month\" : int(cells[1].text),\n",
    "            \"flights\" : {\"domestic\" : int(cells[2].text.replace(',', '')),\n",
    "                         \"international\" : int(cells[3].text.replace(',',''))}}\n",
    "    data.append(info)"
   ]
  },
  {
   "cell_type": "code",
   "execution_count": 31,
   "metadata": {
    "collapsed": false
   },
   "outputs": [
    {
     "data": {
      "text/plain": [
       "[{'Month': 10,\n",
       "  'Year': 2002,\n",
       "  'airport': 'ATL',\n",
       "  'courier': 'FL',\n",
       "  'flights': {'domestic': 815489, 'international': 92565}},\n",
       " {'Month': 11,\n",
       "  'Year': 2002,\n",
       "  'airport': 'ATL',\n",
       "  'courier': 'FL',\n",
       "  'flights': {'domestic': 766775, 'international': 91342}},\n",
       " {'Month': 12,\n",
       "  'Year': 2002,\n",
       "  'airport': 'ATL',\n",
       "  'courier': 'FL',\n",
       "  'flights': {'domestic': 782175, 'international': 96881}}]"
      ]
     },
     "execution_count": 31,
     "metadata": {},
     "output_type": "execute_result"
    }
   ],
   "source": [
    "data"
   ]
  },
  {
   "cell_type": "code",
   "execution_count": null,
   "metadata": {
    "collapsed": true
   },
   "outputs": [],
   "source": []
  }
 ],
 "metadata": {
  "kernelspec": {
   "display_name": "Python 2",
   "language": "python",
   "name": "python2"
  },
  "language_info": {
   "codemirror_mode": {
    "name": "ipython",
    "version": 2
   },
   "file_extension": ".py",
   "mimetype": "text/x-python",
   "name": "python",
   "nbconvert_exporter": "python",
   "pygments_lexer": "ipython2",
   "version": "2.7.11"
  }
 },
 "nbformat": 4,
 "nbformat_minor": 0
}
